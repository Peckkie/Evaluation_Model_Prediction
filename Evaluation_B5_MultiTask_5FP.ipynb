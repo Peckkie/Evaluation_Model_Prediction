{
 "cells": [
  {
   "cell_type": "code",
   "execution_count": 1,
   "metadata": {},
   "outputs": [],
   "source": [
    "import os\n",
    "import numpy as np\n",
    "import efficientnet.tfkeras\n",
    "from tensorflow.keras.models import load_model\n",
    "os.environ[\"CUDA_VISIBLE_DEVICES\"]=\" \""
   ]
  },
  {
   "cell_type": "markdown",
   "metadata": {},
   "source": [
    "# load model"
   ]
  },
  {
   "cell_type": "code",
   "execution_count": 2,
   "metadata": {},
   "outputs": [
    {
     "name": "stdout",
     "output_type": "stream",
     "text": [
      "WARNING:tensorflow:No training configuration found in the save file, so the model was *not* compiled. Compile it manually.\n"
     ]
    }
   ],
   "source": [
    "model_dir ='/media/tohn/SSD/ModelTrainByImages/R2_3/models/MultiTask_EffNetB5_15AB_5FP_fold3_1.h5'\n",
    "model = load_model(model_dir)\n",
    "height = width = model.input_shape[1]"
   ]
  },
  {
   "cell_type": "markdown",
   "metadata": {},
   "source": [
    "# Select Data"
   ]
  },
  {
   "cell_type": "code",
   "execution_count": 3,
   "metadata": {},
   "outputs": [
    {
     "name": "stdout",
     "output_type": "stream",
     "text": [
      "(659, 25)\n",
      "(659, 25)\n",
      "Normal:  (431, 25)\n",
      "Abnormal:  (228, 25)\n"
     ]
    },
    {
     "data": {
      "text/html": [
       "<div>\n",
       "<style scoped>\n",
       "    .dataframe tbody tr th:only-of-type {\n",
       "        vertical-align: middle;\n",
       "    }\n",
       "\n",
       "    .dataframe tbody tr th {\n",
       "        vertical-align: top;\n",
       "    }\n",
       "\n",
       "    .dataframe thead th {\n",
       "        text-align: right;\n",
       "    }\n",
       "</style>\n",
       "<table border=\"1\" class=\"dataframe\">\n",
       "  <thead>\n",
       "    <tr style=\"text-align: right;\">\n",
       "      <th></th>\n",
       "      <th>Unnamed: 0</th>\n",
       "      <th>Unnamed: 0.1</th>\n",
       "      <th>Unnamed: 0.1.1</th>\n",
       "      <th>Unnamed: 0.1.1.1</th>\n",
       "      <th>Case</th>\n",
       "      <th>Abs Position</th>\n",
       "      <th>Sub Position</th>\n",
       "      <th>Class</th>\n",
       "      <th>Sub_class</th>\n",
       "      <th>Path Full</th>\n",
       "      <th>...</th>\n",
       "      <th>left</th>\n",
       "      <th>top</th>\n",
       "      <th>width</th>\n",
       "      <th>height</th>\n",
       "      <th>Rleft</th>\n",
       "      <th>Rtop</th>\n",
       "      <th>Rwidth</th>\n",
       "      <th>Rheight</th>\n",
       "      <th>FileName</th>\n",
       "      <th>filename</th>\n",
       "    </tr>\n",
       "  </thead>\n",
       "  <tbody>\n",
       "    <tr>\n",
       "      <th>0</th>\n",
       "      <td>0</td>\n",
       "      <td>0</td>\n",
       "      <td>53</td>\n",
       "      <td>53</td>\n",
       "      <td>22</td>\n",
       "      <td>P2</td>\n",
       "      <td>P2</td>\n",
       "      <td>Abnormal</td>\n",
       "      <td>AB01</td>\n",
       "      <td>/media/tohn/HDD/VISION_dataset/USAI/ABnormal01...</td>\n",
       "      <td>...</td>\n",
       "      <td>224.0</td>\n",
       "      <td>146.0</td>\n",
       "      <td>593.0</td>\n",
       "      <td>514.0</td>\n",
       "      <td>0.227687</td>\n",
       "      <td>0.162817</td>\n",
       "      <td>0.602914</td>\n",
       "      <td>0.571713</td>\n",
       "      <td>AB01 P2 C022.JPG</td>\n",
       "      <td>AB01 P2 C022.JPG</td>\n",
       "    </tr>\n",
       "    <tr>\n",
       "      <th>1</th>\n",
       "      <td>1</td>\n",
       "      <td>1</td>\n",
       "      <td>54</td>\n",
       "      <td>54</td>\n",
       "      <td>22</td>\n",
       "      <td>P1</td>\n",
       "      <td>P1</td>\n",
       "      <td>Abnormal</td>\n",
       "      <td>AB01</td>\n",
       "      <td>/media/tohn/HDD/VISION_dataset/USAI/ABnormal01...</td>\n",
       "      <td>...</td>\n",
       "      <td>200.0</td>\n",
       "      <td>141.0</td>\n",
       "      <td>589.0</td>\n",
       "      <td>501.0</td>\n",
       "      <td>0.201802</td>\n",
       "      <td>0.156841</td>\n",
       "      <td>0.592793</td>\n",
       "      <td>0.557769</td>\n",
       "      <td>AB01 P1 C022.JPG</td>\n",
       "      <td>AB01 P1 C022.JPG</td>\n",
       "    </tr>\n",
       "    <tr>\n",
       "      <th>2</th>\n",
       "      <td>2</td>\n",
       "      <td>2</td>\n",
       "      <td>55</td>\n",
       "      <td>55</td>\n",
       "      <td>22</td>\n",
       "      <td>P4</td>\n",
       "      <td>P42</td>\n",
       "      <td>Abnormal</td>\n",
       "      <td>AB01</td>\n",
       "      <td>/media/tohn/HDD/VISION_dataset/USAI/ABnormal01...</td>\n",
       "      <td>...</td>\n",
       "      <td>138.0</td>\n",
       "      <td>155.0</td>\n",
       "      <td>635.0</td>\n",
       "      <td>632.0</td>\n",
       "      <td>0.142066</td>\n",
       "      <td>0.172778</td>\n",
       "      <td>0.653137</td>\n",
       "      <td>0.703187</td>\n",
       "      <td>AB01 P4-2 C022.JPG</td>\n",
       "      <td>AB01 P4-2 C022.JPG</td>\n",
       "    </tr>\n",
       "    <tr>\n",
       "      <th>3</th>\n",
       "      <td>3</td>\n",
       "      <td>3</td>\n",
       "      <td>56</td>\n",
       "      <td>56</td>\n",
       "      <td>22</td>\n",
       "      <td>P3</td>\n",
       "      <td>P31</td>\n",
       "      <td>Abnormal</td>\n",
       "      <td>AB01</td>\n",
       "      <td>/media/tohn/HDD/VISION_dataset/USAI/ABnormal01...</td>\n",
       "      <td>...</td>\n",
       "      <td>145.0</td>\n",
       "      <td>141.0</td>\n",
       "      <td>693.0</td>\n",
       "      <td>675.0</td>\n",
       "      <td>0.146209</td>\n",
       "      <td>0.156841</td>\n",
       "      <td>0.698556</td>\n",
       "      <td>0.750996</td>\n",
       "      <td>AB01 P3-1 C022.JPG</td>\n",
       "      <td>AB01 P3-1 C022.JPG</td>\n",
       "    </tr>\n",
       "    <tr>\n",
       "      <th>4</th>\n",
       "      <td>4</td>\n",
       "      <td>4</td>\n",
       "      <td>57</td>\n",
       "      <td>57</td>\n",
       "      <td>22</td>\n",
       "      <td>P4</td>\n",
       "      <td>P41</td>\n",
       "      <td>Abnormal</td>\n",
       "      <td>AB01</td>\n",
       "      <td>/media/tohn/HDD/VISION_dataset/USAI/ABnormal01...</td>\n",
       "      <td>...</td>\n",
       "      <td>229.0</td>\n",
       "      <td>142.0</td>\n",
       "      <td>659.0</td>\n",
       "      <td>632.0</td>\n",
       "      <td>0.228164</td>\n",
       "      <td>0.158833</td>\n",
       "      <td>0.655971</td>\n",
       "      <td>0.703187</td>\n",
       "      <td>AB01 P4-1 C022.JPG</td>\n",
       "      <td>AB01 P4-1 C022.JPG</td>\n",
       "    </tr>\n",
       "  </tbody>\n",
       "</table>\n",
       "<p>5 rows × 25 columns</p>\n",
       "</div>"
      ],
      "text/plain": [
       "   Unnamed: 0  Unnamed: 0.1  Unnamed: 0.1.1  Unnamed: 0.1.1.1  Case  \\\n",
       "0           0             0              53                53    22   \n",
       "1           1             1              54                54    22   \n",
       "2           2             2              55                55    22   \n",
       "3           3             3              56                56    22   \n",
       "4           4             4              57                57    22   \n",
       "\n",
       "  Abs Position Sub Position     Class Sub_class  \\\n",
       "0           P2           P2  Abnormal      AB01   \n",
       "1           P1           P1  Abnormal      AB01   \n",
       "2           P4          P42  Abnormal      AB01   \n",
       "3           P3          P31  Abnormal      AB01   \n",
       "4           P4          P41  Abnormal      AB01   \n",
       "\n",
       "                                           Path Full  ...   left    top  \\\n",
       "0  /media/tohn/HDD/VISION_dataset/USAI/ABnormal01...  ...  224.0  146.0   \n",
       "1  /media/tohn/HDD/VISION_dataset/USAI/ABnormal01...  ...  200.0  141.0   \n",
       "2  /media/tohn/HDD/VISION_dataset/USAI/ABnormal01...  ...  138.0  155.0   \n",
       "3  /media/tohn/HDD/VISION_dataset/USAI/ABnormal01...  ...  145.0  141.0   \n",
       "4  /media/tohn/HDD/VISION_dataset/USAI/ABnormal01...  ...  229.0  142.0   \n",
       "\n",
       "   width height     Rleft      Rtop    Rwidth   Rheight            FileName  \\\n",
       "0  593.0  514.0  0.227687  0.162817  0.602914  0.571713    AB01 P2 C022.JPG   \n",
       "1  589.0  501.0  0.201802  0.156841  0.592793  0.557769    AB01 P1 C022.JPG   \n",
       "2  635.0  632.0  0.142066  0.172778  0.653137  0.703187  AB01 P4-2 C022.JPG   \n",
       "3  693.0  675.0  0.146209  0.156841  0.698556  0.750996  AB01 P3-1 C022.JPG   \n",
       "4  659.0  632.0  0.228164  0.158833  0.655971  0.703187  AB01 P4-1 C022.JPG   \n",
       "\n",
       "             filename  \n",
       "0    AB01 P2 C022.JPG  \n",
       "1    AB01 P1 C022.JPG  \n",
       "2  AB01 P4-2 C022.JPG  \n",
       "3  AB01 P3-1 C022.JPG  \n",
       "4  AB01 P4-1 C022.JPG  \n",
       "\n",
       "[5 rows x 25 columns]"
      ]
     },
     "execution_count": 3,
     "metadata": {},
     "output_type": "execute_result"
    }
   ],
   "source": [
    "import pandas as pd\n",
    "df0 = pd.read_csv (r'/home/yupaporn/codes/USAI/Validationdf_fold3.csv')\n",
    "print(df0 .shape)\n",
    "dataframe = df0[(df0['Path Crop']!='None' )&(df0['Path Crop']!='Nan')]\n",
    "print(dataframe.shape)\n",
    "print('Normal: ',dataframe[dataframe['Class']=='Normal'].shape)\n",
    "print('Abnormal: ',dataframe[dataframe['Class']=='Abnormal'].shape)\n",
    "dataframe.head(5)"
   ]
  },
  {
   "cell_type": "code",
   "execution_count": 4,
   "metadata": {},
   "outputs": [
    {
     "name": "stdout",
     "output_type": "stream",
     "text": [
      "{0: 'FP-A', 1: 'FP-B', 2: 'FP-C', 3: 'FP-D', 4: 'FP-E'}\n"
     ]
    }
   ],
   "source": [
    "labels = {0: 'FP-A', 1: 'FP-B', 2: 'FP-C', 3: 'FP-D', 4: 'FP-E'}\n",
    "print(labels)"
   ]
  },
  {
   "cell_type": "markdown",
   "metadata": {},
   "source": [
    "# Prediction"
   ]
  },
  {
   "cell_type": "code",
   "execution_count": 5,
   "metadata": {},
   "outputs": [],
   "source": [
    "from tensorflow.keras.preprocessing import image\n",
    "def predict_image(img_path):\n",
    "    # Read the image and resize it\n",
    "    img = image.load_img(img_path, target_size=(height, width))\n",
    "    # Convert it to a Numpy array with target shape.\n",
    "    x = image.img_to_array(img)\n",
    "    # Reshape\n",
    "    x = x.reshape((1,) + x.shape)\n",
    "    x /= 255.\n",
    "    result = model.predict([x])\n",
    "    \n",
    "    return result[1][0]\n",
    "\n",
    "#Predict\n",
    "pred_list = list()\n",
    "prob_list = list()\n",
    "img_path=dataframe['Path Crop'].tolist()\n",
    "for i in range(0,len(img_path)):\n",
    "    predict = predict_image(img_path[i])\n",
    "    result = np.argmax(predict)\n",
    "    pred_list.append(labels[result])\n",
    "    prob_list.append(predict[result])\n",
    "    \n",
    "dataframe['category'] = pred_list\n",
    "dataframe['Prob'] = prob_list"
   ]
  },
  {
   "cell_type": "markdown",
   "metadata": {},
   "source": [
    "# Performance"
   ]
  },
  {
   "cell_type": "code",
   "execution_count": 7,
   "metadata": {},
   "outputs": [
    {
     "name": "stdout",
     "output_type": "stream",
     "text": [
      "Predicted :  5\n",
      "{'FP-D', 'FP-B', 'FP-A', 'FP-C', 'FP-E'}\n",
      "Actual :  5\n",
      "{'FP-D', 'FP-B', 'FP-A', 'FP-C', 'FP-E'}\n"
     ]
    }
   ],
   "source": [
    "data_train = dataframe\n",
    "#เช็คคลาสใน Predicted\n",
    "pred_class = set(data_train['category'])\n",
    "print('Predicted : ',len(pred_class))\n",
    "print(pred_class)\n",
    "#เช็คคลาสใน Actual\n",
    "classe = set(data_train['Views'])\n",
    "print('Actual : ',len(classe))\n",
    "print(classe)"
   ]
  },
  {
   "cell_type": "code",
   "execution_count": 8,
   "metadata": {},
   "outputs": [
    {
     "name": "stdout",
     "output_type": "stream",
     "text": [
      "classifier accuracy = 83.91502276176024%\n",
      "              precision    recall  f1-score   support\n",
      "\n",
      "        FP-A       0.83      0.86      0.84       133\n",
      "        FP-B       0.86      0.83      0.85       205\n",
      "        FP-C       0.90      0.81      0.85       189\n",
      "        FP-D       0.73      0.88      0.80        97\n",
      "        FP-E       0.82      0.89      0.85        35\n",
      "\n",
      "    accuracy                           0.84       659\n",
      "   macro avg       0.83      0.85      0.84       659\n",
      "weighted avg       0.84      0.84      0.84       659\n",
      "\n"
     ]
    }
   ],
   "source": [
    "import numpy as np\n",
    "from sklearn.metrics import confusion_matrix\n",
    "act = data_train['Views'].array\n",
    "pred = data_train['category'].array\n",
    "\n",
    "cmat = confusion_matrix(act, pred)\n",
    "print('classifier accuracy = {}%'.format((100.*np.trace(cmat))/(np.sum(cmat))))\n",
    "\n",
    "#Marking the Confusion Matrix\n",
    "from sklearn.metrics import classification_report,confusion_matrix\n",
    "print(classification_report(act, pred))#performance"
   ]
  },
  {
   "cell_type": "code",
   "execution_count": 9,
   "metadata": {},
   "outputs": [
    {
     "data": {
      "text/plain": [
       "Text(0.5, 21.5, 'Predicted label')"
      ]
     },
     "execution_count": 9,
     "metadata": {},
     "output_type": "execute_result"
    },
    {
     "data": {
      "image/png": "[encoded data removed]",
      "text/plain": [
       "<Figure size 576x360 with 2 Axes>"
      ]
     },
     "metadata": {},
     "output_type": "display_data"
    }
   ],
   "source": [
    "#create CF \n",
    "data = {'Actual': act,'Predicted' : pred,}\n",
    "df = pd.DataFrame(data, columns=['Actual','Predicted'])\n",
    "conf_mat = pd.crosstab(df['Actual'],df['Predicted'],rownames=['Actual'],colnames=['Predicted'])\n",
    "\n",
    "#Confusion matrix\n",
    "from sklearn.metrics import confusion_matrix\n",
    "import matplotlib.pyplot as plt\n",
    "cm = confusion_matrix(act, pred)\n",
    "\n",
    "#plot Confusion matrix\n",
    "import seaborn as sns\n",
    "sns.set()\n",
    "fig, ax = plt.subplots(figsize=(8, 5))\n",
    "\n",
    "ax = sns.heatmap(conf_mat, annot=True, fmt=\"d\", cmap=\"YlGnBu\") #Blues,Oranges,Reds\n",
    "ax.set_title('Confusion matrix',fontsize=20)\n",
    "ax.set_ylabel('True label',fontsize=18)\n",
    "ax.set_xlabel('Predicted label',fontsize=18)"
   ]
  },
  {
   "cell_type": "code",
   "execution_count": null,
   "metadata": {},
   "outputs": [],
   "source": []
  }
 ],
 "metadata": {
  "kernelspec": {
   "display_name": "USAI",
   "language": "python",
   "name": "usai"
  },
  "language_info": {
   "codemirror_mode": {
    "name": "ipython",
    "version": 3
   },
   "file_extension": ".py",
   "mimetype": "text/x-python",
   "name": "python",
   "nbconvert_exporter": "python",
   "pygments_lexer": "ipython3",
   "version": "3.6.9"
  }
 },
 "nbformat": 4,
 "nbformat_minor": 4
}
