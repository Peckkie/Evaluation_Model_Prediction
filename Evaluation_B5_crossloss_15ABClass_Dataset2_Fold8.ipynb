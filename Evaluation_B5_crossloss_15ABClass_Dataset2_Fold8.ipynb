{
 "cells": [
  {
   "cell_type": "code",
   "execution_count": 1,
   "metadata": {},
   "outputs": [],
   "source": [
    "import os\n",
    "import numpy as np\n",
    "import efficientnet.tfkeras\n",
    "from tensorflow.keras.models import load_model"
   ]
  },
  {
   "cell_type": "code",
   "execution_count": 2,
   "metadata": {},
   "outputs": [],
   "source": [
    "os.environ[\"CUDA_VISIBLE_DEVICES\"]=\"\""
   ]
  },
  {
   "cell_type": "markdown",
   "metadata": {},
   "source": [
    "# load model"
   ]
  },
  {
   "cell_type": "code",
   "execution_count": 4,
   "metadata": {},
   "outputs": [
    {
     "name": "stdout",
     "output_type": "stream",
     "text": [
      "WARNING:tensorflow:Error in loading the saved optimizer state. As a result, your model is starting with a freshly initialized optimizer.\n"
     ]
    }
   ],
   "source": [
    "model_dir ='/media/tohn/SSD/ModelTrainByImages/R2_8/models/B5R2b5_15AB_1FC_fold8_2.h5' #แก้\n",
    "model = load_model(model_dir)\n",
    "height = width = model.input_shape[1]"
   ]
  },
  {
   "cell_type": "code",
   "execution_count": 5,
   "metadata": {},
   "outputs": [],
   "source": [
    "# validation\n",
    "import pandas as pd\n",
    "base_dir  = '/media/tohn/SSD/Images/Image8/'#แก้\n",
    "dataframe = pd.read_csv( '/home/yupaporn/codes/USAI/Validationdf_fold8_2.csv')#แก้\n",
    "validation_dir = os.path.join(base_dir, 'validation')\n",
    "\n",
    "#Train\n",
    "train_df = pd.read_csv( '/home/yupaporn/codes/USAI/Traindf_fold8_2.csv')#แก้\n",
    "base_dir0 = '/media/tohn/SSD/Images/Image8/'#แก้\n",
    "os.chdir(base_dir0)\n",
    "train_dir = os.path.join(base_dir0, 'train')"
   ]
  },
  {
   "cell_type": "markdown",
   "metadata": {},
   "source": [
    "# Select Data"
   ]
  },
  {
   "cell_type": "code",
   "execution_count": 6,
   "metadata": {},
   "outputs": [
    {
     "name": "stdout",
     "output_type": "stream",
     "text": [
      "(1020, 21)\n",
      "(1020, 21)\n",
      "Normal:  (719, 21)\n",
      "Abnormal:  (301, 21)\n"
     ]
    },
    {
     "data": {
      "text/html": [
       "<div>\n",
       "<style scoped>\n",
       "    .dataframe tbody tr th:only-of-type {\n",
       "        vertical-align: middle;\n",
       "    }\n",
       "\n",
       "    .dataframe tbody tr th {\n",
       "        vertical-align: top;\n",
       "    }\n",
       "\n",
       "    .dataframe thead th {\n",
       "        text-align: right;\n",
       "    }\n",
       "</style>\n",
       "<table border=\"1\" class=\"dataframe\">\n",
       "  <thead>\n",
       "    <tr style=\"text-align: right;\">\n",
       "      <th></th>\n",
       "      <th>Unnamed: 0</th>\n",
       "      <th>Case</th>\n",
       "      <th>Abs Position</th>\n",
       "      <th>Sub Position</th>\n",
       "      <th>Class</th>\n",
       "      <th>Sub_class</th>\n",
       "      <th>Path Full</th>\n",
       "      <th>Path Crop</th>\n",
       "      <th>Views</th>\n",
       "      <th>fold</th>\n",
       "      <th>...</th>\n",
       "      <th>originalImage</th>\n",
       "      <th>left</th>\n",
       "      <th>top</th>\n",
       "      <th>width</th>\n",
       "      <th>height</th>\n",
       "      <th>Rleft</th>\n",
       "      <th>Rtop</th>\n",
       "      <th>Rwidth</th>\n",
       "      <th>Rheight</th>\n",
       "      <th>filename</th>\n",
       "    </tr>\n",
       "  </thead>\n",
       "  <tbody>\n",
       "    <tr>\n",
       "      <th>0</th>\n",
       "      <td>0</td>\n",
       "      <td>20</td>\n",
       "      <td>P2</td>\n",
       "      <td>P2</td>\n",
       "      <td>Abnormal</td>\n",
       "      <td>AB01</td>\n",
       "      <td>/media/tohn/HDD/VISION_dataset/USAI/ABnormal01...</td>\n",
       "      <td>/media/tohn/HDD/VISION_dataset/USAI/ABnormal01...</td>\n",
       "      <td>FP-A</td>\n",
       "      <td>10</td>\n",
       "      <td>...</td>\n",
       "      <td>https://irisprodseatraining.blob.core.windows....</td>\n",
       "      <td>233.0</td>\n",
       "      <td>119.0</td>\n",
       "      <td>568.0</td>\n",
       "      <td>512.0</td>\n",
       "      <td>0.234657</td>\n",
       "      <td>0.132937</td>\n",
       "      <td>0.572202</td>\n",
       "      <td>0.569721</td>\n",
       "      <td>AB01 P2 C020.JPG</td>\n",
       "    </tr>\n",
       "    <tr>\n",
       "      <th>1</th>\n",
       "      <td>1</td>\n",
       "      <td>20</td>\n",
       "      <td>P1</td>\n",
       "      <td>P1</td>\n",
       "      <td>Abnormal</td>\n",
       "      <td>AB01</td>\n",
       "      <td>/media/tohn/HDD/VISION_dataset/USAI/ABnormal01...</td>\n",
       "      <td>/media/tohn/HDD/VISION_dataset/USAI/ABnormal01...</td>\n",
       "      <td>FP-A</td>\n",
       "      <td>10</td>\n",
       "      <td>...</td>\n",
       "      <td>https://irisprodseatraining.blob.core.windows....</td>\n",
       "      <td>186.0</td>\n",
       "      <td>65.0</td>\n",
       "      <td>593.0</td>\n",
       "      <td>541.0</td>\n",
       "      <td>0.185053</td>\n",
       "      <td>0.073176</td>\n",
       "      <td>0.588968</td>\n",
       "      <td>0.601594</td>\n",
       "      <td>AB01 P1 C020.JPG</td>\n",
       "    </tr>\n",
       "    <tr>\n",
       "      <th>2</th>\n",
       "      <td>2</td>\n",
       "      <td>20</td>\n",
       "      <td>P2</td>\n",
       "      <td>P2</td>\n",
       "      <td>Abnormal</td>\n",
       "      <td>AB02</td>\n",
       "      <td>/media/tohn/HDD/VISION_dataset/USAI/ABnormal01...</td>\n",
       "      <td>/media/tohn/HDD/VISION_dataset/USAI/ABnormal01...</td>\n",
       "      <td>FP-A</td>\n",
       "      <td>10</td>\n",
       "      <td>...</td>\n",
       "      <td>https://irisprodseatraining.blob.core.windows....</td>\n",
       "      <td>120.0</td>\n",
       "      <td>132.0</td>\n",
       "      <td>579.0</td>\n",
       "      <td>480.0</td>\n",
       "      <td>0.132000</td>\n",
       "      <td>0.147601</td>\n",
       "      <td>0.634195</td>\n",
       "      <td>0.533333</td>\n",
       "      <td>AB02 P2 C020.JPG</td>\n",
       "    </tr>\n",
       "    <tr>\n",
       "      <th>3</th>\n",
       "      <td>3</td>\n",
       "      <td>20</td>\n",
       "      <td>P2</td>\n",
       "      <td>P2</td>\n",
       "      <td>Abnormal</td>\n",
       "      <td>AB03</td>\n",
       "      <td>/media/tohn/HDD/VISION_dataset/USAI/ABnormal01...</td>\n",
       "      <td>/media/tohn/HDD/VISION_dataset/USAI/ABnormal01...</td>\n",
       "      <td>FP-A</td>\n",
       "      <td>10</td>\n",
       "      <td>...</td>\n",
       "      <td>https://irisprodseatraining.blob.core.windows....</td>\n",
       "      <td>178.0</td>\n",
       "      <td>107.0</td>\n",
       "      <td>256.0</td>\n",
       "      <td>456.0</td>\n",
       "      <td>0.188137</td>\n",
       "      <td>0.119318</td>\n",
       "      <td>0.269598</td>\n",
       "      <td>0.507071</td>\n",
       "      <td>AB03 P2 C020.JPG</td>\n",
       "    </tr>\n",
       "    <tr>\n",
       "      <th>4</th>\n",
       "      <td>4</td>\n",
       "      <td>20</td>\n",
       "      <td>P1</td>\n",
       "      <td>P1</td>\n",
       "      <td>Abnormal</td>\n",
       "      <td>AB03</td>\n",
       "      <td>/media/tohn/HDD/VISION_dataset/USAI/ABnormal01...</td>\n",
       "      <td>/media/tohn/HDD/VISION_dataset/USAI/ABnormal01...</td>\n",
       "      <td>FP-A</td>\n",
       "      <td>10</td>\n",
       "      <td>...</td>\n",
       "      <td>https://irisprodseatraining.blob.core.windows....</td>\n",
       "      <td>253.0</td>\n",
       "      <td>60.0</td>\n",
       "      <td>517.0</td>\n",
       "      <td>727.0</td>\n",
       "      <td>0.258140</td>\n",
       "      <td>0.066793</td>\n",
       "      <td>0.527778</td>\n",
       "      <td>0.808081</td>\n",
       "      <td>AB03 P1 C020.JPG</td>\n",
       "    </tr>\n",
       "  </tbody>\n",
       "</table>\n",
       "<p>5 rows × 21 columns</p>\n",
       "</div>"
      ],
      "text/plain": [
       "   Unnamed: 0  Case Abs Position Sub Position     Class Sub_class  \\\n",
       "0           0    20           P2           P2  Abnormal      AB01   \n",
       "1           1    20           P1           P1  Abnormal      AB01   \n",
       "2           2    20           P2           P2  Abnormal      AB02   \n",
       "3           3    20           P2           P2  Abnormal      AB03   \n",
       "4           4    20           P1           P1  Abnormal      AB03   \n",
       "\n",
       "                                           Path Full  \\\n",
       "0  /media/tohn/HDD/VISION_dataset/USAI/ABnormal01...   \n",
       "1  /media/tohn/HDD/VISION_dataset/USAI/ABnormal01...   \n",
       "2  /media/tohn/HDD/VISION_dataset/USAI/ABnormal01...   \n",
       "3  /media/tohn/HDD/VISION_dataset/USAI/ABnormal01...   \n",
       "4  /media/tohn/HDD/VISION_dataset/USAI/ABnormal01...   \n",
       "\n",
       "                                           Path Crop Views  fold  ...  \\\n",
       "0  /media/tohn/HDD/VISION_dataset/USAI/ABnormal01...  FP-A    10  ...   \n",
       "1  /media/tohn/HDD/VISION_dataset/USAI/ABnormal01...  FP-A    10  ...   \n",
       "2  /media/tohn/HDD/VISION_dataset/USAI/ABnormal01...  FP-A    10  ...   \n",
       "3  /media/tohn/HDD/VISION_dataset/USAI/ABnormal01...  FP-A    10  ...   \n",
       "4  /media/tohn/HDD/VISION_dataset/USAI/ABnormal01...  FP-A    10  ...   \n",
       "\n",
       "                                       originalImage   left    top  width  \\\n",
       "0  https://irisprodseatraining.blob.core.windows....  233.0  119.0  568.0   \n",
       "1  https://irisprodseatraining.blob.core.windows....  186.0   65.0  593.0   \n",
       "2  https://irisprodseatraining.blob.core.windows....  120.0  132.0  579.0   \n",
       "3  https://irisprodseatraining.blob.core.windows....  178.0  107.0  256.0   \n",
       "4  https://irisprodseatraining.blob.core.windows....  253.0   60.0  517.0   \n",
       "\n",
       "   height     Rleft      Rtop    Rwidth   Rheight          filename  \n",
       "0   512.0  0.234657  0.132937  0.572202  0.569721  AB01 P2 C020.JPG  \n",
       "1   541.0  0.185053  0.073176  0.588968  0.601594  AB01 P1 C020.JPG  \n",
       "2   480.0  0.132000  0.147601  0.634195  0.533333  AB02 P2 C020.JPG  \n",
       "3   456.0  0.188137  0.119318  0.269598  0.507071  AB03 P2 C020.JPG  \n",
       "4   727.0  0.258140  0.066793  0.527778  0.808081  AB03 P1 C020.JPG  \n",
       "\n",
       "[5 rows x 21 columns]"
      ]
     },
     "execution_count": 6,
     "metadata": {},
     "output_type": "execute_result"
    }
   ],
   "source": [
    "import pandas as pd\n",
    "df0 = pd.read_csv (r'/home/yupaporn/codes/USAI/Validationdf_fold8_2.csv')\n",
    "print(df0 .shape)\n",
    "dataframe = df0[(df0['Path Crop']!='None' )&(df0['Path Crop']!='Nan')]\n",
    "print(dataframe.shape)\n",
    "print('Normal: ',dataframe[dataframe['Class']=='Normal'].shape)\n",
    "print('Abnormal: ',dataframe[dataframe['Class']=='Abnormal'].shape)\n",
    "dataframe.head(5)"
   ]
  },
  {
   "cell_type": "code",
   "execution_count": 7,
   "metadata": {},
   "outputs": [
    {
     "name": "stdout",
     "output_type": "stream",
     "text": [
      "Found 1020 validated image filenames belonging to 15 classes.\n",
      "{0: 'AB01', 1: 'AB02', 2: 'AB03', 3: 'AB04', 4: 'AB05', 5: 'AB06', 6: 'AB07', 7: 'AB081', 8: 'AB082', 9: 'AB083', 10: 'AB09', 11: 'AB10', 12: 'AB11', 13: 'AB12', 14: 'Normal'}\n"
     ]
    }
   ],
   "source": [
    "batch_size = 64\n",
    "epochs = 10\n",
    "\n",
    "from tensorflow.keras.preprocessing.image import ImageDataGenerator\n",
    "\n",
    "train_datagen = ImageDataGenerator(\n",
    "      rescale=1./255,\n",
    "      rotation_range=30,\n",
    "      width_shift_range=0.2,\n",
    "      height_shift_range=0.2,\n",
    "      brightness_range=[0.5,1.5],\n",
    "      shear_range=0.4,\n",
    "      zoom_range=0.2,\n",
    "      horizontal_flip=False,\n",
    "      fill_mode='nearest')\n",
    "\n",
    "train_generator = train_datagen.flow_from_dataframe(\n",
    "        dataframe = dataframe,\n",
    "        directory = train_dir,\n",
    "        x_col = 'Path Crop',\n",
    "        y_col = 'Sub_class',\n",
    "        target_size = (height, width),\n",
    "        batch_size=batch_size,\n",
    "        color_mode= 'rgb',\n",
    "        class_mode='categorical')\n",
    "\n",
    "#label\n",
    "labels = (train_generator.class_indices)\n",
    "labels = dict((v,k.replace(\"C\",\"\")) for k,v in labels.items())\n",
    "print(labels)"
   ]
  },
  {
   "cell_type": "markdown",
   "metadata": {},
   "source": [
    "# Prediction"
   ]
  },
  {
   "cell_type": "code",
   "execution_count": 8,
   "metadata": {},
   "outputs": [],
   "source": [
    "from tensorflow.keras.preprocessing import image\n",
    "def predict_image(img_path):\n",
    "    # Read the image and resize it\n",
    "    img = image.load_img(img_path, target_size=(height, width))\n",
    "    # Convert it to a Numpy array with target shape.\n",
    "    x = image.img_to_array(img)\n",
    "    # Reshape\n",
    "    x = x.reshape((1,) + x.shape)\n",
    "    x /= 255.\n",
    "    result = model.predict([x])\n",
    "    \n",
    "    return result[0]\n",
    "\n",
    "#Predict\n",
    "pred_list = list()\n",
    "prob_list = list()\n",
    "img_path=dataframe['Path Crop'].tolist()\n",
    "for i in range(0,len(img_path)):\n",
    "    predict = predict_image(img_path[i])\n",
    "    result = np.argmax(predict)\n",
    "    pred_list.append(labels[result])\n",
    "    prob_list.append(predict[result])\n",
    "\n",
    "dataframe['category'] = pred_list\n",
    "dataframe['Prob'] = prob_list"
   ]
  },
  {
   "cell_type": "code",
   "execution_count": 9,
   "metadata": {},
   "outputs": [
    {
     "data": {
      "text/html": [
       "<div>\n",
       "<style scoped>\n",
       "    .dataframe tbody tr th:only-of-type {\n",
       "        vertical-align: middle;\n",
       "    }\n",
       "\n",
       "    .dataframe tbody tr th {\n",
       "        vertical-align: top;\n",
       "    }\n",
       "\n",
       "    .dataframe thead th {\n",
       "        text-align: right;\n",
       "    }\n",
       "</style>\n",
       "<table border=\"1\" class=\"dataframe\">\n",
       "  <thead>\n",
       "    <tr style=\"text-align: right;\">\n",
       "      <th></th>\n",
       "      <th>Unnamed: 0</th>\n",
       "      <th>Case</th>\n",
       "      <th>Abs Position</th>\n",
       "      <th>Sub Position</th>\n",
       "      <th>Class</th>\n",
       "      <th>Sub_class</th>\n",
       "      <th>Path Full</th>\n",
       "      <th>Path Crop</th>\n",
       "      <th>Views</th>\n",
       "      <th>fold</th>\n",
       "      <th>...</th>\n",
       "      <th>top</th>\n",
       "      <th>width</th>\n",
       "      <th>height</th>\n",
       "      <th>Rleft</th>\n",
       "      <th>Rtop</th>\n",
       "      <th>Rwidth</th>\n",
       "      <th>Rheight</th>\n",
       "      <th>filename</th>\n",
       "      <th>category</th>\n",
       "      <th>Prob</th>\n",
       "    </tr>\n",
       "  </thead>\n",
       "  <tbody>\n",
       "    <tr>\n",
       "      <th>0</th>\n",
       "      <td>0</td>\n",
       "      <td>20</td>\n",
       "      <td>P2</td>\n",
       "      <td>P2</td>\n",
       "      <td>Abnormal</td>\n",
       "      <td>AB01</td>\n",
       "      <td>/media/tohn/HDD/VISION_dataset/USAI/ABnormal01...</td>\n",
       "      <td>/media/tohn/HDD/VISION_dataset/USAI/ABnormal01...</td>\n",
       "      <td>FP-A</td>\n",
       "      <td>10</td>\n",
       "      <td>...</td>\n",
       "      <td>119.0</td>\n",
       "      <td>568.0</td>\n",
       "      <td>512.0</td>\n",
       "      <td>0.234657</td>\n",
       "      <td>0.132937</td>\n",
       "      <td>0.572202</td>\n",
       "      <td>0.569721</td>\n",
       "      <td>AB01 P2 C020.JPG</td>\n",
       "      <td>AB01</td>\n",
       "      <td>0.993168</td>\n",
       "    </tr>\n",
       "    <tr>\n",
       "      <th>1</th>\n",
       "      <td>1</td>\n",
       "      <td>20</td>\n",
       "      <td>P1</td>\n",
       "      <td>P1</td>\n",
       "      <td>Abnormal</td>\n",
       "      <td>AB01</td>\n",
       "      <td>/media/tohn/HDD/VISION_dataset/USAI/ABnormal01...</td>\n",
       "      <td>/media/tohn/HDD/VISION_dataset/USAI/ABnormal01...</td>\n",
       "      <td>FP-A</td>\n",
       "      <td>10</td>\n",
       "      <td>...</td>\n",
       "      <td>65.0</td>\n",
       "      <td>593.0</td>\n",
       "      <td>541.0</td>\n",
       "      <td>0.185053</td>\n",
       "      <td>0.073176</td>\n",
       "      <td>0.588968</td>\n",
       "      <td>0.601594</td>\n",
       "      <td>AB01 P1 C020.JPG</td>\n",
       "      <td>AB01</td>\n",
       "      <td>0.917577</td>\n",
       "    </tr>\n",
       "    <tr>\n",
       "      <th>2</th>\n",
       "      <td>2</td>\n",
       "      <td>20</td>\n",
       "      <td>P2</td>\n",
       "      <td>P2</td>\n",
       "      <td>Abnormal</td>\n",
       "      <td>AB02</td>\n",
       "      <td>/media/tohn/HDD/VISION_dataset/USAI/ABnormal01...</td>\n",
       "      <td>/media/tohn/HDD/VISION_dataset/USAI/ABnormal01...</td>\n",
       "      <td>FP-A</td>\n",
       "      <td>10</td>\n",
       "      <td>...</td>\n",
       "      <td>132.0</td>\n",
       "      <td>579.0</td>\n",
       "      <td>480.0</td>\n",
       "      <td>0.132000</td>\n",
       "      <td>0.147601</td>\n",
       "      <td>0.634195</td>\n",
       "      <td>0.533333</td>\n",
       "      <td>AB02 P2 C020.JPG</td>\n",
       "      <td>AB02</td>\n",
       "      <td>0.999751</td>\n",
       "    </tr>\n",
       "    <tr>\n",
       "      <th>3</th>\n",
       "      <td>3</td>\n",
       "      <td>20</td>\n",
       "      <td>P2</td>\n",
       "      <td>P2</td>\n",
       "      <td>Abnormal</td>\n",
       "      <td>AB03</td>\n",
       "      <td>/media/tohn/HDD/VISION_dataset/USAI/ABnormal01...</td>\n",
       "      <td>/media/tohn/HDD/VISION_dataset/USAI/ABnormal01...</td>\n",
       "      <td>FP-A</td>\n",
       "      <td>10</td>\n",
       "      <td>...</td>\n",
       "      <td>107.0</td>\n",
       "      <td>256.0</td>\n",
       "      <td>456.0</td>\n",
       "      <td>0.188137</td>\n",
       "      <td>0.119318</td>\n",
       "      <td>0.269598</td>\n",
       "      <td>0.507071</td>\n",
       "      <td>AB03 P2 C020.JPG</td>\n",
       "      <td>Normal</td>\n",
       "      <td>0.480883</td>\n",
       "    </tr>\n",
       "    <tr>\n",
       "      <th>4</th>\n",
       "      <td>4</td>\n",
       "      <td>20</td>\n",
       "      <td>P1</td>\n",
       "      <td>P1</td>\n",
       "      <td>Abnormal</td>\n",
       "      <td>AB03</td>\n",
       "      <td>/media/tohn/HDD/VISION_dataset/USAI/ABnormal01...</td>\n",
       "      <td>/media/tohn/HDD/VISION_dataset/USAI/ABnormal01...</td>\n",
       "      <td>FP-A</td>\n",
       "      <td>10</td>\n",
       "      <td>...</td>\n",
       "      <td>60.0</td>\n",
       "      <td>517.0</td>\n",
       "      <td>727.0</td>\n",
       "      <td>0.258140</td>\n",
       "      <td>0.066793</td>\n",
       "      <td>0.527778</td>\n",
       "      <td>0.808081</td>\n",
       "      <td>AB03 P1 C020.JPG</td>\n",
       "      <td>AB03</td>\n",
       "      <td>0.999747</td>\n",
       "    </tr>\n",
       "  </tbody>\n",
       "</table>\n",
       "<p>5 rows × 23 columns</p>\n",
       "</div>"
      ],
      "text/plain": [
       "   Unnamed: 0  Case Abs Position Sub Position     Class Sub_class  \\\n",
       "0           0    20           P2           P2  Abnormal      AB01   \n",
       "1           1    20           P1           P1  Abnormal      AB01   \n",
       "2           2    20           P2           P2  Abnormal      AB02   \n",
       "3           3    20           P2           P2  Abnormal      AB03   \n",
       "4           4    20           P1           P1  Abnormal      AB03   \n",
       "\n",
       "                                           Path Full  \\\n",
       "0  /media/tohn/HDD/VISION_dataset/USAI/ABnormal01...   \n",
       "1  /media/tohn/HDD/VISION_dataset/USAI/ABnormal01...   \n",
       "2  /media/tohn/HDD/VISION_dataset/USAI/ABnormal01...   \n",
       "3  /media/tohn/HDD/VISION_dataset/USAI/ABnormal01...   \n",
       "4  /media/tohn/HDD/VISION_dataset/USAI/ABnormal01...   \n",
       "\n",
       "                                           Path Crop Views  fold  ...    top  \\\n",
       "0  /media/tohn/HDD/VISION_dataset/USAI/ABnormal01...  FP-A    10  ...  119.0   \n",
       "1  /media/tohn/HDD/VISION_dataset/USAI/ABnormal01...  FP-A    10  ...   65.0   \n",
       "2  /media/tohn/HDD/VISION_dataset/USAI/ABnormal01...  FP-A    10  ...  132.0   \n",
       "3  /media/tohn/HDD/VISION_dataset/USAI/ABnormal01...  FP-A    10  ...  107.0   \n",
       "4  /media/tohn/HDD/VISION_dataset/USAI/ABnormal01...  FP-A    10  ...   60.0   \n",
       "\n",
       "   width  height     Rleft      Rtop    Rwidth   Rheight          filename  \\\n",
       "0  568.0   512.0  0.234657  0.132937  0.572202  0.569721  AB01 P2 C020.JPG   \n",
       "1  593.0   541.0  0.185053  0.073176  0.588968  0.601594  AB01 P1 C020.JPG   \n",
       "2  579.0   480.0  0.132000  0.147601  0.634195  0.533333  AB02 P2 C020.JPG   \n",
       "3  256.0   456.0  0.188137  0.119318  0.269598  0.507071  AB03 P2 C020.JPG   \n",
       "4  517.0   727.0  0.258140  0.066793  0.527778  0.808081  AB03 P1 C020.JPG   \n",
       "\n",
       "   category      Prob  \n",
       "0      AB01  0.993168  \n",
       "1      AB01  0.917577  \n",
       "2      AB02  0.999751  \n",
       "3    Normal  0.480883  \n",
       "4      AB03  0.999747  \n",
       "\n",
       "[5 rows x 23 columns]"
      ]
     },
     "execution_count": 9,
     "metadata": {},
     "output_type": "execute_result"
    }
   ],
   "source": [
    "dataframe.head(5)"
   ]
  },
  {
   "cell_type": "markdown",
   "metadata": {},
   "source": [
    "# Visualization"
   ]
  },
  {
   "cell_type": "code",
   "execution_count": 10,
   "metadata": {},
   "outputs": [
    {
     "name": "stdout",
     "output_type": "stream",
     "text": [
      "Predicted :  15\n",
      "{'AB081', 'AB04', 'AB082', 'AB02', 'Normal', 'AB07', 'AB083', 'AB09', 'AB11', 'AB03', 'AB05', 'AB01', 'AB10', 'AB06', 'AB12'}\n",
      "Actual :  15\n",
      "{'AB081', 'AB04', 'AB082', 'AB02', 'AB083', 'Normal', 'AB07', 'AB09', 'AB11', 'AB03', 'AB05', 'AB01', 'AB10', 'AB06', 'AB12'}\n"
     ]
    }
   ],
   "source": [
    "data_train = dataframe\n",
    "#เช็คคลาสใน Predicted\n",
    "pred_class = set(data_train['category'])\n",
    "print('Predicted : ',len(pred_class))\n",
    "print(pred_class)\n",
    "#เช็คคลาสใน Actual\n",
    "classe = set(data_train['Sub_class'])\n",
    "print('Actual : ',len(classe))\n",
    "print(classe)"
   ]
  },
  {
   "cell_type": "code",
   "execution_count": 11,
   "metadata": {},
   "outputs": [
    {
     "name": "stdout",
     "output_type": "stream",
     "text": [
      "classifier accuracy = 90.19607843137256%\n",
      "              precision    recall  f1-score   support\n",
      "\n",
      "        AB01       0.83      0.74      0.79        47\n",
      "        AB02       0.71      0.67      0.69        36\n",
      "        AB03       0.64      0.50      0.56        18\n",
      "        AB04       0.81      0.76      0.79        29\n",
      "        AB05       0.67      0.60      0.63        10\n",
      "        AB06       0.60      0.23      0.33        13\n",
      "        AB07       0.47      0.70      0.56        10\n",
      "       AB081       0.58      0.65      0.61        17\n",
      "       AB082       0.75      0.56      0.64        16\n",
      "       AB083       0.40      0.29      0.33         7\n",
      "        AB09       1.00      0.83      0.91        12\n",
      "        AB10       1.00      0.67      0.80         6\n",
      "        AB11       1.00      0.26      0.42        19\n",
      "        AB12       0.83      0.95      0.89        61\n",
      "      Normal       0.95      0.99      0.97       719\n",
      "\n",
      "    accuracy                           0.90      1020\n",
      "   macro avg       0.75      0.63      0.66      1020\n",
      "weighted avg       0.90      0.90      0.89      1020\n",
      "\n"
     ]
    }
   ],
   "source": [
    "import numpy as np\n",
    "from sklearn.metrics import confusion_matrix\n",
    "act = data_train['Sub_class'].array\n",
    "pred = data_train['category'].array\n",
    "\n",
    "cmat = confusion_matrix(act, pred)\n",
    "print('classifier accuracy = {}%'.format((100.*np.trace(cmat))/(np.sum(cmat))))\n",
    "\n",
    "#Marking the Confusion Matrix\n",
    "from sklearn.metrics import classification_report,confusion_matrix\n",
    "print(classification_report(act, pred))#performance"
   ]
  },
  {
   "cell_type": "markdown",
   "metadata": {},
   "source": [
    "### Confusion matrix"
   ]
  },
  {
   "cell_type": "code",
   "execution_count": 12,
   "metadata": {},
   "outputs": [
    {
     "data": {
      "text/plain": [
       "Text(0.5, 21.5, 'Predicted label')"
      ]
     },
     "execution_count": 12,
     "metadata": {},
     "output_type": "execute_result"
    },
    {
     "data": {
      "image/png": "[encoded data removed]",
      "text/plain": [
       "<Figure size 576x360 with 2 Axes>"
      ]
     },
     "metadata": {},
     "output_type": "display_data"
    }
   ],
   "source": [
    "#create CF \n",
    "data = {'Actual': act,'Predicted' : pred,}\n",
    "df = pd.DataFrame(data, columns=['Actual','Predicted'])\n",
    "conf_mat = pd.crosstab(df['Actual'],df['Predicted'],rownames=['Actual'],colnames=['Predicted'])\n",
    "\n",
    "#Confusion matrix\n",
    "from sklearn.metrics import confusion_matrix\n",
    "import matplotlib.pyplot as plt\n",
    "cm = confusion_matrix(act, pred)\n",
    "\n",
    "#plot Confusion matrix\n",
    "import seaborn as sns\n",
    "sns.set()\n",
    "fig, ax = plt.subplots(figsize=(8, 5))\n",
    "\n",
    "ax = sns.heatmap(conf_mat, annot=True, fmt=\"d\", cmap=\"YlGnBu\") #Blues,Oranges,Reds\n",
    "ax.set_title('Confusion matrix',fontsize=20)\n",
    "ax.set_ylabel('True label',fontsize=18)\n",
    "ax.set_xlabel('Predicted label',fontsize=18)"
   ]
  },
  {
   "cell_type": "code",
   "execution_count": 13,
   "metadata": {},
   "outputs": [
    {
     "name": "stdout",
     "output_type": "stream",
     "text": [
      "classifier accuracy = 96.27450980392157%\n",
      "              precision    recall  f1-score   support\n",
      "\n",
      "           0       0.95      0.99      0.97       719\n",
      "           1       0.99      0.89      0.93       301\n",
      "\n",
      "    accuracy                           0.96      1020\n",
      "   macro avg       0.97      0.94      0.95      1020\n",
      "weighted avg       0.96      0.96      0.96      1020\n",
      "\n"
     ]
    }
   ],
   "source": [
    "act= data_train['Sub_class'].map({'AB12':1, 'AB04':1, 'AB05':1, 'Normal':0, 'AB02':1, 'AB11':1, 'AB082':1, 'AB06':1,'AB07':1, 'AB081':1, 'AB09':1, 'AB03':1, 'AB10':1, 'AB01':1, 'AB083':1}).values\n",
    "pred = data_train['category'].map({'AB12':1, 'AB04':1, 'AB05':1, 'Normal':0, 'AB02':1, 'AB11':1, 'AB082':1, 'AB06':1,'AB07':1, 'AB081':1, 'AB09':1, 'AB03':1, 'AB10':1, 'AB01':1, 'AB083':1}).values\n",
    "cmat = confusion_matrix(act, pred)\n",
    "print('classifier accuracy = {}%'.format((100.*np.trace(cmat))/(np.sum(cmat))))\n",
    "\n",
    "#Marking the Confusion Matrix\n",
    "from sklearn.metrics import classification_report,confusion_matrix\n",
    "print(classification_report(act, pred))#performance"
   ]
  },
  {
   "cell_type": "code",
   "execution_count": 14,
   "metadata": {},
   "outputs": [
    {
     "name": "stdout",
     "output_type": "stream",
     "text": [
      "715 4 34 267\n"
     ]
    },
    {
     "data": {
      "text/plain": [
       "Text(0.5, 21.5, 'Predicted label')"
      ]
     },
     "execution_count": 14,
     "metadata": {},
     "output_type": "execute_result"
    },
    {
     "data": {
      "image/png": "[encoded data removed]",
      "text/plain": [
       "<Figure size 576x360 with 2 Axes>"
      ]
     },
     "metadata": {},
     "output_type": "display_data"
    }
   ],
   "source": [
    "#create CF \n",
    "data = {'Actual': act,'Predicted' : pred,}\n",
    "df = pd.DataFrame(data, columns=['Actual','Predicted'])\n",
    "conf_mat = pd.crosstab(df['Actual'],df['Predicted'],rownames=['Actual'],colnames=['Predicted'])\n",
    "\n",
    "#Confusion matrix\n",
    "from sklearn.metrics import confusion_matrix\n",
    "import matplotlib.pyplot as plt\n",
    "cm = confusion_matrix(act, pred)\n",
    "TN, FP, FN, TP = confusion_matrix(act, pred).ravel()\n",
    "print(TN, FP, FN, TP)\n",
    "#plot Confusion matrix\n",
    "import seaborn as sns\n",
    "sns.set()\n",
    "fig, ax = plt.subplots(figsize=(8, 5))\n",
    "\n",
    "ax = sns.heatmap(conf_mat, annot=True, fmt=\"d\", cmap=\"YlGnBu\") #Blues,Oranges,Reds\n",
    "ax.set_title('Confusion matrix',fontsize=20)\n",
    "ax.set_ylabel('True label',fontsize=18)\n",
    "ax.set_xlabel('Predicted label',fontsize=18)"
   ]
  },
  {
   "cell_type": "code",
   "execution_count": 15,
   "metadata": {},
   "outputs": [
    {
     "name": "stdout",
     "output_type": "stream",
     "text": [
      "715 4 34 267\n"
     ]
    }
   ],
   "source": [
    "TN, FP, FN, TP = confusion_matrix(act, pred).ravel()\n",
    "print(TN, FP, FN, TP)"
   ]
  },
  {
   "cell_type": "code",
   "execution_count": null,
   "metadata": {},
   "outputs": [],
   "source": []
  }
 ],
 "metadata": {
  "kernelspec": {
   "display_name": "AI",
   "language": "python",
   "name": "ai"
  },
  "language_info": {
   "codemirror_mode": {
    "name": "ipython",
    "version": 3
   },
   "file_extension": ".py",
   "mimetype": "text/x-python",
   "name": "python",
   "nbconvert_exporter": "python",
   "pygments_lexer": "ipython3",
   "version": "3.6.9"
  }
 },
 "nbformat": 4,
 "nbformat_minor": 4
}
