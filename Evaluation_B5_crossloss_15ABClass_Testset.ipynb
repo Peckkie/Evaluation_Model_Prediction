{
 "cells": [
  {
   "cell_type": "code",
   "execution_count": 1,
   "metadata": {},
   "outputs": [],
   "source": [
    "import os\n",
    "import numpy as np\n",
    "import efficientnet.tfkeras\n",
    "from tensorflow.keras.models import load_model"
   ]
  },
  {
   "cell_type": "code",
   "execution_count": 2,
   "metadata": {},
   "outputs": [],
   "source": [
    "os.environ[\"CUDA_VISIBLE_DEVICES\"]=\"1\""
   ]
  },
  {
   "cell_type": "markdown",
   "metadata": {},
   "source": [
    "# load model"
   ]
  },
  {
   "cell_type": "code",
   "execution_count": 3,
   "metadata": {},
   "outputs": [],
   "source": [
    "model_dir ='/media/tohn/SSD/ModelTrainByImages/R2_1/models/B5R2_block5_15AB_1FC_3.h5' #แก้\n",
    "model = load_model(model_dir)\n",
    "height = width = model.input_shape[1]"
   ]
  },
  {
   "cell_type": "code",
   "execution_count": 4,
   "metadata": {},
   "outputs": [],
   "source": [
    "# validation\n",
    "import pandas as pd\n",
    "base_dir  = '/media/tohn/SSD/Images/Image1/'#แก้\n",
    "dataframe = pd.read_csv( '/home/yupaporn/codes/USAI/Validationdf_fold1_3.csv')#แก้\n",
    "validation_dir = os.path.join(base_dir, 'validation')\n",
    "\n",
    "#Train\n",
    "train_df = pd.read_csv( '/home/yupaporn/codes/USAI/Traindf_fold1_3.csv')#แก้\n",
    "base_dir0 = '/media/tohn/SSD/Images/Image1/'#แก้\n",
    "os.chdir(base_dir0)\n",
    "train_dir = os.path.join(base_dir0, 'train')"
   ]
  },
  {
   "cell_type": "markdown",
   "metadata": {},
   "source": [
    "# Select Data"
   ]
  },
  {
   "cell_type": "code",
   "execution_count": 5,
   "metadata": {},
   "outputs": [
    {
     "name": "stdout",
     "output_type": "stream",
     "text": [
      "(1312, 22)\n",
      "(1312, 22)\n",
      "Normal:  (857, 22)\n",
      "Abnormal:  (455, 22)\n"
     ]
    },
    {
     "data": {
      "text/html": [
       "<div>\n",
       "<style scoped>\n",
       "    .dataframe tbody tr th:only-of-type {\n",
       "        vertical-align: middle;\n",
       "    }\n",
       "\n",
       "    .dataframe tbody tr th {\n",
       "        vertical-align: top;\n",
       "    }\n",
       "\n",
       "    .dataframe thead th {\n",
       "        text-align: right;\n",
       "    }\n",
       "</style>\n",
       "<table border=\"1\" class=\"dataframe\">\n",
       "  <thead>\n",
       "    <tr style=\"text-align: right;\">\n",
       "      <th></th>\n",
       "      <th>Unnamed: 0</th>\n",
       "      <th>Unnamed: 0.1</th>\n",
       "      <th>Case</th>\n",
       "      <th>Abs Position</th>\n",
       "      <th>Sub Position</th>\n",
       "      <th>Class</th>\n",
       "      <th>Sub_class</th>\n",
       "      <th>Path Full</th>\n",
       "      <th>Path Crop</th>\n",
       "      <th>Views</th>\n",
       "      <th>...</th>\n",
       "      <th>originalImage</th>\n",
       "      <th>left</th>\n",
       "      <th>top</th>\n",
       "      <th>width</th>\n",
       "      <th>height</th>\n",
       "      <th>Rleft</th>\n",
       "      <th>Rtop</th>\n",
       "      <th>Rwidth</th>\n",
       "      <th>Rheight</th>\n",
       "      <th>filename</th>\n",
       "    </tr>\n",
       "  </thead>\n",
       "  <tbody>\n",
       "    <tr>\n",
       "      <th>0</th>\n",
       "      <td>111</td>\n",
       "      <td>111</td>\n",
       "      <td>40</td>\n",
       "      <td>P1</td>\n",
       "      <td>P1</td>\n",
       "      <td>Abnormal</td>\n",
       "      <td>AB01</td>\n",
       "      <td>/media/tohn/HDD/VISION_dataset/USAI/ABnormal01...</td>\n",
       "      <td>/media/tohn/HDD/VISION_dataset/USAI/ABnormal01...</td>\n",
       "      <td>FP-A</td>\n",
       "      <td>...</td>\n",
       "      <td>https://irisprodseatraining.blob.core.windows....</td>\n",
       "      <td>86.0</td>\n",
       "      <td>133.0</td>\n",
       "      <td>477.0</td>\n",
       "      <td>311.0</td>\n",
       "      <td>0.092664</td>\n",
       "      <td>0.148873</td>\n",
       "      <td>0.513514</td>\n",
       "      <td>0.346614</td>\n",
       "      <td>AB01 P1 C040.JPG</td>\n",
       "    </tr>\n",
       "    <tr>\n",
       "      <th>1</th>\n",
       "      <td>112</td>\n",
       "      <td>112</td>\n",
       "      <td>40</td>\n",
       "      <td>P2</td>\n",
       "      <td>P2</td>\n",
       "      <td>Abnormal</td>\n",
       "      <td>AB01</td>\n",
       "      <td>/media/tohn/HDD/VISION_dataset/USAI/ABnormal01...</td>\n",
       "      <td>/media/tohn/HDD/VISION_dataset/USAI/ABnormal01...</td>\n",
       "      <td>FP-A</td>\n",
       "      <td>...</td>\n",
       "      <td>https://irisprodseatraining.blob.core.windows....</td>\n",
       "      <td>163.0</td>\n",
       "      <td>139.0</td>\n",
       "      <td>532.0</td>\n",
       "      <td>385.0</td>\n",
       "      <td>0.171698</td>\n",
       "      <td>0.154849</td>\n",
       "      <td>0.560377</td>\n",
       "      <td>0.428287</td>\n",
       "      <td>AB01 P2 C040.JPG</td>\n",
       "    </tr>\n",
       "    <tr>\n",
       "      <th>2</th>\n",
       "      <td>113</td>\n",
       "      <td>113</td>\n",
       "      <td>40</td>\n",
       "      <td>P4</td>\n",
       "      <td>P41</td>\n",
       "      <td>Abnormal</td>\n",
       "      <td>AB01</td>\n",
       "      <td>/media/tohn/HDD/VISION_dataset/USAI/ABnormal01...</td>\n",
       "      <td>/media/tohn/HDD/VISION_dataset/USAI/ABnormal01...</td>\n",
       "      <td>FP-B</td>\n",
       "      <td>...</td>\n",
       "      <td>https://irisprodseatraining.blob.core.windows....</td>\n",
       "      <td>127.0</td>\n",
       "      <td>135.0</td>\n",
       "      <td>605.0</td>\n",
       "      <td>640.0</td>\n",
       "      <td>0.140316</td>\n",
       "      <td>0.150865</td>\n",
       "      <td>0.667984</td>\n",
       "      <td>0.711155</td>\n",
       "      <td>AB01 P4-1 C040.JPG</td>\n",
       "    </tr>\n",
       "    <tr>\n",
       "      <th>3</th>\n",
       "      <td>114</td>\n",
       "      <td>114</td>\n",
       "      <td>40</td>\n",
       "      <td>P5</td>\n",
       "      <td>P51</td>\n",
       "      <td>Abnormal</td>\n",
       "      <td>AB01</td>\n",
       "      <td>/media/tohn/HDD/VISION_dataset/USAI/ABnormal01...</td>\n",
       "      <td>/media/tohn/HDD/VISION_dataset/USAI/ABnormal01...</td>\n",
       "      <td>FP-C</td>\n",
       "      <td>...</td>\n",
       "      <td>https://irisprodseatraining.blob.core.windows....</td>\n",
       "      <td>59.0</td>\n",
       "      <td>96.0</td>\n",
       "      <td>643.0</td>\n",
       "      <td>587.0</td>\n",
       "      <td>0.063462</td>\n",
       "      <td>0.107041</td>\n",
       "      <td>0.690385</td>\n",
       "      <td>0.653386</td>\n",
       "      <td>AB01 P5-1 C040.JPG</td>\n",
       "    </tr>\n",
       "    <tr>\n",
       "      <th>4</th>\n",
       "      <td>115</td>\n",
       "      <td>115</td>\n",
       "      <td>40</td>\n",
       "      <td>P3</td>\n",
       "      <td>P31</td>\n",
       "      <td>Abnormal</td>\n",
       "      <td>AB01</td>\n",
       "      <td>/media/tohn/HDD/VISION_dataset/USAI/ABnormal01...</td>\n",
       "      <td>/media/tohn/HDD/VISION_dataset/USAI/ABnormal01...</td>\n",
       "      <td>FP-B</td>\n",
       "      <td>...</td>\n",
       "      <td>https://irisprodseatraining.blob.core.windows....</td>\n",
       "      <td>199.0</td>\n",
       "      <td>132.0</td>\n",
       "      <td>618.0</td>\n",
       "      <td>562.0</td>\n",
       "      <td>0.216374</td>\n",
       "      <td>0.146881</td>\n",
       "      <td>0.672515</td>\n",
       "      <td>0.625498</td>\n",
       "      <td>AB01 P3-1 C040.JPG</td>\n",
       "    </tr>\n",
       "  </tbody>\n",
       "</table>\n",
       "<p>5 rows × 22 columns</p>\n",
       "</div>"
      ],
      "text/plain": [
       "   Unnamed: 0  Unnamed: 0.1  Case Abs Position Sub Position     Class  \\\n",
       "0         111           111    40           P1           P1  Abnormal   \n",
       "1         112           112    40           P2           P2  Abnormal   \n",
       "2         113           113    40           P4          P41  Abnormal   \n",
       "3         114           114    40           P5          P51  Abnormal   \n",
       "4         115           115    40           P3          P31  Abnormal   \n",
       "\n",
       "  Sub_class                                          Path Full  \\\n",
       "0      AB01  /media/tohn/HDD/VISION_dataset/USAI/ABnormal01...   \n",
       "1      AB01  /media/tohn/HDD/VISION_dataset/USAI/ABnormal01...   \n",
       "2      AB01  /media/tohn/HDD/VISION_dataset/USAI/ABnormal01...   \n",
       "3      AB01  /media/tohn/HDD/VISION_dataset/USAI/ABnormal01...   \n",
       "4      AB01  /media/tohn/HDD/VISION_dataset/USAI/ABnormal01...   \n",
       "\n",
       "                                           Path Crop Views  ...  \\\n",
       "0  /media/tohn/HDD/VISION_dataset/USAI/ABnormal01...  FP-A  ...   \n",
       "1  /media/tohn/HDD/VISION_dataset/USAI/ABnormal01...  FP-A  ...   \n",
       "2  /media/tohn/HDD/VISION_dataset/USAI/ABnormal01...  FP-B  ...   \n",
       "3  /media/tohn/HDD/VISION_dataset/USAI/ABnormal01...  FP-C  ...   \n",
       "4  /media/tohn/HDD/VISION_dataset/USAI/ABnormal01...  FP-B  ...   \n",
       "\n",
       "                                       originalImage   left    top  width  \\\n",
       "0  https://irisprodseatraining.blob.core.windows....   86.0  133.0  477.0   \n",
       "1  https://irisprodseatraining.blob.core.windows....  163.0  139.0  532.0   \n",
       "2  https://irisprodseatraining.blob.core.windows....  127.0  135.0  605.0   \n",
       "3  https://irisprodseatraining.blob.core.windows....   59.0   96.0  643.0   \n",
       "4  https://irisprodseatraining.blob.core.windows....  199.0  132.0  618.0   \n",
       "\n",
       "   height     Rleft      Rtop    Rwidth   Rheight            filename  \n",
       "0   311.0  0.092664  0.148873  0.513514  0.346614    AB01 P1 C040.JPG  \n",
       "1   385.0  0.171698  0.154849  0.560377  0.428287    AB01 P2 C040.JPG  \n",
       "2   640.0  0.140316  0.150865  0.667984  0.711155  AB01 P4-1 C040.JPG  \n",
       "3   587.0  0.063462  0.107041  0.690385  0.653386  AB01 P5-1 C040.JPG  \n",
       "4   562.0  0.216374  0.146881  0.672515  0.625498  AB01 P3-1 C040.JPG  \n",
       "\n",
       "[5 rows x 22 columns]"
      ]
     },
     "execution_count": 5,
     "metadata": {},
     "output_type": "execute_result"
    }
   ],
   "source": [
    "import pandas as pd\n",
    "df0 = pd.read_csv (r'/home/yupaporn/codes/USAI/Testdf.csv')\n",
    "print(df0 .shape)\n",
    "dataframe = df0[(df0['Path Crop']!='None' )&(df0['Path Crop']!='Nan')]\n",
    "print(dataframe.shape)\n",
    "print('Normal: ',dataframe[dataframe['Class']=='Normal'].shape)\n",
    "print('Abnormal: ',dataframe[dataframe['Class']=='Abnormal'].shape)\n",
    "dataframe.head(5)"
   ]
  },
  {
   "cell_type": "code",
   "execution_count": 6,
   "metadata": {},
   "outputs": [
    {
     "name": "stdout",
     "output_type": "stream",
     "text": [
      "Found 1312 validated image filenames belonging to 15 classes.\n",
      "{0: 'AB01', 1: 'AB02', 2: 'AB03', 3: 'AB04', 4: 'AB05', 5: 'AB06', 6: 'AB07', 7: 'AB081', 8: 'AB082', 9: 'AB083', 10: 'AB09', 11: 'AB10', 12: 'AB11', 13: 'AB12', 14: 'Normal'}\n"
     ]
    }
   ],
   "source": [
    "batch_size = 64\n",
    "epochs = 10\n",
    "\n",
    "from tensorflow.keras.preprocessing.image import ImageDataGenerator\n",
    "\n",
    "train_datagen = ImageDataGenerator(\n",
    "      rescale=1./255,\n",
    "      rotation_range=30,\n",
    "      width_shift_range=0.2,\n",
    "      height_shift_range=0.2,\n",
    "      brightness_range=[0.5,1.5],\n",
    "      shear_range=0.4,\n",
    "      zoom_range=0.2,\n",
    "      horizontal_flip=False,\n",
    "      fill_mode='nearest')\n",
    "\n",
    "train_generator = train_datagen.flow_from_dataframe(\n",
    "        dataframe = dataframe,\n",
    "        directory = train_dir,\n",
    "        x_col = 'Path Crop',\n",
    "        y_col = 'Sub_class',\n",
    "        target_size = (height, width),\n",
    "        batch_size=batch_size,\n",
    "        color_mode= 'rgb',\n",
    "        class_mode='categorical')\n",
    "\n",
    "#label\n",
    "labels = (train_generator.class_indices)\n",
    "labels = dict((v,k.replace(\"C\",\"\")) for k,v in labels.items())\n",
    "print(labels)"
   ]
  },
  {
   "cell_type": "markdown",
   "metadata": {},
   "source": [
    "# Prediction"
   ]
  },
  {
   "cell_type": "code",
   "execution_count": 7,
   "metadata": {},
   "outputs": [],
   "source": [
    "from tensorflow.keras.preprocessing import image\n",
    "def predict_image(img_path):\n",
    "    # Read the image and resize it\n",
    "    img = image.load_img(img_path, target_size=(height, width))\n",
    "    # Convert it to a Numpy array with target shape.\n",
    "    x = image.img_to_array(img)\n",
    "    # Reshape\n",
    "    x = x.reshape((1,) + x.shape)\n",
    "    x /= 255.\n",
    "    result = model.predict([x])\n",
    "    \n",
    "    return result[0]\n",
    "\n",
    "#Predict\n",
    "pred_list = list()\n",
    "prob_list = list()\n",
    "img_path=dataframe['Path Crop'].tolist()\n",
    "for i in range(0,len(img_path)):\n",
    "    predict = predict_image(img_path[i])\n",
    "    result = np.argmax(predict)\n",
    "    pred_list.append(labels[result])\n",
    "    prob_list.append(predict[result])\n",
    "\n",
    "dataframe['category'] = pred_list\n",
    "dataframe['Prob'] = prob_list"
   ]
  },
  {
   "cell_type": "code",
   "execution_count": 12,
   "metadata": {},
   "outputs": [
    {
     "name": "stdout",
     "output_type": "stream",
     "text": [
      "<class 'pandas.core.frame.DataFrame'>\n",
      "Int64Index: 1312 entries, 0 to 1311\n",
      "Data columns (total 24 columns):\n",
      " #   Column         Non-Null Count  Dtype  \n",
      "---  ------         --------------  -----  \n",
      " 0   Unnamed: 0     1312 non-null   int64  \n",
      " 1   Unnamed: 0.1   1312 non-null   int64  \n",
      " 2   Case           1312 non-null   int64  \n",
      " 3   Abs Position   1312 non-null   object \n",
      " 4   Sub Position   1312 non-null   object \n",
      " 5   Class          1312 non-null   object \n",
      " 6   Sub_class      1312 non-null   object \n",
      " 7   Path Full      1312 non-null   object \n",
      " 8   Path Crop      1312 non-null   object \n",
      " 9   Views          1312 non-null   object \n",
      " 10  fold           1312 non-null   int64  \n",
      " 11  tagName        1312 non-null   object \n",
      " 12  originalImage  455 non-null    object \n",
      " 13  left           455 non-null    float64\n",
      " 14  top            455 non-null    float64\n",
      " 15  width          455 non-null    float64\n",
      " 16  height         455 non-null    float64\n",
      " 17  Rleft          455 non-null    float64\n",
      " 18  Rtop           455 non-null    float64\n",
      " 19  Rwidth         455 non-null    float64\n",
      " 20  Rheight        455 non-null    float64\n",
      " 21  filename       1312 non-null   object \n",
      " 22  category       1312 non-null   object \n",
      " 23  Prob           1312 non-null   float64\n",
      "dtypes: float64(9), int64(4), object(11)\n",
      "memory usage: 256.2+ KB\n"
     ]
    }
   ],
   "source": [
    "dataframe.info()"
   ]
  },
  {
   "cell_type": "code",
   "execution_count": 16,
   "metadata": {},
   "outputs": [],
   "source": [
    "cat = dataframe['category'].map({'AB12':1, 'AB04':1, 'AB05':1, 'Normal':0, 'AB02':1, 'AB11':1, 'AB082':1, 'AB06':1,'AB07':1, 'AB081':1, 'AB09':1, 'AB03':1, 'AB10':1, 'AB01':1, 'AB083':1}).values\n",
    "act= dataframe['Sub_class'].map({'AB12':1, 'AB04':1, 'AB05':1, 'Normal':0, 'AB02':1, 'AB11':1, 'AB082':1, 'AB06':1,'AB07':1, 'AB081':1, 'AB09':1, 'AB03':1, 'AB10':1, 'AB01':1, 'AB083':1}).values\n",
    "aa = []\n",
    "for i in range(len(dataframe)):\n",
    "    if cat[i] == act[i]:\n",
    "        a = 'Correct'\n",
    "    else:\n",
    "        a = 'Incorrect'\n",
    "    aa.append(a)\n",
    "dataframe['Predict_AN'] = aa"
   ]
  },
  {
   "cell_type": "code",
   "execution_count": 18,
   "metadata": {},
   "outputs": [],
   "source": [
    "cat = dataframe['category'].tolist()\n",
    "act= dataframe['Sub_class'].tolist()\n",
    "aa =[]\n",
    "for i in range(len(dataframe)):\n",
    "    if cat[i] == act[i]:\n",
    "        a = 'Correct'\n",
    "    else:\n",
    "        a = 'Incorrect'\n",
    "    aa.append(a)\n",
    "dataframe['Predict_15AB'] = aa"
   ]
  },
  {
   "cell_type": "code",
   "execution_count": 19,
   "metadata": {},
   "outputs": [
    {
     "data": {
      "text/html": [
       "<div>\n",
       "<style scoped>\n",
       "    .dataframe tbody tr th:only-of-type {\n",
       "        vertical-align: middle;\n",
       "    }\n",
       "\n",
       "    .dataframe tbody tr th {\n",
       "        vertical-align: top;\n",
       "    }\n",
       "\n",
       "    .dataframe thead th {\n",
       "        text-align: right;\n",
       "    }\n",
       "</style>\n",
       "<table border=\"1\" class=\"dataframe\">\n",
       "  <thead>\n",
       "    <tr style=\"text-align: right;\">\n",
       "      <th></th>\n",
       "      <th>Unnamed: 0</th>\n",
       "      <th>Unnamed: 0.1</th>\n",
       "      <th>Case</th>\n",
       "      <th>Abs Position</th>\n",
       "      <th>Sub Position</th>\n",
       "      <th>Class</th>\n",
       "      <th>Sub_class</th>\n",
       "      <th>Path Full</th>\n",
       "      <th>Path Crop</th>\n",
       "      <th>Views</th>\n",
       "      <th>...</th>\n",
       "      <th>height</th>\n",
       "      <th>Rleft</th>\n",
       "      <th>Rtop</th>\n",
       "      <th>Rwidth</th>\n",
       "      <th>Rheight</th>\n",
       "      <th>filename</th>\n",
       "      <th>category</th>\n",
       "      <th>Prob</th>\n",
       "      <th>Predict_AN</th>\n",
       "      <th>Predict_15AB</th>\n",
       "    </tr>\n",
       "  </thead>\n",
       "  <tbody>\n",
       "    <tr>\n",
       "      <th>0</th>\n",
       "      <td>111</td>\n",
       "      <td>111</td>\n",
       "      <td>40</td>\n",
       "      <td>P1</td>\n",
       "      <td>P1</td>\n",
       "      <td>Abnormal</td>\n",
       "      <td>AB01</td>\n",
       "      <td>/media/tohn/HDD/VISION_dataset/USAI/ABnormal01...</td>\n",
       "      <td>/media/tohn/HDD/VISION_dataset/USAI/ABnormal01...</td>\n",
       "      <td>FP-A</td>\n",
       "      <td>...</td>\n",
       "      <td>311.0</td>\n",
       "      <td>0.092664</td>\n",
       "      <td>0.148873</td>\n",
       "      <td>0.513514</td>\n",
       "      <td>0.346614</td>\n",
       "      <td>AB01 P1 C040.JPG</td>\n",
       "      <td>Normal</td>\n",
       "      <td>0.958334</td>\n",
       "      <td>Incorrect</td>\n",
       "      <td>Incorrect</td>\n",
       "    </tr>\n",
       "    <tr>\n",
       "      <th>1</th>\n",
       "      <td>112</td>\n",
       "      <td>112</td>\n",
       "      <td>40</td>\n",
       "      <td>P2</td>\n",
       "      <td>P2</td>\n",
       "      <td>Abnormal</td>\n",
       "      <td>AB01</td>\n",
       "      <td>/media/tohn/HDD/VISION_dataset/USAI/ABnormal01...</td>\n",
       "      <td>/media/tohn/HDD/VISION_dataset/USAI/ABnormal01...</td>\n",
       "      <td>FP-A</td>\n",
       "      <td>...</td>\n",
       "      <td>385.0</td>\n",
       "      <td>0.171698</td>\n",
       "      <td>0.154849</td>\n",
       "      <td>0.560377</td>\n",
       "      <td>0.428287</td>\n",
       "      <td>AB01 P2 C040.JPG</td>\n",
       "      <td>AB01</td>\n",
       "      <td>0.999923</td>\n",
       "      <td>Correct</td>\n",
       "      <td>Correct</td>\n",
       "    </tr>\n",
       "    <tr>\n",
       "      <th>2</th>\n",
       "      <td>113</td>\n",
       "      <td>113</td>\n",
       "      <td>40</td>\n",
       "      <td>P4</td>\n",
       "      <td>P41</td>\n",
       "      <td>Abnormal</td>\n",
       "      <td>AB01</td>\n",
       "      <td>/media/tohn/HDD/VISION_dataset/USAI/ABnormal01...</td>\n",
       "      <td>/media/tohn/HDD/VISION_dataset/USAI/ABnormal01...</td>\n",
       "      <td>FP-B</td>\n",
       "      <td>...</td>\n",
       "      <td>640.0</td>\n",
       "      <td>0.140316</td>\n",
       "      <td>0.150865</td>\n",
       "      <td>0.667984</td>\n",
       "      <td>0.711155</td>\n",
       "      <td>AB01 P4-1 C040.JPG</td>\n",
       "      <td>AB02</td>\n",
       "      <td>0.932391</td>\n",
       "      <td>Correct</td>\n",
       "      <td>Incorrect</td>\n",
       "    </tr>\n",
       "    <tr>\n",
       "      <th>3</th>\n",
       "      <td>114</td>\n",
       "      <td>114</td>\n",
       "      <td>40</td>\n",
       "      <td>P5</td>\n",
       "      <td>P51</td>\n",
       "      <td>Abnormal</td>\n",
       "      <td>AB01</td>\n",
       "      <td>/media/tohn/HDD/VISION_dataset/USAI/ABnormal01...</td>\n",
       "      <td>/media/tohn/HDD/VISION_dataset/USAI/ABnormal01...</td>\n",
       "      <td>FP-C</td>\n",
       "      <td>...</td>\n",
       "      <td>587.0</td>\n",
       "      <td>0.063462</td>\n",
       "      <td>0.107041</td>\n",
       "      <td>0.690385</td>\n",
       "      <td>0.653386</td>\n",
       "      <td>AB01 P5-1 C040.JPG</td>\n",
       "      <td>AB01</td>\n",
       "      <td>0.758282</td>\n",
       "      <td>Correct</td>\n",
       "      <td>Correct</td>\n",
       "    </tr>\n",
       "    <tr>\n",
       "      <th>4</th>\n",
       "      <td>115</td>\n",
       "      <td>115</td>\n",
       "      <td>40</td>\n",
       "      <td>P3</td>\n",
       "      <td>P31</td>\n",
       "      <td>Abnormal</td>\n",
       "      <td>AB01</td>\n",
       "      <td>/media/tohn/HDD/VISION_dataset/USAI/ABnormal01...</td>\n",
       "      <td>/media/tohn/HDD/VISION_dataset/USAI/ABnormal01...</td>\n",
       "      <td>FP-B</td>\n",
       "      <td>...</td>\n",
       "      <td>562.0</td>\n",
       "      <td>0.216374</td>\n",
       "      <td>0.146881</td>\n",
       "      <td>0.672515</td>\n",
       "      <td>0.625498</td>\n",
       "      <td>AB01 P3-1 C040.JPG</td>\n",
       "      <td>AB02</td>\n",
       "      <td>0.995624</td>\n",
       "      <td>Correct</td>\n",
       "      <td>Incorrect</td>\n",
       "    </tr>\n",
       "  </tbody>\n",
       "</table>\n",
       "<p>5 rows × 26 columns</p>\n",
       "</div>"
      ],
      "text/plain": [
       "   Unnamed: 0  Unnamed: 0.1  Case Abs Position Sub Position     Class  \\\n",
       "0         111           111    40           P1           P1  Abnormal   \n",
       "1         112           112    40           P2           P2  Abnormal   \n",
       "2         113           113    40           P4          P41  Abnormal   \n",
       "3         114           114    40           P5          P51  Abnormal   \n",
       "4         115           115    40           P3          P31  Abnormal   \n",
       "\n",
       "  Sub_class                                          Path Full  \\\n",
       "0      AB01  /media/tohn/HDD/VISION_dataset/USAI/ABnormal01...   \n",
       "1      AB01  /media/tohn/HDD/VISION_dataset/USAI/ABnormal01...   \n",
       "2      AB01  /media/tohn/HDD/VISION_dataset/USAI/ABnormal01...   \n",
       "3      AB01  /media/tohn/HDD/VISION_dataset/USAI/ABnormal01...   \n",
       "4      AB01  /media/tohn/HDD/VISION_dataset/USAI/ABnormal01...   \n",
       "\n",
       "                                           Path Crop Views  ...  height  \\\n",
       "0  /media/tohn/HDD/VISION_dataset/USAI/ABnormal01...  FP-A  ...   311.0   \n",
       "1  /media/tohn/HDD/VISION_dataset/USAI/ABnormal01...  FP-A  ...   385.0   \n",
       "2  /media/tohn/HDD/VISION_dataset/USAI/ABnormal01...  FP-B  ...   640.0   \n",
       "3  /media/tohn/HDD/VISION_dataset/USAI/ABnormal01...  FP-C  ...   587.0   \n",
       "4  /media/tohn/HDD/VISION_dataset/USAI/ABnormal01...  FP-B  ...   562.0   \n",
       "\n",
       "      Rleft      Rtop    Rwidth   Rheight            filename  category  \\\n",
       "0  0.092664  0.148873  0.513514  0.346614    AB01 P1 C040.JPG    Normal   \n",
       "1  0.171698  0.154849  0.560377  0.428287    AB01 P2 C040.JPG      AB01   \n",
       "2  0.140316  0.150865  0.667984  0.711155  AB01 P4-1 C040.JPG      AB02   \n",
       "3  0.063462  0.107041  0.690385  0.653386  AB01 P5-1 C040.JPG      AB01   \n",
       "4  0.216374  0.146881  0.672515  0.625498  AB01 P3-1 C040.JPG      AB02   \n",
       "\n",
       "       Prob  Predict_AN  Predict_15AB  \n",
       "0  0.958334   Incorrect     Incorrect  \n",
       "1  0.999923     Correct       Correct  \n",
       "2  0.932391     Correct     Incorrect  \n",
       "3  0.758282     Correct       Correct  \n",
       "4  0.995624     Correct     Incorrect  \n",
       "\n",
       "[5 rows x 26 columns]"
      ]
     },
     "execution_count": 19,
     "metadata": {},
     "output_type": "execute_result"
    }
   ],
   "source": [
    "dataframe.head(5)"
   ]
  },
  {
   "cell_type": "code",
   "execution_count": 20,
   "metadata": {},
   "outputs": [],
   "source": [
    "import os\n",
    "os.chdir( '/home/yupaporn/codes/USAI/')\n",
    "dataframe.to_csv('Testdf_result.csv')"
   ]
  },
  {
   "cell_type": "markdown",
   "metadata": {},
   "source": [
    "# Visualization"
   ]
  },
  {
   "cell_type": "code",
   "execution_count": 9,
   "metadata": {},
   "outputs": [
    {
     "name": "stdout",
     "output_type": "stream",
     "text": [
      "Predicted :  15\n",
      "{'AB082', 'AB02', 'AB081', 'AB05', 'AB12', 'AB01', 'AB07', 'AB04', 'AB09', 'AB083', 'AB10', 'AB11', 'AB03', 'AB06', 'Normal'}\n",
      "Actual :  15\n",
      "{'AB082', 'AB02', 'AB081', 'AB05', 'AB12', 'AB01', 'AB07', 'AB04', 'AB09', 'AB083', 'AB10', 'AB11', 'AB03', 'AB06', 'Normal'}\n"
     ]
    }
   ],
   "source": [
    "data_train = dataframe\n",
    "#เช็คคลาสใน Predicted\n",
    "pred_class = set(data_train['category'])\n",
    "print('Predicted : ',len(pred_class))\n",
    "print(pred_class)\n",
    "#เช็คคลาสใน Actual\n",
    "classe = set(data_train['Sub_class'])\n",
    "print('Actual : ',len(classe))\n",
    "print(classe)"
   ]
  },
  {
   "cell_type": "code",
   "execution_count": 10,
   "metadata": {},
   "outputs": [
    {
     "name": "stdout",
     "output_type": "stream",
     "text": [
      "classifier accuracy = 85.89939024390245%\n",
      "              precision    recall  f1-score   support\n",
      "\n",
      "        AB01       0.78      0.54      0.64        74\n",
      "        AB02       0.58      0.58      0.58        60\n",
      "        AB03       0.43      0.50      0.46        18\n",
      "        AB04       0.90      0.60      0.72        43\n",
      "        AB05       0.86      0.66      0.75        29\n",
      "        AB06       0.81      0.62      0.70        21\n",
      "        AB07       0.91      0.48      0.62        21\n",
      "       AB081       0.86      0.56      0.68        32\n",
      "       AB082       0.79      0.54      0.64        28\n",
      "       AB083       0.62      0.45      0.53        11\n",
      "        AB09       1.00      0.73      0.84        26\n",
      "        AB10       0.80      0.40      0.53        10\n",
      "        AB11       1.00      0.43      0.61        23\n",
      "        AB12       0.72      0.88      0.79        59\n",
      "      Normal       0.90      0.99      0.94       857\n",
      "\n",
      "    accuracy                           0.86      1312\n",
      "   macro avg       0.80      0.60      0.67      1312\n",
      "weighted avg       0.86      0.86      0.85      1312\n",
      "\n"
     ]
    }
   ],
   "source": [
    "import numpy as np\n",
    "from sklearn.metrics import confusion_matrix\n",
    "act = data_train['Sub_class'].array\n",
    "pred = data_train['category'].array\n",
    "\n",
    "cmat = confusion_matrix(act, pred)\n",
    "print('classifier accuracy = {}%'.format((100.*np.trace(cmat))/(np.sum(cmat))))\n",
    "\n",
    "#Marking the Confusion Matrix\n",
    "from sklearn.metrics import classification_report,confusion_matrix\n",
    "print(classification_report(act, pred))#performance"
   ]
  },
  {
   "cell_type": "markdown",
   "metadata": {},
   "source": [
    "### Confusion matrix"
   ]
  },
  {
   "cell_type": "code",
   "execution_count": 11,
   "metadata": {},
   "outputs": [
    {
     "data": {
      "text/plain": [
       "Text(0.5, 21.5, 'Predicted label')"
      ]
     },
     "execution_count": 11,
     "metadata": {},
     "output_type": "execute_result"
    },
    {
     "data": {
      "image/png": "[encoded data removed]",
      "text/plain": [
       "<Figure size 576x360 with 2 Axes>"
      ]
     },
     "metadata": {},
     "output_type": "display_data"
    }
   ],
   "source": [
    "#create CF \n",
    "data = {'Actual': act,'Predicted' : pred,}\n",
    "df = pd.DataFrame(data, columns=['Actual','Predicted'])\n",
    "conf_mat = pd.crosstab(df['Actual'],df['Predicted'],rownames=['Actual'],colnames=['Predicted'])\n",
    "\n",
    "#Confusion matrix\n",
    "from sklearn.metrics import confusion_matrix\n",
    "import matplotlib.pyplot as plt\n",
    "cm = confusion_matrix(act, pred)\n",
    "\n",
    "#plot Confusion matrix\n",
    "import seaborn as sns\n",
    "sns.set()\n",
    "fig, ax = plt.subplots(figsize=(8, 5))\n",
    "\n",
    "ax = sns.heatmap(conf_mat, annot=True, fmt=\"d\", cmap=\"YlGnBu\") #Blues,Oranges,Reds\n",
    "ax.set_title('Confusion matrix',fontsize=20)\n",
    "ax.set_ylabel('True label',fontsize=18)\n",
    "ax.set_xlabel('Predicted label',fontsize=18)"
   ]
  },
  {
   "cell_type": "code",
   "execution_count": 12,
   "metadata": {},
   "outputs": [
    {
     "name": "stdout",
     "output_type": "stream",
     "text": [
      "classifier accuracy = 92.53048780487805%\n",
      "              precision    recall  f1-score   support\n",
      "\n",
      "           0       0.90      0.99      0.95       857\n",
      "           1       0.99      0.80      0.88       455\n",
      "\n",
      "    accuracy                           0.93      1312\n",
      "   macro avg       0.94      0.89      0.91      1312\n",
      "weighted avg       0.93      0.93      0.92      1312\n",
      "\n"
     ]
    }
   ],
   "source": [
    "act= data_train['Sub_class'].map({'AB12':1, 'AB04':1, 'AB05':1, 'Normal':0, 'AB02':1, 'AB11':1, 'AB082':1, 'AB06':1,'AB07':1, 'AB081':1, 'AB09':1, 'AB03':1, 'AB10':1, 'AB01':1, 'AB083':1}).values\n",
    "pred = data_train['category'].map({'AB12':1, 'AB04':1, 'AB05':1, 'Normal':0, 'AB02':1, 'AB11':1, 'AB082':1, 'AB06':1,'AB07':1, 'AB081':1, 'AB09':1, 'AB03':1, 'AB10':1, 'AB01':1, 'AB083':1}).values\n",
    "cmat = confusion_matrix(act, pred)\n",
    "print('classifier accuracy = {}%'.format((100.*np.trace(cmat))/(np.sum(cmat))))\n",
    "\n",
    "#Marking the Confusion Matrix\n",
    "from sklearn.metrics import classification_report,confusion_matrix\n",
    "print(classification_report(act, pred))#performance"
   ]
  },
  {
   "cell_type": "code",
   "execution_count": 13,
   "metadata": {},
   "outputs": [
    {
     "name": "stdout",
     "output_type": "stream",
     "text": [
      "852 5 93 362\n"
     ]
    },
    {
     "data": {
      "text/plain": [
       "Text(0.5, 21.5, 'Predicted label')"
      ]
     },
     "execution_count": 13,
     "metadata": {},
     "output_type": "execute_result"
    },
    {
     "data": {
      "image/png": "[encoded data removed]",
      "text/plain": [
       "<Figure size 576x360 with 2 Axes>"
      ]
     },
     "metadata": {},
     "output_type": "display_data"
    }
   ],
   "source": [
    "#create CF \n",
    "data = {'Actual': act,'Predicted' : pred,}\n",
    "df = pd.DataFrame(data, columns=['Actual','Predicted'])\n",
    "conf_mat = pd.crosstab(df['Actual'],df['Predicted'],rownames=['Actual'],colnames=['Predicted'])\n",
    "\n",
    "#Confusion matrix\n",
    "from sklearn.metrics import confusion_matrix\n",
    "import matplotlib.pyplot as plt\n",
    "cm = confusion_matrix(act, pred)\n",
    "TN, FP, FN, TP = confusion_matrix(act, pred).ravel()\n",
    "print(TN, FP, FN, TP)\n",
    "#plot Confusion matrix\n",
    "import seaborn as sns\n",
    "sns.set()\n",
    "fig, ax = plt.subplots(figsize=(8, 5))\n",
    "\n",
    "ax = sns.heatmap(conf_mat, annot=True, fmt=\"d\", cmap=\"YlGnBu\") #Blues,Oranges,Reds\n",
    "ax.set_title('Confusion matrix',fontsize=20)\n",
    "ax.set_ylabel('True label',fontsize=18)\n",
    "ax.set_xlabel('Predicted label',fontsize=18)"
   ]
  },
  {
   "cell_type": "code",
   "execution_count": 14,
   "metadata": {},
   "outputs": [
    {
     "name": "stdout",
     "output_type": "stream",
     "text": [
      "852 5 93 362\n"
     ]
    }
   ],
   "source": [
    "TN, FP, FN, TP = confusion_matrix(act, pred).ravel()\n",
    "print(TN, FP, FN, TP)"
   ]
  },
  {
   "cell_type": "code",
   "execution_count": null,
   "metadata": {},
   "outputs": [],
   "source": []
  }
 ],
 "metadata": {
  "kernelspec": {
   "display_name": "USAI",
   "language": "python",
   "name": "usai"
  },
  "language_info": {
   "codemirror_mode": {
    "name": "ipython",
    "version": 3
   },
   "file_extension": ".py",
   "mimetype": "text/x-python",
   "name": "python",
   "nbconvert_exporter": "python",
   "pygments_lexer": "ipython3",
   "version": "3.6.9"
  }
 },
 "nbformat": 4,
 "nbformat_minor": 4
}
