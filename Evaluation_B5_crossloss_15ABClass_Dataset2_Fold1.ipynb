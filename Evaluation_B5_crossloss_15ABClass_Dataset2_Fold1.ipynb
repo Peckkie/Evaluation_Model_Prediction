{
 "cells": [
  {
   "cell_type": "code",
   "execution_count": 1,
   "metadata": {},
   "outputs": [],
   "source": [
    "import os\n",
    "import numpy as np\n",
    "import efficientnet.tfkeras\n",
    "from tensorflow.keras.models import load_model"
   ]
  },
  {
   "cell_type": "code",
   "execution_count": 2,
   "metadata": {},
   "outputs": [],
   "source": [
    "os.environ[\"CUDA_VISIBLE_DEVICES\"]=\"\""
   ]
  },
  {
   "cell_type": "markdown",
   "metadata": {},
   "source": [
    "# load model"
   ]
  },
  {
   "cell_type": "code",
   "execution_count": 3,
   "metadata": {},
   "outputs": [
    {
     "name": "stdout",
     "output_type": "stream",
     "text": [
      "WARNING:tensorflow:Error in loading the saved optimizer state. As a result, your model is starting with a freshly initialized optimizer.\n"
     ]
    }
   ],
   "source": [
    "model_dir ='/media/tohn/SSD/ModelTrainByImages/R2_1/models/B5R2b5_15AB_1FC_fold1_2.h5' #แก้\n",
    "model = load_model(model_dir)\n",
    "height = width = model.input_shape[1]"
   ]
  },
  {
   "cell_type": "code",
   "execution_count": 4,
   "metadata": {},
   "outputs": [],
   "source": [
    "# validation\n",
    "import pandas as pd\n",
    "base_dir  = '/media/tohn/SSD/Images/Image1/'#แก้\n",
    "dataframe = pd.read_csv( '/home/yupaporn/codes/USAI/Validationdf_fold1_2.csv')#แก้\n",
    "validation_dir = os.path.join(base_dir, 'validation')\n",
    "\n",
    "#Train\n",
    "train_df = pd.read_csv( '/home/yupaporn/codes/USAI/Traindf_fold1_2.csv')#แก้\n",
    "base_dir0 = '/media/tohn/SSD/Images/Image1/'#แก้\n",
    "os.chdir(base_dir0)\n",
    "train_dir = os.path.join(base_dir0, 'train')"
   ]
  },
  {
   "cell_type": "markdown",
   "metadata": {},
   "source": [
    "# Select Data"
   ]
  },
  {
   "cell_type": "code",
   "execution_count": 5,
   "metadata": {},
   "outputs": [
    {
     "name": "stdout",
     "output_type": "stream",
     "text": [
      "(975, 22)\n",
      "(975, 22)\n",
      "Normal:  (681, 22)\n",
      "Abnormal:  (294, 22)\n"
     ]
    },
    {
     "data": {
      "text/html": [
       "<div>\n",
       "<style scoped>\n",
       "    .dataframe tbody tr th:only-of-type {\n",
       "        vertical-align: middle;\n",
       "    }\n",
       "\n",
       "    .dataframe tbody tr th {\n",
       "        vertical-align: top;\n",
       "    }\n",
       "\n",
       "    .dataframe thead th {\n",
       "        text-align: right;\n",
       "    }\n",
       "</style>\n",
       "<table border=\"1\" class=\"dataframe\">\n",
       "  <thead>\n",
       "    <tr style=\"text-align: right;\">\n",
       "      <th></th>\n",
       "      <th>Unnamed: 0</th>\n",
       "      <th>Unnamed: 0.1</th>\n",
       "      <th>Case</th>\n",
       "      <th>Abs Position</th>\n",
       "      <th>Sub Position</th>\n",
       "      <th>Class</th>\n",
       "      <th>Sub_class</th>\n",
       "      <th>Path Full</th>\n",
       "      <th>Path Crop</th>\n",
       "      <th>Views</th>\n",
       "      <th>...</th>\n",
       "      <th>originalImage</th>\n",
       "      <th>left</th>\n",
       "      <th>top</th>\n",
       "      <th>width</th>\n",
       "      <th>height</th>\n",
       "      <th>Rleft</th>\n",
       "      <th>Rtop</th>\n",
       "      <th>Rwidth</th>\n",
       "      <th>Rheight</th>\n",
       "      <th>filename</th>\n",
       "    </tr>\n",
       "  </thead>\n",
       "  <tbody>\n",
       "    <tr>\n",
       "      <th>0</th>\n",
       "      <td>0</td>\n",
       "      <td>1</td>\n",
       "      <td>15</td>\n",
       "      <td>P1</td>\n",
       "      <td>P1</td>\n",
       "      <td>Abnormal</td>\n",
       "      <td>AB01</td>\n",
       "      <td>/media/tohn/HDD/VISION_dataset/USAI/ABnormal01...</td>\n",
       "      <td>/media/tohn/HDD/VISION_dataset/USAI/ABnormal01...</td>\n",
       "      <td>FP-A</td>\n",
       "      <td>...</td>\n",
       "      <td>https://irisprodseatraining.blob.core.windows....</td>\n",
       "      <td>141.0</td>\n",
       "      <td>96.0</td>\n",
       "      <td>586.0</td>\n",
       "      <td>614.0</td>\n",
       "      <td>0.143898</td>\n",
       "      <td>0.107041</td>\n",
       "      <td>0.595628</td>\n",
       "      <td>0.683267</td>\n",
       "      <td>AB01 P1 C015.JPG</td>\n",
       "    </tr>\n",
       "    <tr>\n",
       "      <th>1</th>\n",
       "      <td>1</td>\n",
       "      <td>2</td>\n",
       "      <td>15</td>\n",
       "      <td>P2</td>\n",
       "      <td>P2</td>\n",
       "      <td>Abnormal</td>\n",
       "      <td>AB01</td>\n",
       "      <td>/media/tohn/HDD/VISION_dataset/USAI/ABnormal01...</td>\n",
       "      <td>/media/tohn/HDD/VISION_dataset/USAI/ABnormal01...</td>\n",
       "      <td>FP-A</td>\n",
       "      <td>...</td>\n",
       "      <td>https://irisprodseatraining.blob.core.windows....</td>\n",
       "      <td>242.0</td>\n",
       "      <td>101.0</td>\n",
       "      <td>491.0</td>\n",
       "      <td>451.0</td>\n",
       "      <td>0.245009</td>\n",
       "      <td>0.113017</td>\n",
       "      <td>0.497278</td>\n",
       "      <td>0.501992</td>\n",
       "      <td>AB01 P2 C015.JPG</td>\n",
       "    </tr>\n",
       "    <tr>\n",
       "      <th>2</th>\n",
       "      <td>2</td>\n",
       "      <td>10</td>\n",
       "      <td>15</td>\n",
       "      <td>P2</td>\n",
       "      <td>P2</td>\n",
       "      <td>Abnormal</td>\n",
       "      <td>AB02</td>\n",
       "      <td>/media/tohn/HDD/VISION_dataset/USAI/ABnormal01...</td>\n",
       "      <td>/media/tohn/HDD/VISION_dataset/USAI/ABnormal01...</td>\n",
       "      <td>FP-A</td>\n",
       "      <td>...</td>\n",
       "      <td>https://irisprodseatraining.blob.core.windows....</td>\n",
       "      <td>242.0</td>\n",
       "      <td>101.0</td>\n",
       "      <td>502.0</td>\n",
       "      <td>516.0</td>\n",
       "      <td>0.246118</td>\n",
       "      <td>0.113258</td>\n",
       "      <td>0.511070</td>\n",
       "      <td>0.573737</td>\n",
       "      <td>AB02 P2 C015.JPG</td>\n",
       "    </tr>\n",
       "    <tr>\n",
       "      <th>3</th>\n",
       "      <td>3</td>\n",
       "      <td>11</td>\n",
       "      <td>15</td>\n",
       "      <td>P1</td>\n",
       "      <td>P1</td>\n",
       "      <td>Abnormal</td>\n",
       "      <td>AB02</td>\n",
       "      <td>/media/tohn/HDD/VISION_dataset/USAI/ABnormal01...</td>\n",
       "      <td>/media/tohn/HDD/VISION_dataset/USAI/ABnormal01...</td>\n",
       "      <td>FP-A</td>\n",
       "      <td>...</td>\n",
       "      <td>https://irisprodseatraining.blob.core.windows....</td>\n",
       "      <td>257.0</td>\n",
       "      <td>103.0</td>\n",
       "      <td>538.0</td>\n",
       "      <td>634.0</td>\n",
       "      <td>0.256617</td>\n",
       "      <td>0.115278</td>\n",
       "      <td>0.537205</td>\n",
       "      <td>0.705051</td>\n",
       "      <td>AB02 P1 C015.JPG</td>\n",
       "    </tr>\n",
       "    <tr>\n",
       "      <th>4</th>\n",
       "      <td>4</td>\n",
       "      <td>14</td>\n",
       "      <td>15</td>\n",
       "      <td>P2</td>\n",
       "      <td>P2</td>\n",
       "      <td>Abnormal</td>\n",
       "      <td>AB03</td>\n",
       "      <td>/media/tohn/HDD/VISION_dataset/USAI/ABnormal01...</td>\n",
       "      <td>/media/tohn/HDD/VISION_dataset/USAI/ABnormal01...</td>\n",
       "      <td>FP-A</td>\n",
       "      <td>...</td>\n",
       "      <td>https://irisprodseatraining.blob.core.windows....</td>\n",
       "      <td>45.0</td>\n",
       "      <td>187.0</td>\n",
       "      <td>601.0</td>\n",
       "      <td>654.0</td>\n",
       "      <td>0.050314</td>\n",
       "      <td>0.196086</td>\n",
       "      <td>0.668817</td>\n",
       "      <td>0.682828</td>\n",
       "      <td>AB03 P2 C015.JPG</td>\n",
       "    </tr>\n",
       "  </tbody>\n",
       "</table>\n",
       "<p>5 rows × 22 columns</p>\n",
       "</div>"
      ],
      "text/plain": [
       "   Unnamed: 0  Unnamed: 0.1  Case Abs Position Sub Position     Class  \\\n",
       "0           0             1    15           P1           P1  Abnormal   \n",
       "1           1             2    15           P2           P2  Abnormal   \n",
       "2           2            10    15           P2           P2  Abnormal   \n",
       "3           3            11    15           P1           P1  Abnormal   \n",
       "4           4            14    15           P2           P2  Abnormal   \n",
       "\n",
       "  Sub_class                                          Path Full  \\\n",
       "0      AB01  /media/tohn/HDD/VISION_dataset/USAI/ABnormal01...   \n",
       "1      AB01  /media/tohn/HDD/VISION_dataset/USAI/ABnormal01...   \n",
       "2      AB02  /media/tohn/HDD/VISION_dataset/USAI/ABnormal01...   \n",
       "3      AB02  /media/tohn/HDD/VISION_dataset/USAI/ABnormal01...   \n",
       "4      AB03  /media/tohn/HDD/VISION_dataset/USAI/ABnormal01...   \n",
       "\n",
       "                                           Path Crop Views  ...  \\\n",
       "0  /media/tohn/HDD/VISION_dataset/USAI/ABnormal01...  FP-A  ...   \n",
       "1  /media/tohn/HDD/VISION_dataset/USAI/ABnormal01...  FP-A  ...   \n",
       "2  /media/tohn/HDD/VISION_dataset/USAI/ABnormal01...  FP-A  ...   \n",
       "3  /media/tohn/HDD/VISION_dataset/USAI/ABnormal01...  FP-A  ...   \n",
       "4  /media/tohn/HDD/VISION_dataset/USAI/ABnormal01...  FP-A  ...   \n",
       "\n",
       "                                       originalImage   left    top  width  \\\n",
       "0  https://irisprodseatraining.blob.core.windows....  141.0   96.0  586.0   \n",
       "1  https://irisprodseatraining.blob.core.windows....  242.0  101.0  491.0   \n",
       "2  https://irisprodseatraining.blob.core.windows....  242.0  101.0  502.0   \n",
       "3  https://irisprodseatraining.blob.core.windows....  257.0  103.0  538.0   \n",
       "4  https://irisprodseatraining.blob.core.windows....   45.0  187.0  601.0   \n",
       "\n",
       "   height     Rleft      Rtop    Rwidth   Rheight          filename  \n",
       "0   614.0  0.143898  0.107041  0.595628  0.683267  AB01 P1 C015.JPG  \n",
       "1   451.0  0.245009  0.113017  0.497278  0.501992  AB01 P2 C015.JPG  \n",
       "2   516.0  0.246118  0.113258  0.511070  0.573737  AB02 P2 C015.JPG  \n",
       "3   634.0  0.256617  0.115278  0.537205  0.705051  AB02 P1 C015.JPG  \n",
       "4   654.0  0.050314  0.196086  0.668817  0.682828  AB03 P2 C015.JPG  \n",
       "\n",
       "[5 rows x 22 columns]"
      ]
     },
     "execution_count": 5,
     "metadata": {},
     "output_type": "execute_result"
    }
   ],
   "source": [
    "import pandas as pd\n",
    "df0 = pd.read_csv (r'/home/yupaporn/codes/USAI/Validationdf_fold1_2.csv')\n",
    "print(df0 .shape)\n",
    "dataframe = df0[(df0['Path Crop']!='None' )&(df0['Path Crop']!='Nan')]\n",
    "print(dataframe.shape)\n",
    "print('Normal: ',dataframe[dataframe['Class']=='Normal'].shape)\n",
    "print('Abnormal: ',dataframe[dataframe['Class']=='Abnormal'].shape)\n",
    "dataframe.head(5)"
   ]
  },
  {
   "cell_type": "code",
   "execution_count": 6,
   "metadata": {},
   "outputs": [
    {
     "name": "stdout",
     "output_type": "stream",
     "text": [
      "Found 975 validated image filenames belonging to 15 classes.\n",
      "{0: 'AB01', 1: 'AB02', 2: 'AB03', 3: 'AB04', 4: 'AB05', 5: 'AB06', 6: 'AB07', 7: 'AB081', 8: 'AB082', 9: 'AB083', 10: 'AB09', 11: 'AB10', 12: 'AB11', 13: 'AB12', 14: 'Normal'}\n"
     ]
    }
   ],
   "source": [
    "batch_size = 64\n",
    "epochs = 10\n",
    "\n",
    "from tensorflow.keras.preprocessing.image import ImageDataGenerator\n",
    "\n",
    "train_datagen = ImageDataGenerator(\n",
    "      rescale=1./255,\n",
    "      rotation_range=30,\n",
    "      width_shift_range=0.2,\n",
    "      height_shift_range=0.2,\n",
    "      brightness_range=[0.5,1.5],\n",
    "      shear_range=0.4,\n",
    "      zoom_range=0.2,\n",
    "      horizontal_flip=False,\n",
    "      fill_mode='nearest')\n",
    "\n",
    "train_generator = train_datagen.flow_from_dataframe(\n",
    "        dataframe = dataframe,\n",
    "        directory = train_dir,\n",
    "        x_col = 'Path Crop',\n",
    "        y_col = 'Sub_class',\n",
    "        target_size = (height, width),\n",
    "        batch_size=batch_size,\n",
    "        color_mode= 'rgb',\n",
    "        class_mode='categorical')\n",
    "\n",
    "#label\n",
    "labels = (train_generator.class_indices)\n",
    "labels = dict((v,k.replace(\"C\",\"\")) for k,v in labels.items())\n",
    "print(labels)"
   ]
  },
  {
   "cell_type": "markdown",
   "metadata": {},
   "source": [
    "# Prediction"
   ]
  },
  {
   "cell_type": "code",
   "execution_count": 7,
   "metadata": {},
   "outputs": [],
   "source": [
    "from tensorflow.keras.preprocessing import image\n",
    "def predict_image(img_path):\n",
    "    # Read the image and resize it\n",
    "    img = image.load_img(img_path, target_size=(height, width))\n",
    "    # Convert it to a Numpy array with target shape.\n",
    "    x = image.img_to_array(img)\n",
    "    # Reshape\n",
    "    x = x.reshape((1,) + x.shape)\n",
    "    x /= 255.\n",
    "    result = model.predict([x])\n",
    "    \n",
    "    return result[0]\n",
    "\n",
    "#Predict\n",
    "pred_list = list()\n",
    "prob_list = list()\n",
    "img_path=dataframe['Path Crop'].tolist()\n",
    "for i in range(0,len(img_path)):\n",
    "    predict = predict_image(img_path[i])\n",
    "    result = np.argmax(predict)\n",
    "    pred_list.append(labels[result])\n",
    "    prob_list.append(predict[result])\n",
    "\n",
    "dataframe['category'] = pred_list\n",
    "dataframe['Prob'] = prob_list"
   ]
  },
  {
   "cell_type": "code",
   "execution_count": 8,
   "metadata": {},
   "outputs": [
    {
     "data": {
      "text/html": [
       "<div>\n",
       "<style scoped>\n",
       "    .dataframe tbody tr th:only-of-type {\n",
       "        vertical-align: middle;\n",
       "    }\n",
       "\n",
       "    .dataframe tbody tr th {\n",
       "        vertical-align: top;\n",
       "    }\n",
       "\n",
       "    .dataframe thead th {\n",
       "        text-align: right;\n",
       "    }\n",
       "</style>\n",
       "<table border=\"1\" class=\"dataframe\">\n",
       "  <thead>\n",
       "    <tr style=\"text-align: right;\">\n",
       "      <th></th>\n",
       "      <th>Unnamed: 0</th>\n",
       "      <th>Unnamed: 0.1</th>\n",
       "      <th>Case</th>\n",
       "      <th>Abs Position</th>\n",
       "      <th>Sub Position</th>\n",
       "      <th>Class</th>\n",
       "      <th>Sub_class</th>\n",
       "      <th>Path Full</th>\n",
       "      <th>Path Crop</th>\n",
       "      <th>Views</th>\n",
       "      <th>...</th>\n",
       "      <th>top</th>\n",
       "      <th>width</th>\n",
       "      <th>height</th>\n",
       "      <th>Rleft</th>\n",
       "      <th>Rtop</th>\n",
       "      <th>Rwidth</th>\n",
       "      <th>Rheight</th>\n",
       "      <th>filename</th>\n",
       "      <th>category</th>\n",
       "      <th>Prob</th>\n",
       "    </tr>\n",
       "  </thead>\n",
       "  <tbody>\n",
       "    <tr>\n",
       "      <th>0</th>\n",
       "      <td>0</td>\n",
       "      <td>1</td>\n",
       "      <td>15</td>\n",
       "      <td>P1</td>\n",
       "      <td>P1</td>\n",
       "      <td>Abnormal</td>\n",
       "      <td>AB01</td>\n",
       "      <td>/media/tohn/HDD/VISION_dataset/USAI/ABnormal01...</td>\n",
       "      <td>/media/tohn/HDD/VISION_dataset/USAI/ABnormal01...</td>\n",
       "      <td>FP-A</td>\n",
       "      <td>...</td>\n",
       "      <td>96.0</td>\n",
       "      <td>586.0</td>\n",
       "      <td>614.0</td>\n",
       "      <td>0.143898</td>\n",
       "      <td>0.107041</td>\n",
       "      <td>0.595628</td>\n",
       "      <td>0.683267</td>\n",
       "      <td>AB01 P1 C015.JPG</td>\n",
       "      <td>AB01</td>\n",
       "      <td>1.000000</td>\n",
       "    </tr>\n",
       "    <tr>\n",
       "      <th>1</th>\n",
       "      <td>1</td>\n",
       "      <td>2</td>\n",
       "      <td>15</td>\n",
       "      <td>P2</td>\n",
       "      <td>P2</td>\n",
       "      <td>Abnormal</td>\n",
       "      <td>AB01</td>\n",
       "      <td>/media/tohn/HDD/VISION_dataset/USAI/ABnormal01...</td>\n",
       "      <td>/media/tohn/HDD/VISION_dataset/USAI/ABnormal01...</td>\n",
       "      <td>FP-A</td>\n",
       "      <td>...</td>\n",
       "      <td>101.0</td>\n",
       "      <td>491.0</td>\n",
       "      <td>451.0</td>\n",
       "      <td>0.245009</td>\n",
       "      <td>0.113017</td>\n",
       "      <td>0.497278</td>\n",
       "      <td>0.501992</td>\n",
       "      <td>AB01 P2 C015.JPG</td>\n",
       "      <td>AB01</td>\n",
       "      <td>1.000000</td>\n",
       "    </tr>\n",
       "    <tr>\n",
       "      <th>2</th>\n",
       "      <td>2</td>\n",
       "      <td>10</td>\n",
       "      <td>15</td>\n",
       "      <td>P2</td>\n",
       "      <td>P2</td>\n",
       "      <td>Abnormal</td>\n",
       "      <td>AB02</td>\n",
       "      <td>/media/tohn/HDD/VISION_dataset/USAI/ABnormal01...</td>\n",
       "      <td>/media/tohn/HDD/VISION_dataset/USAI/ABnormal01...</td>\n",
       "      <td>FP-A</td>\n",
       "      <td>...</td>\n",
       "      <td>101.0</td>\n",
       "      <td>502.0</td>\n",
       "      <td>516.0</td>\n",
       "      <td>0.246118</td>\n",
       "      <td>0.113258</td>\n",
       "      <td>0.511070</td>\n",
       "      <td>0.573737</td>\n",
       "      <td>AB02 P2 C015.JPG</td>\n",
       "      <td>AB02</td>\n",
       "      <td>0.999968</td>\n",
       "    </tr>\n",
       "    <tr>\n",
       "      <th>3</th>\n",
       "      <td>3</td>\n",
       "      <td>11</td>\n",
       "      <td>15</td>\n",
       "      <td>P1</td>\n",
       "      <td>P1</td>\n",
       "      <td>Abnormal</td>\n",
       "      <td>AB02</td>\n",
       "      <td>/media/tohn/HDD/VISION_dataset/USAI/ABnormal01...</td>\n",
       "      <td>/media/tohn/HDD/VISION_dataset/USAI/ABnormal01...</td>\n",
       "      <td>FP-A</td>\n",
       "      <td>...</td>\n",
       "      <td>103.0</td>\n",
       "      <td>538.0</td>\n",
       "      <td>634.0</td>\n",
       "      <td>0.256617</td>\n",
       "      <td>0.115278</td>\n",
       "      <td>0.537205</td>\n",
       "      <td>0.705051</td>\n",
       "      <td>AB02 P1 C015.JPG</td>\n",
       "      <td>AB02</td>\n",
       "      <td>1.000000</td>\n",
       "    </tr>\n",
       "    <tr>\n",
       "      <th>4</th>\n",
       "      <td>4</td>\n",
       "      <td>14</td>\n",
       "      <td>15</td>\n",
       "      <td>P2</td>\n",
       "      <td>P2</td>\n",
       "      <td>Abnormal</td>\n",
       "      <td>AB03</td>\n",
       "      <td>/media/tohn/HDD/VISION_dataset/USAI/ABnormal01...</td>\n",
       "      <td>/media/tohn/HDD/VISION_dataset/USAI/ABnormal01...</td>\n",
       "      <td>FP-A</td>\n",
       "      <td>...</td>\n",
       "      <td>187.0</td>\n",
       "      <td>601.0</td>\n",
       "      <td>654.0</td>\n",
       "      <td>0.050314</td>\n",
       "      <td>0.196086</td>\n",
       "      <td>0.668817</td>\n",
       "      <td>0.682828</td>\n",
       "      <td>AB03 P2 C015.JPG</td>\n",
       "      <td>AB03</td>\n",
       "      <td>0.976710</td>\n",
       "    </tr>\n",
       "  </tbody>\n",
       "</table>\n",
       "<p>5 rows × 24 columns</p>\n",
       "</div>"
      ],
      "text/plain": [
       "   Unnamed: 0  Unnamed: 0.1  Case Abs Position Sub Position     Class  \\\n",
       "0           0             1    15           P1           P1  Abnormal   \n",
       "1           1             2    15           P2           P2  Abnormal   \n",
       "2           2            10    15           P2           P2  Abnormal   \n",
       "3           3            11    15           P1           P1  Abnormal   \n",
       "4           4            14    15           P2           P2  Abnormal   \n",
       "\n",
       "  Sub_class                                          Path Full  \\\n",
       "0      AB01  /media/tohn/HDD/VISION_dataset/USAI/ABnormal01...   \n",
       "1      AB01  /media/tohn/HDD/VISION_dataset/USAI/ABnormal01...   \n",
       "2      AB02  /media/tohn/HDD/VISION_dataset/USAI/ABnormal01...   \n",
       "3      AB02  /media/tohn/HDD/VISION_dataset/USAI/ABnormal01...   \n",
       "4      AB03  /media/tohn/HDD/VISION_dataset/USAI/ABnormal01...   \n",
       "\n",
       "                                           Path Crop Views  ...    top  width  \\\n",
       "0  /media/tohn/HDD/VISION_dataset/USAI/ABnormal01...  FP-A  ...   96.0  586.0   \n",
       "1  /media/tohn/HDD/VISION_dataset/USAI/ABnormal01...  FP-A  ...  101.0  491.0   \n",
       "2  /media/tohn/HDD/VISION_dataset/USAI/ABnormal01...  FP-A  ...  101.0  502.0   \n",
       "3  /media/tohn/HDD/VISION_dataset/USAI/ABnormal01...  FP-A  ...  103.0  538.0   \n",
       "4  /media/tohn/HDD/VISION_dataset/USAI/ABnormal01...  FP-A  ...  187.0  601.0   \n",
       "\n",
       "  height     Rleft      Rtop    Rwidth   Rheight          filename  category  \\\n",
       "0  614.0  0.143898  0.107041  0.595628  0.683267  AB01 P1 C015.JPG      AB01   \n",
       "1  451.0  0.245009  0.113017  0.497278  0.501992  AB01 P2 C015.JPG      AB01   \n",
       "2  516.0  0.246118  0.113258  0.511070  0.573737  AB02 P2 C015.JPG      AB02   \n",
       "3  634.0  0.256617  0.115278  0.537205  0.705051  AB02 P1 C015.JPG      AB02   \n",
       "4  654.0  0.050314  0.196086  0.668817  0.682828  AB03 P2 C015.JPG      AB03   \n",
       "\n",
       "       Prob  \n",
       "0  1.000000  \n",
       "1  1.000000  \n",
       "2  0.999968  \n",
       "3  1.000000  \n",
       "4  0.976710  \n",
       "\n",
       "[5 rows x 24 columns]"
      ]
     },
     "execution_count": 8,
     "metadata": {},
     "output_type": "execute_result"
    }
   ],
   "source": [
    "dataframe.head(5)"
   ]
  },
  {
   "cell_type": "markdown",
   "metadata": {},
   "source": [
    "# Visualization"
   ]
  },
  {
   "cell_type": "code",
   "execution_count": 9,
   "metadata": {},
   "outputs": [
    {
     "name": "stdout",
     "output_type": "stream",
     "text": [
      "Predicted :  15\n",
      "{'AB082', 'AB081', 'AB09', 'AB03', 'AB02', 'AB05', 'Normal', 'AB10', 'AB083', 'AB04', 'AB07', 'AB01', 'AB11', 'AB06', 'AB12'}\n",
      "Actual :  15\n",
      "{'AB082', 'AB081', 'AB09', 'AB03', 'AB02', 'AB05', 'Normal', 'AB10', 'AB083', 'AB04', 'AB07', 'AB01', 'AB11', 'AB06', 'AB12'}\n"
     ]
    }
   ],
   "source": [
    "data_train = dataframe\n",
    "#เช็คคลาสใน Predicted\n",
    "pred_class = set(data_train['category'])\n",
    "print('Predicted : ',len(pred_class))\n",
    "print(pred_class)\n",
    "#เช็คคลาสใน Actual\n",
    "classe = set(data_train['Sub_class'])\n",
    "print('Actual : ',len(classe))\n",
    "print(classe)"
   ]
  },
  {
   "cell_type": "code",
   "execution_count": 10,
   "metadata": {},
   "outputs": [
    {
     "name": "stdout",
     "output_type": "stream",
     "text": [
      "classifier accuracy = 88.41025641025641%\n",
      "              precision    recall  f1-score   support\n",
      "\n",
      "        AB01       0.57      0.64      0.61        42\n",
      "        AB02       0.70      0.51      0.59        55\n",
      "        AB03       0.45      0.90      0.60        10\n",
      "        AB04       0.74      0.63      0.68        27\n",
      "        AB05       0.80      0.53      0.64        15\n",
      "        AB06       0.77      0.83      0.80        12\n",
      "        AB07       1.00      0.22      0.36         9\n",
      "       AB081       0.83      0.31      0.45        16\n",
      "       AB082       0.89      0.80      0.84        10\n",
      "       AB083       0.75      0.75      0.75         4\n",
      "        AB09       0.92      0.85      0.88        13\n",
      "        AB10       1.00      0.40      0.57         5\n",
      "        AB11       0.46      0.40      0.43        15\n",
      "        AB12       0.92      0.89      0.90        61\n",
      "      Normal       0.94      0.99      0.96       681\n",
      "\n",
      "    accuracy                           0.88       975\n",
      "   macro avg       0.78      0.64      0.67       975\n",
      "weighted avg       0.88      0.88      0.88       975\n",
      "\n"
     ]
    }
   ],
   "source": [
    "import numpy as np\n",
    "from sklearn.metrics import confusion_matrix\n",
    "act = data_train['Sub_class'].array\n",
    "pred = data_train['category'].array\n",
    "\n",
    "cmat = confusion_matrix(act, pred)\n",
    "print('classifier accuracy = {}%'.format((100.*np.trace(cmat))/(np.sum(cmat))))\n",
    "\n",
    "#Marking the Confusion Matrix\n",
    "from sklearn.metrics import classification_report,confusion_matrix\n",
    "print(classification_report(act, pred))#performance"
   ]
  },
  {
   "cell_type": "markdown",
   "metadata": {},
   "source": [
    "### Confusion matrix"
   ]
  },
  {
   "cell_type": "code",
   "execution_count": 11,
   "metadata": {},
   "outputs": [
    {
     "data": {
      "text/plain": [
       "Text(0.5, 21.5, 'Predicted label')"
      ]
     },
     "execution_count": 11,
     "metadata": {},
     "output_type": "execute_result"
    },
    {
     "data": {
      "image/png": "[encoded data removed]",
      "text/plain": [
       "<Figure size 576x360 with 2 Axes>"
      ]
     },
     "metadata": {},
     "output_type": "display_data"
    }
   ],
   "source": [
    "#create CF \n",
    "data = {'Actual': act,'Predicted' : pred,}\n",
    "df = pd.DataFrame(data, columns=['Actual','Predicted'])\n",
    "conf_mat = pd.crosstab(df['Actual'],df['Predicted'],rownames=['Actual'],colnames=['Predicted'])\n",
    "\n",
    "#Confusion matrix\n",
    "from sklearn.metrics import confusion_matrix\n",
    "import matplotlib.pyplot as plt\n",
    "cm = confusion_matrix(act, pred)\n",
    "\n",
    "#plot Confusion matrix\n",
    "import seaborn as sns\n",
    "sns.set()\n",
    "fig, ax = plt.subplots(figsize=(8, 5))\n",
    "\n",
    "ax = sns.heatmap(conf_mat, annot=True, fmt=\"d\", cmap=\"YlGnBu\") #Blues,Oranges,Reds\n",
    "ax.set_title('Confusion matrix',fontsize=20)\n",
    "ax.set_ylabel('True label',fontsize=18)\n",
    "ax.set_xlabel('Predicted label',fontsize=18)"
   ]
  },
  {
   "cell_type": "code",
   "execution_count": 12,
   "metadata": {},
   "outputs": [
    {
     "name": "stdout",
     "output_type": "stream",
     "text": [
      "classifier accuracy = 94.66666666666667%\n",
      "              precision    recall  f1-score   support\n",
      "\n",
      "           0       0.94      0.99      0.96       681\n",
      "           1       0.97      0.85      0.91       294\n",
      "\n",
      "    accuracy                           0.95       975\n",
      "   macro avg       0.95      0.92      0.93       975\n",
      "weighted avg       0.95      0.95      0.95       975\n",
      "\n"
     ]
    }
   ],
   "source": [
    "act= data_train['Sub_class'].map({'AB12':1, 'AB04':1, 'AB05':1, 'Normal':0, 'AB02':1, 'AB11':1, 'AB082':1, 'AB06':1,'AB07':1, 'AB081':1, 'AB09':1, 'AB03':1, 'AB10':1, 'AB01':1, 'AB083':1}).values\n",
    "pred = data_train['category'].map({'AB12':1, 'AB04':1, 'AB05':1, 'Normal':0, 'AB02':1, 'AB11':1, 'AB082':1, 'AB06':1,'AB07':1, 'AB081':1, 'AB09':1, 'AB03':1, 'AB10':1, 'AB01':1, 'AB083':1}).values\n",
    "cmat = confusion_matrix(act, pred)\n",
    "print('classifier accuracy = {}%'.format((100.*np.trace(cmat))/(np.sum(cmat))))\n",
    "\n",
    "#Marking the Confusion Matrix\n",
    "from sklearn.metrics import classification_report,confusion_matrix\n",
    "print(classification_report(act, pred))#performance"
   ]
  },
  {
   "cell_type": "code",
   "execution_count": 13,
   "metadata": {},
   "outputs": [
    {
     "name": "stdout",
     "output_type": "stream",
     "text": [
      "672 9 43 251\n"
     ]
    },
    {
     "data": {
      "text/plain": [
       "Text(0.5, 21.5, 'Predicted label')"
      ]
     },
     "execution_count": 13,
     "metadata": {},
     "output_type": "execute_result"
    },
    {
     "data": {
      "image/png": "[encoded data removed]",
      "text/plain": [
       "<Figure size 576x360 with 2 Axes>"
      ]
     },
     "metadata": {},
     "output_type": "display_data"
    }
   ],
   "source": [
    "#create CF \n",
    "data = {'Actual': act,'Predicted' : pred,}\n",
    "df = pd.DataFrame(data, columns=['Actual','Predicted'])\n",
    "conf_mat = pd.crosstab(df['Actual'],df['Predicted'],rownames=['Actual'],colnames=['Predicted'])\n",
    "\n",
    "#Confusion matrix\n",
    "from sklearn.metrics import confusion_matrix\n",
    "import matplotlib.pyplot as plt\n",
    "cm = confusion_matrix(act, pred)\n",
    "TN, FP, FN, TP = confusion_matrix(act, pred).ravel()\n",
    "print(TN, FP, FN, TP)\n",
    "#plot Confusion matrix\n",
    "import seaborn as sns\n",
    "sns.set()\n",
    "fig, ax = plt.subplots(figsize=(8, 5))\n",
    "\n",
    "ax = sns.heatmap(conf_mat, annot=True, fmt=\"d\", cmap=\"YlGnBu\") #Blues,Oranges,Reds\n",
    "ax.set_title('Confusion matrix',fontsize=20)\n",
    "ax.set_ylabel('True label',fontsize=18)\n",
    "ax.set_xlabel('Predicted label',fontsize=18)"
   ]
  },
  {
   "cell_type": "code",
   "execution_count": 14,
   "metadata": {},
   "outputs": [
    {
     "name": "stdout",
     "output_type": "stream",
     "text": [
      "672 9 43 251\n"
     ]
    }
   ],
   "source": [
    "TN, FP, FN, TP = confusion_matrix(act, pred).ravel()\n",
    "print(TN, FP, FN, TP)"
   ]
  },
  {
   "cell_type": "code",
   "execution_count": null,
   "metadata": {},
   "outputs": [],
   "source": []
  }
 ],
 "metadata": {
  "kernelspec": {
   "display_name": "AI",
   "language": "python",
   "name": "ai"
  },
  "language_info": {
   "codemirror_mode": {
    "name": "ipython",
    "version": 3
   },
   "file_extension": ".py",
   "mimetype": "text/x-python",
   "name": "python",
   "nbconvert_exporter": "python",
   "pygments_lexer": "ipython3",
   "version": "3.6.9"
  }
 },
 "nbformat": 4,
 "nbformat_minor": 4
}
