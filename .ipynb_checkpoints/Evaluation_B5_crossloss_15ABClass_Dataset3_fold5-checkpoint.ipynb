{
 "cells": [
  {
   "cell_type": "code",
   "execution_count": 1,
   "metadata": {},
   "outputs": [],
   "source": [
    "import os\n",
    "import numpy as np\n",
    "import efficientnet.tfkeras\n",
    "from tensorflow.keras.models import load_model"
   ]
  },
  {
   "cell_type": "code",
   "execution_count": 2,
   "metadata": {},
   "outputs": [],
   "source": [
    "os.environ[\"CUDA_VISIBLE_DEVICES\"]=\"\""
   ]
  },
  {
   "cell_type": "markdown",
   "metadata": {},
   "source": [
    "# load model"
   ]
  },
  {
   "cell_type": "code",
   "execution_count": 3,
   "metadata": {},
   "outputs": [
    {
     "name": "stdout",
     "output_type": "stream",
     "text": [
      "WARNING:tensorflow:Error in loading the saved optimizer state. As a result, your model is starting with a freshly initialized optimizer.\n"
     ]
    }
   ],
   "source": [
    "model_dir ='/media/tohn/SSD/ModelTrainByImages/R2_4/models/B5R2b5_15AB_1FC_fold4_3.h5' #แก้\n",
    "model = load_model(model_dir)\n",
    "height = width = model.input_shape[1]"
   ]
  },
  {
   "cell_type": "code",
   "execution_count": 4,
   "metadata": {},
   "outputs": [],
   "source": [
    "# validation\n",
    "import pandas as pd\n",
    "base_dir  = '/media/tohn/SSD/Images/Image4/'#แก้\n",
    "dataframe = pd.read_csv('/home/yupaporn/codes/USAI/Validationdf_fold4_3.csv')#แก้\n",
    "validation_dir = os.path.join(base_dir, 'validation')\n",
    "\n",
    "#Train\n",
    "train_df = pd.read_csv( '/home/yupaporn/codes/USAI/Traindf_fold4_3.csv')#แก้\n",
    "base_dir0 = '/media/tohn/SSD/Images/Image4/'#แก้\n",
    "os.chdir(base_dir0)\n",
    "train_dir = os.path.join(base_dir0, 'train')"
   ]
  },
  {
   "cell_type": "markdown",
   "metadata": {},
   "source": [
    "# Select Data"
   ]
  },
  {
   "cell_type": "code",
   "execution_count": 5,
   "metadata": {},
   "outputs": [
    {
     "name": "stdout",
     "output_type": "stream",
     "text": [
      "(1056, 22)\n",
      "(1056, 22)\n",
      "Normal:  (572, 22)\n",
      "Abnormal:  (484, 22)\n"
     ]
    },
    {
     "data": {
      "text/html": [
       "<div>\n",
       "<style scoped>\n",
       "    .dataframe tbody tr th:only-of-type {\n",
       "        vertical-align: middle;\n",
       "    }\n",
       "\n",
       "    .dataframe tbody tr th {\n",
       "        vertical-align: top;\n",
       "    }\n",
       "\n",
       "    .dataframe thead th {\n",
       "        text-align: right;\n",
       "    }\n",
       "</style>\n",
       "<table border=\"1\" class=\"dataframe\">\n",
       "  <thead>\n",
       "    <tr style=\"text-align: right;\">\n",
       "      <th></th>\n",
       "      <th>Unnamed: 0</th>\n",
       "      <th>Unnamed: 0.1</th>\n",
       "      <th>Unnamed: 0.1.1</th>\n",
       "      <th>Case</th>\n",
       "      <th>Abs Position</th>\n",
       "      <th>Sub Position</th>\n",
       "      <th>Class</th>\n",
       "      <th>Sub_class</th>\n",
       "      <th>Path Full</th>\n",
       "      <th>Path Crop</th>\n",
       "      <th>...</th>\n",
       "      <th>tagName</th>\n",
       "      <th>originalImage</th>\n",
       "      <th>left</th>\n",
       "      <th>top</th>\n",
       "      <th>width</th>\n",
       "      <th>height</th>\n",
       "      <th>Rleft</th>\n",
       "      <th>Rtop</th>\n",
       "      <th>Rwidth</th>\n",
       "      <th>Rheight</th>\n",
       "    </tr>\n",
       "  </thead>\n",
       "  <tbody>\n",
       "    <tr>\n",
       "      <th>0</th>\n",
       "      <td>0</td>\n",
       "      <td>300</td>\n",
       "      <td>300</td>\n",
       "      <td>3</td>\n",
       "      <td>P1</td>\n",
       "      <td>P1</td>\n",
       "      <td>Abnormal</td>\n",
       "      <td>AB01</td>\n",
       "      <td>/media/tohn/HDD/VISION_dataset/USAI/ABnormal01...</td>\n",
       "      <td>/media/tohn/HDD/VISION_dataset/USAI/ABnormal01...</td>\n",
       "      <td>...</td>\n",
       "      <td>MildFattyLiver</td>\n",
       "      <td>https://irisprodseatraining.blob.core.windows....</td>\n",
       "      <td>220.0</td>\n",
       "      <td>117.0</td>\n",
       "      <td>706.0</td>\n",
       "      <td>475.0</td>\n",
       "      <td>0.218085</td>\n",
       "      <td>0.130945</td>\n",
       "      <td>0.698582</td>\n",
       "      <td>0.527888</td>\n",
       "    </tr>\n",
       "    <tr>\n",
       "      <th>1</th>\n",
       "      <td>1</td>\n",
       "      <td>302</td>\n",
       "      <td>302</td>\n",
       "      <td>3</td>\n",
       "      <td>P1</td>\n",
       "      <td>P1</td>\n",
       "      <td>Abnormal</td>\n",
       "      <td>AB02</td>\n",
       "      <td>/media/tohn/HDD/VISION_dataset/USAI/ABnormal01...</td>\n",
       "      <td>/media/tohn/HDD/VISION_dataset/USAI/ABnormal01...</td>\n",
       "      <td>...</td>\n",
       "      <td>ModerateFattyLiver</td>\n",
       "      <td>https://irisprodseatraining.blob.core.windows....</td>\n",
       "      <td>194.0</td>\n",
       "      <td>101.0</td>\n",
       "      <td>541.0</td>\n",
       "      <td>630.0</td>\n",
       "      <td>0.198147</td>\n",
       "      <td>0.113258</td>\n",
       "      <td>0.549816</td>\n",
       "      <td>0.701010</td>\n",
       "    </tr>\n",
       "    <tr>\n",
       "      <th>2</th>\n",
       "      <td>2</td>\n",
       "      <td>310</td>\n",
       "      <td>310</td>\n",
       "      <td>3</td>\n",
       "      <td>P1</td>\n",
       "      <td>P1</td>\n",
       "      <td>Abnormal</td>\n",
       "      <td>AB03</td>\n",
       "      <td>/media/tohn/HDD/VISION_dataset/USAI/ABnormal01...</td>\n",
       "      <td>/media/tohn/HDD/VISION_dataset/USAI/ABnormal01...</td>\n",
       "      <td>...</td>\n",
       "      <td>SevereFattyLiver</td>\n",
       "      <td>https://irisprodseatraining.blob.core.windows....</td>\n",
       "      <td>213.0</td>\n",
       "      <td>131.0</td>\n",
       "      <td>533.0</td>\n",
       "      <td>547.0</td>\n",
       "      <td>0.216199</td>\n",
       "      <td>0.145581</td>\n",
       "      <td>0.541436</td>\n",
       "      <td>0.608081</td>\n",
       "    </tr>\n",
       "    <tr>\n",
       "      <th>3</th>\n",
       "      <td>3</td>\n",
       "      <td>313</td>\n",
       "      <td>313</td>\n",
       "      <td>3</td>\n",
       "      <td>P1</td>\n",
       "      <td>P1</td>\n",
       "      <td>Abnormal</td>\n",
       "      <td>AB04</td>\n",
       "      <td>/media/tohn/HDD/VISION_dataset/USAI/ABnormal01...</td>\n",
       "      <td>/media/tohn/HDD/VISION_dataset/USAI/ABnormal01...</td>\n",
       "      <td>...</td>\n",
       "      <td>Cirrhosis</td>\n",
       "      <td>https://irisprodseatraining.blob.core.windows....</td>\n",
       "      <td>176.0</td>\n",
       "      <td>156.0</td>\n",
       "      <td>632.0</td>\n",
       "      <td>625.0</td>\n",
       "      <td>0.178381</td>\n",
       "      <td>0.173864</td>\n",
       "      <td>0.637363</td>\n",
       "      <td>0.694949</td>\n",
       "    </tr>\n",
       "    <tr>\n",
       "      <th>4</th>\n",
       "      <td>4</td>\n",
       "      <td>316</td>\n",
       "      <td>316</td>\n",
       "      <td>3</td>\n",
       "      <td>P1</td>\n",
       "      <td>P1</td>\n",
       "      <td>Abnormal</td>\n",
       "      <td>AB06</td>\n",
       "      <td>/media/tohn/HDD/VISION_dataset/USAI/ABnormal01...</td>\n",
       "      <td>/media/tohn/HDD/VISION_dataset/USAI/ABnormal01...</td>\n",
       "      <td>...</td>\n",
       "      <td>PDF2</td>\n",
       "      <td>https://irisprodseatraining.blob.core.windows....</td>\n",
       "      <td>249.0</td>\n",
       "      <td>85.0</td>\n",
       "      <td>475.0</td>\n",
       "      <td>437.0</td>\n",
       "      <td>0.249811</td>\n",
       "      <td>0.095076</td>\n",
       "      <td>0.476364</td>\n",
       "      <td>0.486869</td>\n",
       "    </tr>\n",
       "  </tbody>\n",
       "</table>\n",
       "<p>5 rows × 22 columns</p>\n",
       "</div>"
      ],
      "text/plain": [
       "   Unnamed: 0  Unnamed: 0.1  Unnamed: 0.1.1  Case Abs Position Sub Position  \\\n",
       "0           0           300             300     3           P1           P1   \n",
       "1           1           302             302     3           P1           P1   \n",
       "2           2           310             310     3           P1           P1   \n",
       "3           3           313             313     3           P1           P1   \n",
       "4           4           316             316     3           P1           P1   \n",
       "\n",
       "      Class Sub_class                                          Path Full  \\\n",
       "0  Abnormal      AB01  /media/tohn/HDD/VISION_dataset/USAI/ABnormal01...   \n",
       "1  Abnormal      AB02  /media/tohn/HDD/VISION_dataset/USAI/ABnormal01...   \n",
       "2  Abnormal      AB03  /media/tohn/HDD/VISION_dataset/USAI/ABnormal01...   \n",
       "3  Abnormal      AB04  /media/tohn/HDD/VISION_dataset/USAI/ABnormal01...   \n",
       "4  Abnormal      AB06  /media/tohn/HDD/VISION_dataset/USAI/ABnormal01...   \n",
       "\n",
       "                                           Path Crop  ...             tagName  \\\n",
       "0  /media/tohn/HDD/VISION_dataset/USAI/ABnormal01...  ...      MildFattyLiver   \n",
       "1  /media/tohn/HDD/VISION_dataset/USAI/ABnormal01...  ...  ModerateFattyLiver   \n",
       "2  /media/tohn/HDD/VISION_dataset/USAI/ABnormal01...  ...    SevereFattyLiver   \n",
       "3  /media/tohn/HDD/VISION_dataset/USAI/ABnormal01...  ...           Cirrhosis   \n",
       "4  /media/tohn/HDD/VISION_dataset/USAI/ABnormal01...  ...                PDF2   \n",
       "\n",
       "                                       originalImage   left    top  width  \\\n",
       "0  https://irisprodseatraining.blob.core.windows....  220.0  117.0  706.0   \n",
       "1  https://irisprodseatraining.blob.core.windows....  194.0  101.0  541.0   \n",
       "2  https://irisprodseatraining.blob.core.windows....  213.0  131.0  533.0   \n",
       "3  https://irisprodseatraining.blob.core.windows....  176.0  156.0  632.0   \n",
       "4  https://irisprodseatraining.blob.core.windows....  249.0   85.0  475.0   \n",
       "\n",
       "   height     Rleft      Rtop    Rwidth   Rheight  \n",
       "0   475.0  0.218085  0.130945  0.698582  0.527888  \n",
       "1   630.0  0.198147  0.113258  0.549816  0.701010  \n",
       "2   547.0  0.216199  0.145581  0.541436  0.608081  \n",
       "3   625.0  0.178381  0.173864  0.637363  0.694949  \n",
       "4   437.0  0.249811  0.095076  0.476364  0.486869  \n",
       "\n",
       "[5 rows x 22 columns]"
      ]
     },
     "execution_count": 5,
     "metadata": {},
     "output_type": "execute_result"
    }
   ],
   "source": [
    "import pandas as pd\n",
    "df0 = pd.read_csv (r'/home/yupaporn/codes/USAI/Validationdf_fold4_3.csv')\n",
    "print(df0 .shape)\n",
    "dataframe = df0[(df0['Path Crop']!='None' )&(df0['Path Crop']!='Nan')]\n",
    "print(dataframe.shape)\n",
    "print('Normal: ',dataframe[dataframe['Class']=='Normal'].shape)\n",
    "print('Abnormal: ',dataframe[dataframe['Class']=='Abnormal'].shape)\n",
    "dataframe.head(5)"
   ]
  },
  {
   "cell_type": "code",
   "execution_count": 6,
   "metadata": {},
   "outputs": [
    {
     "name": "stdout",
     "output_type": "stream",
     "text": [
      "Found 1056 validated image filenames belonging to 15 classes.\n",
      "{0: 'AB01', 1: 'AB02', 2: 'AB03', 3: 'AB04', 4: 'AB05', 5: 'AB06', 6: 'AB07', 7: 'AB081', 8: 'AB082', 9: 'AB083', 10: 'AB09', 11: 'AB10', 12: 'AB11', 13: 'AB12', 14: 'Normal'}\n"
     ]
    }
   ],
   "source": [
    "batch_size = 64\n",
    "epochs = 10\n",
    "\n",
    "from tensorflow.keras.preprocessing.image import ImageDataGenerator\n",
    "\n",
    "train_datagen = ImageDataGenerator(\n",
    "      rescale=1./255,\n",
    "      rotation_range=30,\n",
    "      width_shift_range=0.2,\n",
    "      height_shift_range=0.2,\n",
    "      brightness_range=[0.5,1.5],\n",
    "      shear_range=0.4,\n",
    "      zoom_range=0.2,\n",
    "      horizontal_flip=False,\n",
    "      fill_mode='nearest')\n",
    "\n",
    "train_generator = train_datagen.flow_from_dataframe(\n",
    "        dataframe = dataframe,\n",
    "        directory = train_dir,\n",
    "        x_col = 'Path Crop',\n",
    "        y_col = 'Sub_class',\n",
    "        target_size = (height, width),\n",
    "        batch_size=batch_size,\n",
    "        color_mode= 'rgb',\n",
    "        class_mode='categorical')\n",
    "\n",
    "#label\n",
    "labels = (train_generator.class_indices)\n",
    "labels = dict((v,k.replace(\"C\",\"\")) for k,v in labels.items())\n",
    "print(labels)"
   ]
  },
  {
   "cell_type": "markdown",
   "metadata": {},
   "source": [
    "# Prediction"
   ]
  },
  {
   "cell_type": "code",
   "execution_count": 7,
   "metadata": {},
   "outputs": [],
   "source": [
    "from tensorflow.keras.preprocessing import image\n",
    "def predict_image(img_path):\n",
    "    # Read the image and resize it\n",
    "    img = image.load_img(img_path, target_size=(height, width))\n",
    "    # Convert it to a Numpy array with target shape.\n",
    "    x = image.img_to_array(img)\n",
    "    # Reshape\n",
    "    x = x.reshape((1,) + x.shape)\n",
    "    x /= 255.\n",
    "    result = model.predict([x])\n",
    "    \n",
    "    return result[0]\n",
    "\n",
    "#Predict\n",
    "pred_list = list()\n",
    "prob_list = list()\n",
    "img_path=dataframe['Path Crop'].tolist()\n",
    "for i in range(0,len(img_path)):\n",
    "    predict = predict_image(img_path[i])\n",
    "    result = np.argmax(predict)\n",
    "    pred_list.append(labels[result])\n",
    "    prob_list.append(predict[result])\n",
    "\n",
    "dataframe['category'] = pred_list\n",
    "dataframe['Prob'] = prob_list"
   ]
  },
  {
   "cell_type": "code",
   "execution_count": 8,
   "metadata": {},
   "outputs": [
    {
     "data": {
      "text/html": [
       "<div>\n",
       "<style scoped>\n",
       "    .dataframe tbody tr th:only-of-type {\n",
       "        vertical-align: middle;\n",
       "    }\n",
       "\n",
       "    .dataframe tbody tr th {\n",
       "        vertical-align: top;\n",
       "    }\n",
       "\n",
       "    .dataframe thead th {\n",
       "        text-align: right;\n",
       "    }\n",
       "</style>\n",
       "<table border=\"1\" class=\"dataframe\">\n",
       "  <thead>\n",
       "    <tr style=\"text-align: right;\">\n",
       "      <th></th>\n",
       "      <th>Unnamed: 0</th>\n",
       "      <th>Unnamed: 0.1</th>\n",
       "      <th>Unnamed: 0.1.1</th>\n",
       "      <th>Case</th>\n",
       "      <th>Abs Position</th>\n",
       "      <th>Sub Position</th>\n",
       "      <th>Class</th>\n",
       "      <th>Sub_class</th>\n",
       "      <th>Path Full</th>\n",
       "      <th>Path Crop</th>\n",
       "      <th>...</th>\n",
       "      <th>left</th>\n",
       "      <th>top</th>\n",
       "      <th>width</th>\n",
       "      <th>height</th>\n",
       "      <th>Rleft</th>\n",
       "      <th>Rtop</th>\n",
       "      <th>Rwidth</th>\n",
       "      <th>Rheight</th>\n",
       "      <th>category</th>\n",
       "      <th>Prob</th>\n",
       "    </tr>\n",
       "  </thead>\n",
       "  <tbody>\n",
       "    <tr>\n",
       "      <th>0</th>\n",
       "      <td>0</td>\n",
       "      <td>300</td>\n",
       "      <td>300</td>\n",
       "      <td>3</td>\n",
       "      <td>P1</td>\n",
       "      <td>P1</td>\n",
       "      <td>Abnormal</td>\n",
       "      <td>AB01</td>\n",
       "      <td>/media/tohn/HDD/VISION_dataset/USAI/ABnormal01...</td>\n",
       "      <td>/media/tohn/HDD/VISION_dataset/USAI/ABnormal01...</td>\n",
       "      <td>...</td>\n",
       "      <td>220.0</td>\n",
       "      <td>117.0</td>\n",
       "      <td>706.0</td>\n",
       "      <td>475.0</td>\n",
       "      <td>0.218085</td>\n",
       "      <td>0.130945</td>\n",
       "      <td>0.698582</td>\n",
       "      <td>0.527888</td>\n",
       "      <td>AB01</td>\n",
       "      <td>0.999952</td>\n",
       "    </tr>\n",
       "    <tr>\n",
       "      <th>1</th>\n",
       "      <td>1</td>\n",
       "      <td>302</td>\n",
       "      <td>302</td>\n",
       "      <td>3</td>\n",
       "      <td>P1</td>\n",
       "      <td>P1</td>\n",
       "      <td>Abnormal</td>\n",
       "      <td>AB02</td>\n",
       "      <td>/media/tohn/HDD/VISION_dataset/USAI/ABnormal01...</td>\n",
       "      <td>/media/tohn/HDD/VISION_dataset/USAI/ABnormal01...</td>\n",
       "      <td>...</td>\n",
       "      <td>194.0</td>\n",
       "      <td>101.0</td>\n",
       "      <td>541.0</td>\n",
       "      <td>630.0</td>\n",
       "      <td>0.198147</td>\n",
       "      <td>0.113258</td>\n",
       "      <td>0.549816</td>\n",
       "      <td>0.701010</td>\n",
       "      <td>AB01</td>\n",
       "      <td>0.999963</td>\n",
       "    </tr>\n",
       "    <tr>\n",
       "      <th>2</th>\n",
       "      <td>2</td>\n",
       "      <td>310</td>\n",
       "      <td>310</td>\n",
       "      <td>3</td>\n",
       "      <td>P1</td>\n",
       "      <td>P1</td>\n",
       "      <td>Abnormal</td>\n",
       "      <td>AB03</td>\n",
       "      <td>/media/tohn/HDD/VISION_dataset/USAI/ABnormal01...</td>\n",
       "      <td>/media/tohn/HDD/VISION_dataset/USAI/ABnormal01...</td>\n",
       "      <td>...</td>\n",
       "      <td>213.0</td>\n",
       "      <td>131.0</td>\n",
       "      <td>533.0</td>\n",
       "      <td>547.0</td>\n",
       "      <td>0.216199</td>\n",
       "      <td>0.145581</td>\n",
       "      <td>0.541436</td>\n",
       "      <td>0.608081</td>\n",
       "      <td>AB03</td>\n",
       "      <td>0.999996</td>\n",
       "    </tr>\n",
       "    <tr>\n",
       "      <th>3</th>\n",
       "      <td>3</td>\n",
       "      <td>313</td>\n",
       "      <td>313</td>\n",
       "      <td>3</td>\n",
       "      <td>P1</td>\n",
       "      <td>P1</td>\n",
       "      <td>Abnormal</td>\n",
       "      <td>AB04</td>\n",
       "      <td>/media/tohn/HDD/VISION_dataset/USAI/ABnormal01...</td>\n",
       "      <td>/media/tohn/HDD/VISION_dataset/USAI/ABnormal01...</td>\n",
       "      <td>...</td>\n",
       "      <td>176.0</td>\n",
       "      <td>156.0</td>\n",
       "      <td>632.0</td>\n",
       "      <td>625.0</td>\n",
       "      <td>0.178381</td>\n",
       "      <td>0.173864</td>\n",
       "      <td>0.637363</td>\n",
       "      <td>0.694949</td>\n",
       "      <td>AB04</td>\n",
       "      <td>1.000000</td>\n",
       "    </tr>\n",
       "    <tr>\n",
       "      <th>4</th>\n",
       "      <td>4</td>\n",
       "      <td>316</td>\n",
       "      <td>316</td>\n",
       "      <td>3</td>\n",
       "      <td>P1</td>\n",
       "      <td>P1</td>\n",
       "      <td>Abnormal</td>\n",
       "      <td>AB06</td>\n",
       "      <td>/media/tohn/HDD/VISION_dataset/USAI/ABnormal01...</td>\n",
       "      <td>/media/tohn/HDD/VISION_dataset/USAI/ABnormal01...</td>\n",
       "      <td>...</td>\n",
       "      <td>249.0</td>\n",
       "      <td>85.0</td>\n",
       "      <td>475.0</td>\n",
       "      <td>437.0</td>\n",
       "      <td>0.249811</td>\n",
       "      <td>0.095076</td>\n",
       "      <td>0.476364</td>\n",
       "      <td>0.486869</td>\n",
       "      <td>AB06</td>\n",
       "      <td>0.637601</td>\n",
       "    </tr>\n",
       "  </tbody>\n",
       "</table>\n",
       "<p>5 rows × 24 columns</p>\n",
       "</div>"
      ],
      "text/plain": [
       "   Unnamed: 0  Unnamed: 0.1  Unnamed: 0.1.1  Case Abs Position Sub Position  \\\n",
       "0           0           300             300     3           P1           P1   \n",
       "1           1           302             302     3           P1           P1   \n",
       "2           2           310             310     3           P1           P1   \n",
       "3           3           313             313     3           P1           P1   \n",
       "4           4           316             316     3           P1           P1   \n",
       "\n",
       "      Class Sub_class                                          Path Full  \\\n",
       "0  Abnormal      AB01  /media/tohn/HDD/VISION_dataset/USAI/ABnormal01...   \n",
       "1  Abnormal      AB02  /media/tohn/HDD/VISION_dataset/USAI/ABnormal01...   \n",
       "2  Abnormal      AB03  /media/tohn/HDD/VISION_dataset/USAI/ABnormal01...   \n",
       "3  Abnormal      AB04  /media/tohn/HDD/VISION_dataset/USAI/ABnormal01...   \n",
       "4  Abnormal      AB06  /media/tohn/HDD/VISION_dataset/USAI/ABnormal01...   \n",
       "\n",
       "                                           Path Crop  ...   left    top  \\\n",
       "0  /media/tohn/HDD/VISION_dataset/USAI/ABnormal01...  ...  220.0  117.0   \n",
       "1  /media/tohn/HDD/VISION_dataset/USAI/ABnormal01...  ...  194.0  101.0   \n",
       "2  /media/tohn/HDD/VISION_dataset/USAI/ABnormal01...  ...  213.0  131.0   \n",
       "3  /media/tohn/HDD/VISION_dataset/USAI/ABnormal01...  ...  176.0  156.0   \n",
       "4  /media/tohn/HDD/VISION_dataset/USAI/ABnormal01...  ...  249.0   85.0   \n",
       "\n",
       "   width height     Rleft      Rtop    Rwidth   Rheight  category      Prob  \n",
       "0  706.0  475.0  0.218085  0.130945  0.698582  0.527888      AB01  0.999952  \n",
       "1  541.0  630.0  0.198147  0.113258  0.549816  0.701010      AB01  0.999963  \n",
       "2  533.0  547.0  0.216199  0.145581  0.541436  0.608081      AB03  0.999996  \n",
       "3  632.0  625.0  0.178381  0.173864  0.637363  0.694949      AB04  1.000000  \n",
       "4  475.0  437.0  0.249811  0.095076  0.476364  0.486869      AB06  0.637601  \n",
       "\n",
       "[5 rows x 24 columns]"
      ]
     },
     "execution_count": 8,
     "metadata": {},
     "output_type": "execute_result"
    }
   ],
   "source": [
    "dataframe.head(5)"
   ]
  },
  {
   "cell_type": "markdown",
   "metadata": {},
   "source": [
    "# Visualization"
   ]
  },
  {
   "cell_type": "code",
   "execution_count": 11,
   "metadata": {},
   "outputs": [
    {
     "name": "stdout",
     "output_type": "stream",
     "text": [
      "Predicted :  15\n",
      "{'AB03', 'AB083', 'AB11', 'AB05', 'AB07', 'AB12', 'AB082', 'AB04', 'AB081', 'AB10', 'AB09', 'Normal', 'AB02', 'AB06', 'AB01'}\n",
      "Actual :  15\n",
      "{'AB03', 'AB083', 'AB11', 'AB05', 'AB07', 'AB12', 'AB082', 'AB04', 'AB081', 'AB10', 'AB09', 'Normal', 'AB02', 'AB06', 'AB01'}\n"
     ]
    }
   ],
   "source": [
    "data_train = dataframe\n",
    "#เช็คคลาสใน Predicted\n",
    "pred_class = set(data_train['category'])\n",
    "print('Predicted : ',len(pred_class))\n",
    "print(pred_class)\n",
    "#เช็คคลาสใน Actual\n",
    "classe = set(data_train['Sub_class'])\n",
    "print('Actual : ',len(classe))\n",
    "print(classe)"
   ]
  },
  {
   "cell_type": "code",
   "execution_count": 12,
   "metadata": {},
   "outputs": [
    {
     "name": "stdout",
     "output_type": "stream",
     "text": [
      "classifier accuracy = 82.10227272727273%\n",
      "              precision    recall  f1-score   support\n",
      "\n",
      "        AB01       0.69      0.42      0.52        57\n",
      "        AB02       0.53      0.70      0.60        56\n",
      "        AB03       0.62      0.56      0.59        18\n",
      "        AB04       0.90      0.80      0.84        44\n",
      "        AB05       0.86      0.57      0.69        21\n",
      "        AB06       1.00      0.31      0.47        13\n",
      "        AB07       0.82      0.67      0.74        21\n",
      "       AB081       0.80      0.52      0.63        23\n",
      "       AB082       0.90      0.51      0.65        73\n",
      "       AB083       0.33      0.50      0.40         8\n",
      "        AB09       0.81      0.64      0.71        33\n",
      "        AB10       1.00      0.82      0.90        11\n",
      "        AB11       0.73      0.46      0.56        35\n",
      "        AB12       0.74      0.86      0.80        71\n",
      "      Normal       0.88      0.99      0.93       572\n",
      "\n",
      "    accuracy                           0.82      1056\n",
      "   macro avg       0.77      0.62      0.67      1056\n",
      "weighted avg       0.83      0.82      0.81      1056\n",
      "\n"
     ]
    }
   ],
   "source": [
    "import numpy as np\n",
    "from sklearn.metrics import confusion_matrix\n",
    "act = data_train['Sub_class'].array\n",
    "pred = data_train['category'].array\n",
    "\n",
    "cmat = confusion_matrix(act, pred)\n",
    "print('classifier accuracy = {}%'.format((100.*np.trace(cmat))/(np.sum(cmat))))\n",
    "\n",
    "#Marking the Confusion Matrix\n",
    "from sklearn.metrics import classification_report,confusion_matrix\n",
    "print(classification_report(act, pred))#performance"
   ]
  },
  {
   "cell_type": "markdown",
   "metadata": {},
   "source": [
    "### Confusion matrix"
   ]
  },
  {
   "cell_type": "code",
   "execution_count": 13,
   "metadata": {},
   "outputs": [
    {
     "data": {
      "text/plain": [
       "Text(0.5, 21.5, 'Predicted label')"
      ]
     },
     "execution_count": 13,
     "metadata": {},
     "output_type": "execute_result"
    },
    {
     "data": {
      "image/png": "[encoded data removed]",
      "text/plain": [
       "<Figure size 576x360 with 2 Axes>"
      ]
     },
     "metadata": {},
     "output_type": "display_data"
    }
   ],
   "source": [
    "#create CF \n",
    "data = {'Actual': act,'Predicted' : pred,}\n",
    "df = pd.DataFrame(data, columns=['Actual','Predicted'])\n",
    "conf_mat = pd.crosstab(df['Actual'],df['Predicted'],rownames=['Actual'],colnames=['Predicted'])\n",
    "\n",
    "#Confusion matrix\n",
    "from sklearn.metrics import confusion_matrix\n",
    "import matplotlib.pyplot as plt\n",
    "cm = confusion_matrix(act, pred)\n",
    "\n",
    "#plot Confusion matrix\n",
    "import seaborn as sns\n",
    "sns.set()\n",
    "fig, ax = plt.subplots(figsize=(8, 5))\n",
    "\n",
    "ax = sns.heatmap(conf_mat, annot=True, fmt=\"d\", cmap=\"YlGnBu\") #Blues,Oranges,Reds\n",
    "ax.set_title('Confusion matrix',fontsize=20)\n",
    "ax.set_ylabel('True label',fontsize=18)\n",
    "ax.set_xlabel('Predicted label',fontsize=18)"
   ]
  },
  {
   "cell_type": "code",
   "execution_count": 14,
   "metadata": {},
   "outputs": [
    {
     "name": "stdout",
     "output_type": "stream",
     "text": [
      "classifier accuracy = 92.04545454545455%\n",
      "              precision    recall  f1-score   support\n",
      "\n",
      "           0       0.88      0.99      0.93       572\n",
      "           1       0.99      0.83      0.91       484\n",
      "\n",
      "    accuracy                           0.92      1056\n",
      "   macro avg       0.93      0.91      0.92      1056\n",
      "weighted avg       0.93      0.92      0.92      1056\n",
      "\n"
     ]
    }
   ],
   "source": [
    "act= data_train['Sub_class'].map({'AB12':1, 'AB04':1, 'AB05':1, 'Normal':0, 'AB02':1, 'AB11':1, 'AB082':1, 'AB06':1,'AB07':1, 'AB081':1, 'AB09':1, 'AB03':1, 'AB10':1, 'AB01':1, 'AB083':1}).values\n",
    "pred = data_train['category'].map({'AB12':1, 'AB04':1, 'AB05':1, 'Normal':0, 'AB02':1, 'AB11':1, 'AB082':1, 'AB06':1,'AB07':1, 'AB081':1, 'AB09':1, 'AB03':1, 'AB10':1, 'AB01':1, 'AB083':1}).values\n",
    "cmat = confusion_matrix(act, pred)\n",
    "print('classifier accuracy = {}%'.format((100.*np.trace(cmat))/(np.sum(cmat))))\n",
    "\n",
    "#Marking the Confusion Matrix\n",
    "from sklearn.metrics import classification_report,confusion_matrix\n",
    "print(classification_report(act, pred))#performance"
   ]
  },
  {
   "cell_type": "code",
   "execution_count": 15,
   "metadata": {},
   "outputs": [
    {
     "name": "stdout",
     "output_type": "stream",
     "text": [
      "569 3 81 403\n"
     ]
    },
    {
     "data": {
      "text/plain": [
       "Text(0.5, 21.5, 'Predicted label')"
      ]
     },
     "execution_count": 15,
     "metadata": {},
     "output_type": "execute_result"
    },
    {
     "data": {
      "image/png": "[encoded data removed]",
      "text/plain": [
       "<Figure size 576x360 with 2 Axes>"
      ]
     },
     "metadata": {},
     "output_type": "display_data"
    }
   ],
   "source": [
    "#create CF \n",
    "data = {'Actual': act,'Predicted' : pred,}\n",
    "df = pd.DataFrame(data, columns=['Actual','Predicted'])\n",
    "conf_mat = pd.crosstab(df['Actual'],df['Predicted'],rownames=['Actual'],colnames=['Predicted'])\n",
    "\n",
    "#Confusion matrix\n",
    "from sklearn.metrics import confusion_matrix\n",
    "import matplotlib.pyplot as plt\n",
    "cm = confusion_matrix(act, pred)\n",
    "TN, FP, FN, TP = confusion_matrix(act, pred).ravel()\n",
    "print(TN, FP, FN, TP)\n",
    "#plot Confusion matrix\n",
    "import seaborn as sns\n",
    "sns.set()\n",
    "fig, ax = plt.subplots(figsize=(8, 5))\n",
    "\n",
    "ax = sns.heatmap(conf_mat, annot=True, fmt=\"d\", cmap=\"YlGnBu\") #Blues,Oranges,Reds\n",
    "ax.set_title('Confusion matrix',fontsize=20)\n",
    "ax.set_ylabel('True label',fontsize=18)\n",
    "ax.set_xlabel('Predicted label',fontsize=18)"
   ]
  },
  {
   "cell_type": "code",
   "execution_count": 16,
   "metadata": {},
   "outputs": [
    {
     "name": "stdout",
     "output_type": "stream",
     "text": [
      "569 3 81 403\n"
     ]
    }
   ],
   "source": [
    "TN, FP, FN, TP = confusion_matrix(act, pred).ravel()\n",
    "print(TN, FP, FN, TP)"
   ]
  },
  {
   "cell_type": "code",
   "execution_count": null,
   "metadata": {},
   "outputs": [],
   "source": []
  }
 ],
 "metadata": {
  "kernelspec": {
   "display_name": "AI",
   "language": "python",
   "name": "ai"
  },
  "language_info": {
   "codemirror_mode": {
    "name": "ipython",
    "version": 3
   },
   "file_extension": ".py",
   "mimetype": "text/x-python",
   "name": "python",
   "nbconvert_exporter": "python",
   "pygments_lexer": "ipython3",
   "version": "3.6.9"
  }
 },
 "nbformat": 4,
 "nbformat_minor": 4
}
