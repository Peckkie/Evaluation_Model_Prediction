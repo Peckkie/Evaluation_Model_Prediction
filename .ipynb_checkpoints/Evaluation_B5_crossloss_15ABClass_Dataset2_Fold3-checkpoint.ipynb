{
 "cells": [
  {
   "cell_type": "code",
   "execution_count": 1,
   "metadata": {},
   "outputs": [],
   "source": [
    "import os\n",
    "import numpy as np\n",
    "import efficientnet.tfkeras\n",
    "from tensorflow.keras.models import load_model"
   ]
  },
  {
   "cell_type": "code",
   "execution_count": 2,
   "metadata": {},
   "outputs": [],
   "source": [
    "os.environ[\"CUDA_VISIBLE_DEVICES\"]=\"1\""
   ]
  },
  {
   "cell_type": "markdown",
   "metadata": {},
   "source": [
    "# load model"
   ]
  },
  {
   "cell_type": "code",
   "execution_count": 3,
   "metadata": {},
   "outputs": [
    {
     "name": "stdout",
     "output_type": "stream",
     "text": [
      "WARNING:tensorflow:Error in loading the saved optimizer state. As a result, your model is starting with a freshly initialized optimizer.\n"
     ]
    }
   ],
   "source": [
    "model_dir ='/media/tohn/SSD/ModelTrainByImages/R2_3/models/B5R2b5_15AB_1FC_fold3_2.h5' #แก้\n",
    "model = load_model(model_dir)\n",
    "height = width = model.input_shape[1]"
   ]
  },
  {
   "cell_type": "code",
   "execution_count": 4,
   "metadata": {},
   "outputs": [],
   "source": [
    "# validation\n",
    "import pandas as pd\n",
    "base_dir  = '/media/tohn/SSD/Images/Image3/'#แก้\n",
    "dataframe = pd.read_csv( '/home/yupaporn/codes/USAI/Validationdf_fold3_2.csv')#แก้\n",
    "validation_dir = os.path.join(base_dir, 'validation')\n",
    "\n",
    "#Train\n",
    "train_df = pd.read_csv( '/home/yupaporn/codes/USAI/Traindf_fold3_2.csv')#แก้\n",
    "base_dir0 = '/media/tohn/SSD/Images/Image3/'#แก้\n",
    "os.chdir(base_dir0)\n",
    "train_dir = os.path.join(base_dir0, 'train')"
   ]
  },
  {
   "cell_type": "markdown",
   "metadata": {},
   "source": [
    "# Select Data"
   ]
  },
  {
   "cell_type": "code",
   "execution_count": 5,
   "metadata": {},
   "outputs": [
    {
     "name": "stdout",
     "output_type": "stream",
     "text": [
      "(1025, 21)\n",
      "(1025, 21)\n",
      "Normal:  (731, 21)\n",
      "Abnormal:  (294, 21)\n"
     ]
    },
    {
     "data": {
      "text/html": [
       "<div>\n",
       "<style scoped>\n",
       "    .dataframe tbody tr th:only-of-type {\n",
       "        vertical-align: middle;\n",
       "    }\n",
       "\n",
       "    .dataframe tbody tr th {\n",
       "        vertical-align: top;\n",
       "    }\n",
       "\n",
       "    .dataframe thead th {\n",
       "        text-align: right;\n",
       "    }\n",
       "</style>\n",
       "<table border=\"1\" class=\"dataframe\">\n",
       "  <thead>\n",
       "    <tr style=\"text-align: right;\">\n",
       "      <th></th>\n",
       "      <th>Unnamed: 0</th>\n",
       "      <th>Case</th>\n",
       "      <th>Abs Position</th>\n",
       "      <th>Sub Position</th>\n",
       "      <th>Class</th>\n",
       "      <th>Sub_class</th>\n",
       "      <th>Path Full</th>\n",
       "      <th>Path Crop</th>\n",
       "      <th>Views</th>\n",
       "      <th>fold</th>\n",
       "      <th>...</th>\n",
       "      <th>originalImage</th>\n",
       "      <th>left</th>\n",
       "      <th>top</th>\n",
       "      <th>width</th>\n",
       "      <th>height</th>\n",
       "      <th>Rleft</th>\n",
       "      <th>Rtop</th>\n",
       "      <th>Rwidth</th>\n",
       "      <th>Rheight</th>\n",
       "      <th>filename</th>\n",
       "    </tr>\n",
       "  </thead>\n",
       "  <tbody>\n",
       "    <tr>\n",
       "      <th>0</th>\n",
       "      <td>0</td>\n",
       "      <td>22</td>\n",
       "      <td>P2</td>\n",
       "      <td>P2</td>\n",
       "      <td>Abnormal</td>\n",
       "      <td>AB01</td>\n",
       "      <td>/media/tohn/HDD/VISION_dataset/USAI/ABnormal01...</td>\n",
       "      <td>/media/tohn/HDD/VISION_dataset/USAI/ABnormal01...</td>\n",
       "      <td>FP-A</td>\n",
       "      <td>5</td>\n",
       "      <td>...</td>\n",
       "      <td>https://irisprodseatraining.blob.core.windows....</td>\n",
       "      <td>224.0</td>\n",
       "      <td>146.0</td>\n",
       "      <td>593.0</td>\n",
       "      <td>514.0</td>\n",
       "      <td>0.227687</td>\n",
       "      <td>0.162817</td>\n",
       "      <td>0.602914</td>\n",
       "      <td>0.571713</td>\n",
       "      <td>AB01 P2 C022.JPG</td>\n",
       "    </tr>\n",
       "    <tr>\n",
       "      <th>1</th>\n",
       "      <td>1</td>\n",
       "      <td>22</td>\n",
       "      <td>P1</td>\n",
       "      <td>P1</td>\n",
       "      <td>Abnormal</td>\n",
       "      <td>AB01</td>\n",
       "      <td>/media/tohn/HDD/VISION_dataset/USAI/ABnormal01...</td>\n",
       "      <td>/media/tohn/HDD/VISION_dataset/USAI/ABnormal01...</td>\n",
       "      <td>FP-A</td>\n",
       "      <td>5</td>\n",
       "      <td>...</td>\n",
       "      <td>https://irisprodseatraining.blob.core.windows....</td>\n",
       "      <td>200.0</td>\n",
       "      <td>141.0</td>\n",
       "      <td>589.0</td>\n",
       "      <td>501.0</td>\n",
       "      <td>0.201802</td>\n",
       "      <td>0.156841</td>\n",
       "      <td>0.592793</td>\n",
       "      <td>0.557769</td>\n",
       "      <td>AB01 P1 C022.JPG</td>\n",
       "    </tr>\n",
       "    <tr>\n",
       "      <th>2</th>\n",
       "      <td>2</td>\n",
       "      <td>22</td>\n",
       "      <td>P2</td>\n",
       "      <td>P2</td>\n",
       "      <td>Abnormal</td>\n",
       "      <td>AB02</td>\n",
       "      <td>/media/tohn/HDD/VISION_dataset/USAI/ABnormal01...</td>\n",
       "      <td>/media/tohn/HDD/VISION_dataset/USAI/ABnormal01...</td>\n",
       "      <td>FP-A</td>\n",
       "      <td>5</td>\n",
       "      <td>...</td>\n",
       "      <td>https://irisprodseatraining.blob.core.windows....</td>\n",
       "      <td>218.0</td>\n",
       "      <td>89.0</td>\n",
       "      <td>524.0</td>\n",
       "      <td>566.0</td>\n",
       "      <td>0.230202</td>\n",
       "      <td>0.099116</td>\n",
       "      <td>0.552581</td>\n",
       "      <td>0.630303</td>\n",
       "      <td>AB02 P2 C022.JPG</td>\n",
       "    </tr>\n",
       "    <tr>\n",
       "      <th>3</th>\n",
       "      <td>3</td>\n",
       "      <td>22</td>\n",
       "      <td>P1</td>\n",
       "      <td>P1</td>\n",
       "      <td>Abnormal</td>\n",
       "      <td>AB02</td>\n",
       "      <td>/media/tohn/HDD/VISION_dataset/USAI/ABnormal01...</td>\n",
       "      <td>/media/tohn/HDD/VISION_dataset/USAI/ABnormal01...</td>\n",
       "      <td>FP-A</td>\n",
       "      <td>5</td>\n",
       "      <td>...</td>\n",
       "      <td>https://irisprodseatraining.blob.core.windows....</td>\n",
       "      <td>155.0</td>\n",
       "      <td>67.0</td>\n",
       "      <td>506.0</td>\n",
       "      <td>639.0</td>\n",
       "      <td>0.166464</td>\n",
       "      <td>0.074874</td>\n",
       "      <td>0.543860</td>\n",
       "      <td>0.711111</td>\n",
       "      <td>AB02 P1 C022.JPG</td>\n",
       "    </tr>\n",
       "    <tr>\n",
       "      <th>4</th>\n",
       "      <td>4</td>\n",
       "      <td>22</td>\n",
       "      <td>P1</td>\n",
       "      <td>P1</td>\n",
       "      <td>Abnormal</td>\n",
       "      <td>AB03</td>\n",
       "      <td>/media/tohn/HDD/VISION_dataset/USAI/ABnormal01...</td>\n",
       "      <td>/media/tohn/HDD/VISION_dataset/USAI/ABnormal01...</td>\n",
       "      <td>FP-A</td>\n",
       "      <td>5</td>\n",
       "      <td>...</td>\n",
       "      <td>https://irisprodseatraining.blob.core.windows....</td>\n",
       "      <td>287.0</td>\n",
       "      <td>132.0</td>\n",
       "      <td>432.0</td>\n",
       "      <td>694.0</td>\n",
       "      <td>0.292243</td>\n",
       "      <td>0.147601</td>\n",
       "      <td>0.439114</td>\n",
       "      <td>0.771717</td>\n",
       "      <td>AB03 P1 C022.JPG</td>\n",
       "    </tr>\n",
       "  </tbody>\n",
       "</table>\n",
       "<p>5 rows × 21 columns</p>\n",
       "</div>"
      ],
      "text/plain": [
       "   Unnamed: 0  Case Abs Position Sub Position     Class Sub_class  \\\n",
       "0           0    22           P2           P2  Abnormal      AB01   \n",
       "1           1    22           P1           P1  Abnormal      AB01   \n",
       "2           2    22           P2           P2  Abnormal      AB02   \n",
       "3           3    22           P1           P1  Abnormal      AB02   \n",
       "4           4    22           P1           P1  Abnormal      AB03   \n",
       "\n",
       "                                           Path Full  \\\n",
       "0  /media/tohn/HDD/VISION_dataset/USAI/ABnormal01...   \n",
       "1  /media/tohn/HDD/VISION_dataset/USAI/ABnormal01...   \n",
       "2  /media/tohn/HDD/VISION_dataset/USAI/ABnormal01...   \n",
       "3  /media/tohn/HDD/VISION_dataset/USAI/ABnormal01...   \n",
       "4  /media/tohn/HDD/VISION_dataset/USAI/ABnormal01...   \n",
       "\n",
       "                                           Path Crop Views  fold  ...  \\\n",
       "0  /media/tohn/HDD/VISION_dataset/USAI/ABnormal01...  FP-A     5  ...   \n",
       "1  /media/tohn/HDD/VISION_dataset/USAI/ABnormal01...  FP-A     5  ...   \n",
       "2  /media/tohn/HDD/VISION_dataset/USAI/ABnormal01...  FP-A     5  ...   \n",
       "3  /media/tohn/HDD/VISION_dataset/USAI/ABnormal01...  FP-A     5  ...   \n",
       "4  /media/tohn/HDD/VISION_dataset/USAI/ABnormal01...  FP-A     5  ...   \n",
       "\n",
       "                                       originalImage   left    top  width  \\\n",
       "0  https://irisprodseatraining.blob.core.windows....  224.0  146.0  593.0   \n",
       "1  https://irisprodseatraining.blob.core.windows....  200.0  141.0  589.0   \n",
       "2  https://irisprodseatraining.blob.core.windows....  218.0   89.0  524.0   \n",
       "3  https://irisprodseatraining.blob.core.windows....  155.0   67.0  506.0   \n",
       "4  https://irisprodseatraining.blob.core.windows....  287.0  132.0  432.0   \n",
       "\n",
       "   height     Rleft      Rtop    Rwidth   Rheight          filename  \n",
       "0   514.0  0.227687  0.162817  0.602914  0.571713  AB01 P2 C022.JPG  \n",
       "1   501.0  0.201802  0.156841  0.592793  0.557769  AB01 P1 C022.JPG  \n",
       "2   566.0  0.230202  0.099116  0.552581  0.630303  AB02 P2 C022.JPG  \n",
       "3   639.0  0.166464  0.074874  0.543860  0.711111  AB02 P1 C022.JPG  \n",
       "4   694.0  0.292243  0.147601  0.439114  0.771717  AB03 P1 C022.JPG  \n",
       "\n",
       "[5 rows x 21 columns]"
      ]
     },
     "execution_count": 5,
     "metadata": {},
     "output_type": "execute_result"
    }
   ],
   "source": [
    "import pandas as pd\n",
    "df0 = pd.read_csv (r'/home/yupaporn/codes/USAI/Validationdf_fold3_2.csv')\n",
    "print(df0 .shape)\n",
    "dataframe = df0[(df0['Path Crop']!='None' )&(df0['Path Crop']!='Nan')]\n",
    "print(dataframe.shape)\n",
    "print('Normal: ',dataframe[dataframe['Class']=='Normal'].shape)\n",
    "print('Abnormal: ',dataframe[dataframe['Class']=='Abnormal'].shape)\n",
    "dataframe.head(5)"
   ]
  },
  {
   "cell_type": "code",
   "execution_count": 6,
   "metadata": {},
   "outputs": [
    {
     "name": "stdout",
     "output_type": "stream",
     "text": [
      "Found 1025 validated image filenames belonging to 15 classes.\n",
      "{0: 'AB01', 1: 'AB02', 2: 'AB03', 3: 'AB04', 4: 'AB05', 5: 'AB06', 6: 'AB07', 7: 'AB081', 8: 'AB082', 9: 'AB083', 10: 'AB09', 11: 'AB10', 12: 'AB11', 13: 'AB12', 14: 'Normal'}\n"
     ]
    }
   ],
   "source": [
    "batch_size = 64\n",
    "epochs = 10\n",
    "\n",
    "from tensorflow.keras.preprocessing.image import ImageDataGenerator\n",
    "\n",
    "train_datagen = ImageDataGenerator(\n",
    "      rescale=1./255,\n",
    "      rotation_range=30,\n",
    "      width_shift_range=0.2,\n",
    "      height_shift_range=0.2,\n",
    "      brightness_range=[0.5,1.5],\n",
    "      shear_range=0.4,\n",
    "      zoom_range=0.2,\n",
    "      horizontal_flip=False,\n",
    "      fill_mode='nearest')\n",
    "\n",
    "train_generator = train_datagen.flow_from_dataframe(\n",
    "        dataframe = dataframe,\n",
    "        directory = train_dir,\n",
    "        x_col = 'Path Crop',\n",
    "        y_col = 'Sub_class',\n",
    "        target_size = (height, width),\n",
    "        batch_size=batch_size,\n",
    "        color_mode= 'rgb',\n",
    "        class_mode='categorical')\n",
    "\n",
    "#label\n",
    "labels = (train_generator.class_indices)\n",
    "labels = dict((v,k.replace(\"C\",\"\")) for k,v in labels.items())\n",
    "print(labels)"
   ]
  },
  {
   "cell_type": "markdown",
   "metadata": {},
   "source": [
    "# Prediction"
   ]
  },
  {
   "cell_type": "code",
   "execution_count": 7,
   "metadata": {},
   "outputs": [],
   "source": [
    "from tensorflow.keras.preprocessing import image\n",
    "def predict_image(img_path):\n",
    "    # Read the image and resize it\n",
    "    img = image.load_img(img_path, target_size=(height, width))\n",
    "    # Convert it to a Numpy array with target shape.\n",
    "    x = image.img_to_array(img)\n",
    "    # Reshape\n",
    "    x = x.reshape((1,) + x.shape)\n",
    "    x /= 255.\n",
    "    result = model.predict([x])\n",
    "    \n",
    "    return result[0]\n",
    "\n",
    "#Predict\n",
    "pred_list = list()\n",
    "prob_list = list()\n",
    "img_path=dataframe['Path Crop'].tolist()\n",
    "for i in range(0,len(img_path)):\n",
    "    predict = predict_image(img_path[i])\n",
    "    result = np.argmax(predict)\n",
    "    pred_list.append(labels[result])\n",
    "    prob_list.append(predict[result])\n",
    "\n",
    "dataframe['category'] = pred_list\n",
    "dataframe['Prob'] = prob_list"
   ]
  },
  {
   "cell_type": "code",
   "execution_count": 8,
   "metadata": {},
   "outputs": [
    {
     "data": {
      "text/html": [
       "<div>\n",
       "<style scoped>\n",
       "    .dataframe tbody tr th:only-of-type {\n",
       "        vertical-align: middle;\n",
       "    }\n",
       "\n",
       "    .dataframe tbody tr th {\n",
       "        vertical-align: top;\n",
       "    }\n",
       "\n",
       "    .dataframe thead th {\n",
       "        text-align: right;\n",
       "    }\n",
       "</style>\n",
       "<table border=\"1\" class=\"dataframe\">\n",
       "  <thead>\n",
       "    <tr style=\"text-align: right;\">\n",
       "      <th></th>\n",
       "      <th>Unnamed: 0</th>\n",
       "      <th>Case</th>\n",
       "      <th>Abs Position</th>\n",
       "      <th>Sub Position</th>\n",
       "      <th>Class</th>\n",
       "      <th>Sub_class</th>\n",
       "      <th>Path Full</th>\n",
       "      <th>Path Crop</th>\n",
       "      <th>Views</th>\n",
       "      <th>fold</th>\n",
       "      <th>...</th>\n",
       "      <th>top</th>\n",
       "      <th>width</th>\n",
       "      <th>height</th>\n",
       "      <th>Rleft</th>\n",
       "      <th>Rtop</th>\n",
       "      <th>Rwidth</th>\n",
       "      <th>Rheight</th>\n",
       "      <th>filename</th>\n",
       "      <th>category</th>\n",
       "      <th>Prob</th>\n",
       "    </tr>\n",
       "  </thead>\n",
       "  <tbody>\n",
       "    <tr>\n",
       "      <th>0</th>\n",
       "      <td>0</td>\n",
       "      <td>22</td>\n",
       "      <td>P2</td>\n",
       "      <td>P2</td>\n",
       "      <td>Abnormal</td>\n",
       "      <td>AB01</td>\n",
       "      <td>/media/tohn/HDD/VISION_dataset/USAI/ABnormal01...</td>\n",
       "      <td>/media/tohn/HDD/VISION_dataset/USAI/ABnormal01...</td>\n",
       "      <td>FP-A</td>\n",
       "      <td>5</td>\n",
       "      <td>...</td>\n",
       "      <td>146.0</td>\n",
       "      <td>593.0</td>\n",
       "      <td>514.0</td>\n",
       "      <td>0.227687</td>\n",
       "      <td>0.162817</td>\n",
       "      <td>0.602914</td>\n",
       "      <td>0.571713</td>\n",
       "      <td>AB01 P2 C022.JPG</td>\n",
       "      <td>AB02</td>\n",
       "      <td>0.999877</td>\n",
       "    </tr>\n",
       "    <tr>\n",
       "      <th>1</th>\n",
       "      <td>1</td>\n",
       "      <td>22</td>\n",
       "      <td>P1</td>\n",
       "      <td>P1</td>\n",
       "      <td>Abnormal</td>\n",
       "      <td>AB01</td>\n",
       "      <td>/media/tohn/HDD/VISION_dataset/USAI/ABnormal01...</td>\n",
       "      <td>/media/tohn/HDD/VISION_dataset/USAI/ABnormal01...</td>\n",
       "      <td>FP-A</td>\n",
       "      <td>5</td>\n",
       "      <td>...</td>\n",
       "      <td>141.0</td>\n",
       "      <td>589.0</td>\n",
       "      <td>501.0</td>\n",
       "      <td>0.201802</td>\n",
       "      <td>0.156841</td>\n",
       "      <td>0.592793</td>\n",
       "      <td>0.557769</td>\n",
       "      <td>AB01 P1 C022.JPG</td>\n",
       "      <td>AB01</td>\n",
       "      <td>0.792824</td>\n",
       "    </tr>\n",
       "    <tr>\n",
       "      <th>2</th>\n",
       "      <td>2</td>\n",
       "      <td>22</td>\n",
       "      <td>P2</td>\n",
       "      <td>P2</td>\n",
       "      <td>Abnormal</td>\n",
       "      <td>AB02</td>\n",
       "      <td>/media/tohn/HDD/VISION_dataset/USAI/ABnormal01...</td>\n",
       "      <td>/media/tohn/HDD/VISION_dataset/USAI/ABnormal01...</td>\n",
       "      <td>FP-A</td>\n",
       "      <td>5</td>\n",
       "      <td>...</td>\n",
       "      <td>89.0</td>\n",
       "      <td>524.0</td>\n",
       "      <td>566.0</td>\n",
       "      <td>0.230202</td>\n",
       "      <td>0.099116</td>\n",
       "      <td>0.552581</td>\n",
       "      <td>0.630303</td>\n",
       "      <td>AB02 P2 C022.JPG</td>\n",
       "      <td>AB02</td>\n",
       "      <td>1.000000</td>\n",
       "    </tr>\n",
       "    <tr>\n",
       "      <th>3</th>\n",
       "      <td>3</td>\n",
       "      <td>22</td>\n",
       "      <td>P1</td>\n",
       "      <td>P1</td>\n",
       "      <td>Abnormal</td>\n",
       "      <td>AB02</td>\n",
       "      <td>/media/tohn/HDD/VISION_dataset/USAI/ABnormal01...</td>\n",
       "      <td>/media/tohn/HDD/VISION_dataset/USAI/ABnormal01...</td>\n",
       "      <td>FP-A</td>\n",
       "      <td>5</td>\n",
       "      <td>...</td>\n",
       "      <td>67.0</td>\n",
       "      <td>506.0</td>\n",
       "      <td>639.0</td>\n",
       "      <td>0.166464</td>\n",
       "      <td>0.074874</td>\n",
       "      <td>0.543860</td>\n",
       "      <td>0.711111</td>\n",
       "      <td>AB02 P1 C022.JPG</td>\n",
       "      <td>AB02</td>\n",
       "      <td>0.995384</td>\n",
       "    </tr>\n",
       "    <tr>\n",
       "      <th>4</th>\n",
       "      <td>4</td>\n",
       "      <td>22</td>\n",
       "      <td>P1</td>\n",
       "      <td>P1</td>\n",
       "      <td>Abnormal</td>\n",
       "      <td>AB03</td>\n",
       "      <td>/media/tohn/HDD/VISION_dataset/USAI/ABnormal01...</td>\n",
       "      <td>/media/tohn/HDD/VISION_dataset/USAI/ABnormal01...</td>\n",
       "      <td>FP-A</td>\n",
       "      <td>5</td>\n",
       "      <td>...</td>\n",
       "      <td>132.0</td>\n",
       "      <td>432.0</td>\n",
       "      <td>694.0</td>\n",
       "      <td>0.292243</td>\n",
       "      <td>0.147601</td>\n",
       "      <td>0.439114</td>\n",
       "      <td>0.771717</td>\n",
       "      <td>AB03 P1 C022.JPG</td>\n",
       "      <td>AB03</td>\n",
       "      <td>1.000000</td>\n",
       "    </tr>\n",
       "  </tbody>\n",
       "</table>\n",
       "<p>5 rows × 23 columns</p>\n",
       "</div>"
      ],
      "text/plain": [
       "   Unnamed: 0  Case Abs Position Sub Position     Class Sub_class  \\\n",
       "0           0    22           P2           P2  Abnormal      AB01   \n",
       "1           1    22           P1           P1  Abnormal      AB01   \n",
       "2           2    22           P2           P2  Abnormal      AB02   \n",
       "3           3    22           P1           P1  Abnormal      AB02   \n",
       "4           4    22           P1           P1  Abnormal      AB03   \n",
       "\n",
       "                                           Path Full  \\\n",
       "0  /media/tohn/HDD/VISION_dataset/USAI/ABnormal01...   \n",
       "1  /media/tohn/HDD/VISION_dataset/USAI/ABnormal01...   \n",
       "2  /media/tohn/HDD/VISION_dataset/USAI/ABnormal01...   \n",
       "3  /media/tohn/HDD/VISION_dataset/USAI/ABnormal01...   \n",
       "4  /media/tohn/HDD/VISION_dataset/USAI/ABnormal01...   \n",
       "\n",
       "                                           Path Crop Views  fold  ...    top  \\\n",
       "0  /media/tohn/HDD/VISION_dataset/USAI/ABnormal01...  FP-A     5  ...  146.0   \n",
       "1  /media/tohn/HDD/VISION_dataset/USAI/ABnormal01...  FP-A     5  ...  141.0   \n",
       "2  /media/tohn/HDD/VISION_dataset/USAI/ABnormal01...  FP-A     5  ...   89.0   \n",
       "3  /media/tohn/HDD/VISION_dataset/USAI/ABnormal01...  FP-A     5  ...   67.0   \n",
       "4  /media/tohn/HDD/VISION_dataset/USAI/ABnormal01...  FP-A     5  ...  132.0   \n",
       "\n",
       "   width  height     Rleft      Rtop    Rwidth   Rheight          filename  \\\n",
       "0  593.0   514.0  0.227687  0.162817  0.602914  0.571713  AB01 P2 C022.JPG   \n",
       "1  589.0   501.0  0.201802  0.156841  0.592793  0.557769  AB01 P1 C022.JPG   \n",
       "2  524.0   566.0  0.230202  0.099116  0.552581  0.630303  AB02 P2 C022.JPG   \n",
       "3  506.0   639.0  0.166464  0.074874  0.543860  0.711111  AB02 P1 C022.JPG   \n",
       "4  432.0   694.0  0.292243  0.147601  0.439114  0.771717  AB03 P1 C022.JPG   \n",
       "\n",
       "   category      Prob  \n",
       "0      AB02  0.999877  \n",
       "1      AB01  0.792824  \n",
       "2      AB02  1.000000  \n",
       "3      AB02  0.995384  \n",
       "4      AB03  1.000000  \n",
       "\n",
       "[5 rows x 23 columns]"
      ]
     },
     "execution_count": 8,
     "metadata": {},
     "output_type": "execute_result"
    }
   ],
   "source": [
    "dataframe.head(5)"
   ]
  },
  {
   "cell_type": "markdown",
   "metadata": {},
   "source": [
    "# Visualization"
   ]
  },
  {
   "cell_type": "code",
   "execution_count": 9,
   "metadata": {},
   "outputs": [
    {
     "name": "stdout",
     "output_type": "stream",
     "text": [
      "Predicted :  15\n",
      "{'AB081', 'Normal', 'AB11', 'AB07', 'AB01', 'AB083', 'AB05', 'AB06', 'AB082', 'AB04', 'AB09', 'AB03', 'AB12', 'AB10', 'AB02'}\n",
      "Actual :  15\n",
      "{'AB081', 'Normal', 'AB11', 'AB07', 'AB01', 'AB083', 'AB05', 'AB06', 'AB082', 'AB04', 'AB09', 'AB03', 'AB12', 'AB10', 'AB02'}\n"
     ]
    }
   ],
   "source": [
    "data_train = dataframe\n",
    "#เช็คคลาสใน Predicted\n",
    "pred_class = set(data_train['category'])\n",
    "print('Predicted : ',len(pred_class))\n",
    "print(pred_class)\n",
    "#เช็คคลาสใน Actual\n",
    "classe = set(data_train['Sub_class'])\n",
    "print('Actual : ',len(classe))\n",
    "print(classe)"
   ]
  },
  {
   "cell_type": "code",
   "execution_count": 10,
   "metadata": {},
   "outputs": [
    {
     "name": "stdout",
     "output_type": "stream",
     "text": [
      "classifier accuracy = 88.1951219512195%\n",
      "              precision    recall  f1-score   support\n",
      "\n",
      "        AB01       0.71      0.41      0.52        41\n",
      "        AB02       0.67      0.69      0.68        45\n",
      "        AB03       0.56      0.90      0.69        10\n",
      "        AB04       0.89      0.61      0.72        28\n",
      "        AB05       0.55      0.30      0.39        20\n",
      "        AB06       0.86      0.60      0.71        10\n",
      "        AB07       0.40      0.40      0.40        10\n",
      "       AB081       1.00      0.39      0.56        18\n",
      "       AB082       0.77      0.56      0.65        18\n",
      "       AB083       0.67      0.57      0.62         7\n",
      "        AB09       0.91      0.71      0.80        14\n",
      "        AB10       1.00      0.17      0.29         6\n",
      "        AB11       1.00      0.31      0.47        13\n",
      "        AB12       0.76      0.96      0.85        54\n",
      "      Normal       0.93      0.99      0.96       731\n",
      "\n",
      "    accuracy                           0.88      1025\n",
      "   macro avg       0.78      0.57      0.62      1025\n",
      "weighted avg       0.88      0.88      0.87      1025\n",
      "\n"
     ]
    }
   ],
   "source": [
    "import numpy as np\n",
    "from sklearn.metrics import confusion_matrix\n",
    "act = data_train['Sub_class'].array\n",
    "pred = data_train['category'].array\n",
    "\n",
    "cmat = confusion_matrix(act, pred)\n",
    "print('classifier accuracy = {}%'.format((100.*np.trace(cmat))/(np.sum(cmat))))\n",
    "\n",
    "#Marking the Confusion Matrix\n",
    "from sklearn.metrics import classification_report,confusion_matrix\n",
    "print(classification_report(act, pred))#performance"
   ]
  },
  {
   "cell_type": "markdown",
   "metadata": {},
   "source": [
    "### Confusion matrix"
   ]
  },
  {
   "cell_type": "code",
   "execution_count": 11,
   "metadata": {},
   "outputs": [
    {
     "data": {
      "text/plain": [
       "Text(0.5, 21.5, 'Predicted label')"
      ]
     },
     "execution_count": 11,
     "metadata": {},
     "output_type": "execute_result"
    },
    {
     "data": {
      "image/png": "[encoded data removed]",
      "text/plain": [
       "<Figure size 576x360 with 2 Axes>"
      ]
     },
     "metadata": {},
     "output_type": "display_data"
    }
   ],
   "source": [
    "#create CF \n",
    "data = {'Actual': act,'Predicted' : pred,}\n",
    "df = pd.DataFrame(data, columns=['Actual','Predicted'])\n",
    "conf_mat = pd.crosstab(df['Actual'],df['Predicted'],rownames=['Actual'],colnames=['Predicted'])\n",
    "\n",
    "#Confusion matrix\n",
    "from sklearn.metrics import confusion_matrix\n",
    "import matplotlib.pyplot as plt\n",
    "cm = confusion_matrix(act, pred)\n",
    "\n",
    "#plot Confusion matrix\n",
    "import seaborn as sns\n",
    "sns.set()\n",
    "fig, ax = plt.subplots(figsize=(8, 5))\n",
    "\n",
    "ax = sns.heatmap(conf_mat, annot=True, fmt=\"d\", cmap=\"YlGnBu\") #Blues,Oranges,Reds\n",
    "ax.set_title('Confusion matrix',fontsize=20)\n",
    "ax.set_ylabel('True label',fontsize=18)\n",
    "ax.set_xlabel('Predicted label',fontsize=18)"
   ]
  },
  {
   "cell_type": "code",
   "execution_count": 12,
   "metadata": {},
   "outputs": [
    {
     "name": "stdout",
     "output_type": "stream",
     "text": [
      "classifier accuracy = 94.04878048780488%\n",
      "              precision    recall  f1-score   support\n",
      "\n",
      "           0       0.93      0.99      0.96       731\n",
      "           1       0.98      0.81      0.89       294\n",
      "\n",
      "    accuracy                           0.94      1025\n",
      "   macro avg       0.95      0.90      0.92      1025\n",
      "weighted avg       0.94      0.94      0.94      1025\n",
      "\n"
     ]
    }
   ],
   "source": [
    "act= data_train['Sub_class'].map({'AB12':1, 'AB04':1, 'AB05':1, 'Normal':0, 'AB02':1, 'AB11':1, 'AB082':1, 'AB06':1,'AB07':1, 'AB081':1, 'AB09':1, 'AB03':1, 'AB10':1, 'AB01':1, 'AB083':1}).values\n",
    "pred = data_train['category'].map({'AB12':1, 'AB04':1, 'AB05':1, 'Normal':0, 'AB02':1, 'AB11':1, 'AB082':1, 'AB06':1,'AB07':1, 'AB081':1, 'AB09':1, 'AB03':1, 'AB10':1, 'AB01':1, 'AB083':1}).values\n",
    "cmat = confusion_matrix(act, pred)\n",
    "print('classifier accuracy = {}%'.format((100.*np.trace(cmat))/(np.sum(cmat))))\n",
    "\n",
    "#Marking the Confusion Matrix\n",
    "from sklearn.metrics import classification_report,confusion_matrix\n",
    "print(classification_report(act, pred))#performance"
   ]
  },
  {
   "cell_type": "code",
   "execution_count": 13,
   "metadata": {},
   "outputs": [
    {
     "name": "stdout",
     "output_type": "stream",
     "text": [
      "726 5 56 238\n"
     ]
    },
    {
     "data": {
      "text/plain": [
       "Text(0.5, 21.5, 'Predicted label')"
      ]
     },
     "execution_count": 13,
     "metadata": {},
     "output_type": "execute_result"
    },
    {
     "data": {
      "image/png": "[encoded data removed]",
      "text/plain": [
       "<Figure size 576x360 with 2 Axes>"
      ]
     },
     "metadata": {},
     "output_type": "display_data"
    }
   ],
   "source": [
    "#create CF \n",
    "data = {'Actual': act,'Predicted' : pred,}\n",
    "df = pd.DataFrame(data, columns=['Actual','Predicted'])\n",
    "conf_mat = pd.crosstab(df['Actual'],df['Predicted'],rownames=['Actual'],colnames=['Predicted'])\n",
    "\n",
    "#Confusion matrix\n",
    "from sklearn.metrics import confusion_matrix\n",
    "import matplotlib.pyplot as plt\n",
    "cm = confusion_matrix(act, pred)\n",
    "TN, FP, FN, TP = confusion_matrix(act, pred).ravel()\n",
    "print(TN, FP, FN, TP)\n",
    "#plot Confusion matrix\n",
    "import seaborn as sns\n",
    "sns.set()\n",
    "fig, ax = plt.subplots(figsize=(8, 5))\n",
    "\n",
    "ax = sns.heatmap(conf_mat, annot=True, fmt=\"d\", cmap=\"YlGnBu\") #Blues,Oranges,Reds\n",
    "ax.set_title('Confusion matrix',fontsize=20)\n",
    "ax.set_ylabel('True label',fontsize=18)\n",
    "ax.set_xlabel('Predicted label',fontsize=18)"
   ]
  },
  {
   "cell_type": "code",
   "execution_count": 14,
   "metadata": {},
   "outputs": [
    {
     "name": "stdout",
     "output_type": "stream",
     "text": [
      "726 5 56 238\n"
     ]
    }
   ],
   "source": [
    "TN, FP, FN, TP = confusion_matrix(act, pred).ravel()\n",
    "print(TN, FP, FN, TP)"
   ]
  },
  {
   "cell_type": "code",
   "execution_count": null,
   "metadata": {},
   "outputs": [],
   "source": []
  }
 ],
 "metadata": {
  "kernelspec": {
   "display_name": "AI",
   "language": "python",
   "name": "ai"
  },
  "language_info": {
   "codemirror_mode": {
    "name": "ipython",
    "version": 3
   },
   "file_extension": ".py",
   "mimetype": "text/x-python",
   "name": "python",
   "nbconvert_exporter": "python",
   "pygments_lexer": "ipython3",
   "version": "3.6.9"
  }
 },
 "nbformat": 4,
 "nbformat_minor": 4
}
