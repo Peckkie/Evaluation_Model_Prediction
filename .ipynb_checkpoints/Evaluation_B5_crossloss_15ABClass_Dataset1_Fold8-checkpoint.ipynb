{
 "cells": [
  {
   "cell_type": "code",
   "execution_count": 1,
   "metadata": {},
   "outputs": [],
   "source": [
    "import os\n",
    "import numpy as np\n",
    "import efficientnet.tfkeras\n",
    "from tensorflow.keras.models import load_model"
   ]
  },
  {
   "cell_type": "code",
   "execution_count": 2,
   "metadata": {},
   "outputs": [],
   "source": [
    "os.environ[\"CUDA_VISIBLE_DEVICES\"]=\"\""
   ]
  },
  {
   "cell_type": "markdown",
   "metadata": {},
   "source": [
    "# load model"
   ]
  },
  {
   "cell_type": "code",
   "execution_count": 15,
   "metadata": {},
   "outputs": [
    {
     "name": "stdout",
     "output_type": "stream",
     "text": [
      "WARNING:tensorflow:Error in loading the saved optimizer state. As a result, your model is starting with a freshly initialized optimizer.\n"
     ]
    }
   ],
   "source": [
    "model_dir ='/media/tohn/SSD/ModelTrainByImages/R2_8/models/B5R2b5_15AB_1FC_fold8_1.h5' #แก้\n",
    "model = load_model(model_dir)\n",
    "height = width = model.input_shape[1]"
   ]
  },
  {
   "cell_type": "code",
   "execution_count": 16,
   "metadata": {},
   "outputs": [],
   "source": [
    "# validation\n",
    "import pandas as pd\n",
    "base_dir  = '/media/tohn/SSD/Images/Image8/'#แก้\n",
    "dataframe = pd.read_csv( '/home/yupaporn/codes/USAI/Validationdf_fold8.csv')#แก้\n",
    "validation_dir = os.path.join(base_dir, 'validation')\n",
    "\n",
    "#Train\n",
    "train_df = pd.read_csv( '/home/yupaporn/codes/USAI/Traindf_fold8.csv')#แก้\n",
    "base_dir0 = '/media/tohn/SSD/Images/Image8/'#แก้\n",
    "os.chdir(base_dir0)\n",
    "train_dir = os.path.join(base_dir0, 'train')"
   ]
  },
  {
   "cell_type": "markdown",
   "metadata": {},
   "source": [
    "# Select Data"
   ]
  },
  {
   "cell_type": "code",
   "execution_count": 17,
   "metadata": {},
   "outputs": [
    {
     "name": "stdout",
     "output_type": "stream",
     "text": [
      "(656, 26)\n",
      "(656, 26)\n",
      "Normal:  (428, 26)\n",
      "Abnormal:  (228, 26)\n"
     ]
    },
    {
     "data": {
      "text/html": [
       "<div>\n",
       "<style scoped>\n",
       "    .dataframe tbody tr th:only-of-type {\n",
       "        vertical-align: middle;\n",
       "    }\n",
       "\n",
       "    .dataframe tbody tr th {\n",
       "        vertical-align: top;\n",
       "    }\n",
       "\n",
       "    .dataframe thead th {\n",
       "        text-align: right;\n",
       "    }\n",
       "</style>\n",
       "<table border=\"1\" class=\"dataframe\">\n",
       "  <thead>\n",
       "    <tr style=\"text-align: right;\">\n",
       "      <th></th>\n",
       "      <th>Unnamed: 0</th>\n",
       "      <th>Unnamed: 0.1</th>\n",
       "      <th>Unnamed: 0.1.1</th>\n",
       "      <th>Unnamed: 0.1.1.1</th>\n",
       "      <th>Unnamed: 0.1.1.1.1</th>\n",
       "      <th>Case</th>\n",
       "      <th>Abs Position</th>\n",
       "      <th>Sub Position</th>\n",
       "      <th>Class</th>\n",
       "      <th>Sub_class</th>\n",
       "      <th>...</th>\n",
       "      <th>left</th>\n",
       "      <th>top</th>\n",
       "      <th>width</th>\n",
       "      <th>height</th>\n",
       "      <th>Rleft</th>\n",
       "      <th>Rtop</th>\n",
       "      <th>Rwidth</th>\n",
       "      <th>Rheight</th>\n",
       "      <th>FileName</th>\n",
       "      <th>filename</th>\n",
       "    </tr>\n",
       "  </thead>\n",
       "  <tbody>\n",
       "    <tr>\n",
       "      <th>0</th>\n",
       "      <td>0</td>\n",
       "      <td>0</td>\n",
       "      <td>0</td>\n",
       "      <td>215</td>\n",
       "      <td>215</td>\n",
       "      <td>20</td>\n",
       "      <td>P3</td>\n",
       "      <td>P31</td>\n",
       "      <td>Abnormal</td>\n",
       "      <td>AB01</td>\n",
       "      <td>...</td>\n",
       "      <td>152.0</td>\n",
       "      <td>96.0</td>\n",
       "      <td>617.0</td>\n",
       "      <td>548.0</td>\n",
       "      <td>0.153985</td>\n",
       "      <td>0.107041</td>\n",
       "      <td>0.623188</td>\n",
       "      <td>0.609562</td>\n",
       "      <td>AB01 P3-1 C020.JPG</td>\n",
       "      <td>AB01 P3-1 C020.JPG</td>\n",
       "    </tr>\n",
       "    <tr>\n",
       "      <th>1</th>\n",
       "      <td>1</td>\n",
       "      <td>1</td>\n",
       "      <td>1</td>\n",
       "      <td>216</td>\n",
       "      <td>216</td>\n",
       "      <td>20</td>\n",
       "      <td>P2</td>\n",
       "      <td>P2</td>\n",
       "      <td>Abnormal</td>\n",
       "      <td>AB01</td>\n",
       "      <td>...</td>\n",
       "      <td>233.0</td>\n",
       "      <td>119.0</td>\n",
       "      <td>568.0</td>\n",
       "      <td>512.0</td>\n",
       "      <td>0.234657</td>\n",
       "      <td>0.132937</td>\n",
       "      <td>0.572202</td>\n",
       "      <td>0.569721</td>\n",
       "      <td>AB01 P2 C020.JPG</td>\n",
       "      <td>AB01 P2 C020.JPG</td>\n",
       "    </tr>\n",
       "    <tr>\n",
       "      <th>2</th>\n",
       "      <td>2</td>\n",
       "      <td>2</td>\n",
       "      <td>2</td>\n",
       "      <td>217</td>\n",
       "      <td>217</td>\n",
       "      <td>20</td>\n",
       "      <td>P5</td>\n",
       "      <td>P51</td>\n",
       "      <td>Abnormal</td>\n",
       "      <td>AB01</td>\n",
       "      <td>...</td>\n",
       "      <td>213.0</td>\n",
       "      <td>135.0</td>\n",
       "      <td>568.0</td>\n",
       "      <td>640.0</td>\n",
       "      <td>0.215190</td>\n",
       "      <td>0.150865</td>\n",
       "      <td>0.573237</td>\n",
       "      <td>0.711155</td>\n",
       "      <td>AB01 P5-1 C020.JPG</td>\n",
       "      <td>AB01 P5-1 C020.JPG</td>\n",
       "    </tr>\n",
       "    <tr>\n",
       "      <th>3</th>\n",
       "      <td>3</td>\n",
       "      <td>3</td>\n",
       "      <td>3</td>\n",
       "      <td>218</td>\n",
       "      <td>218</td>\n",
       "      <td>20</td>\n",
       "      <td>P1</td>\n",
       "      <td>P1</td>\n",
       "      <td>Abnormal</td>\n",
       "      <td>AB01</td>\n",
       "      <td>...</td>\n",
       "      <td>186.0</td>\n",
       "      <td>65.0</td>\n",
       "      <td>593.0</td>\n",
       "      <td>541.0</td>\n",
       "      <td>0.185053</td>\n",
       "      <td>0.073176</td>\n",
       "      <td>0.588968</td>\n",
       "      <td>0.601594</td>\n",
       "      <td>AB01 P1 C020.JPG</td>\n",
       "      <td>AB01 P1 C020.JPG</td>\n",
       "    </tr>\n",
       "    <tr>\n",
       "      <th>4</th>\n",
       "      <td>4</td>\n",
       "      <td>4</td>\n",
       "      <td>4</td>\n",
       "      <td>219</td>\n",
       "      <td>219</td>\n",
       "      <td>20</td>\n",
       "      <td>P5</td>\n",
       "      <td>P52</td>\n",
       "      <td>Abnormal</td>\n",
       "      <td>AB01</td>\n",
       "      <td>...</td>\n",
       "      <td>80.0</td>\n",
       "      <td>132.0</td>\n",
       "      <td>590.0</td>\n",
       "      <td>491.0</td>\n",
       "      <td>0.081967</td>\n",
       "      <td>0.146881</td>\n",
       "      <td>0.599271</td>\n",
       "      <td>0.545817</td>\n",
       "      <td>AB01 P5-2 C020.JPG</td>\n",
       "      <td>AB01 P5-2 C020.JPG</td>\n",
       "    </tr>\n",
       "  </tbody>\n",
       "</table>\n",
       "<p>5 rows × 26 columns</p>\n",
       "</div>"
      ],
      "text/plain": [
       "   Unnamed: 0  Unnamed: 0.1  Unnamed: 0.1.1  Unnamed: 0.1.1.1  \\\n",
       "0           0             0               0               215   \n",
       "1           1             1               1               216   \n",
       "2           2             2               2               217   \n",
       "3           3             3               3               218   \n",
       "4           4             4               4               219   \n",
       "\n",
       "   Unnamed: 0.1.1.1.1  Case Abs Position Sub Position     Class Sub_class  \\\n",
       "0                 215    20           P3          P31  Abnormal      AB01   \n",
       "1                 216    20           P2           P2  Abnormal      AB01   \n",
       "2                 217    20           P5          P51  Abnormal      AB01   \n",
       "3                 218    20           P1           P1  Abnormal      AB01   \n",
       "4                 219    20           P5          P52  Abnormal      AB01   \n",
       "\n",
       "   ...   left    top  width  height     Rleft      Rtop    Rwidth   Rheight  \\\n",
       "0  ...  152.0   96.0  617.0   548.0  0.153985  0.107041  0.623188  0.609562   \n",
       "1  ...  233.0  119.0  568.0   512.0  0.234657  0.132937  0.572202  0.569721   \n",
       "2  ...  213.0  135.0  568.0   640.0  0.215190  0.150865  0.573237  0.711155   \n",
       "3  ...  186.0   65.0  593.0   541.0  0.185053  0.073176  0.588968  0.601594   \n",
       "4  ...   80.0  132.0  590.0   491.0  0.081967  0.146881  0.599271  0.545817   \n",
       "\n",
       "             FileName            filename  \n",
       "0  AB01 P3-1 C020.JPG  AB01 P3-1 C020.JPG  \n",
       "1    AB01 P2 C020.JPG    AB01 P2 C020.JPG  \n",
       "2  AB01 P5-1 C020.JPG  AB01 P5-1 C020.JPG  \n",
       "3    AB01 P1 C020.JPG    AB01 P1 C020.JPG  \n",
       "4  AB01 P5-2 C020.JPG  AB01 P5-2 C020.JPG  \n",
       "\n",
       "[5 rows x 26 columns]"
      ]
     },
     "execution_count": 17,
     "metadata": {},
     "output_type": "execute_result"
    }
   ],
   "source": [
    "import pandas as pd\n",
    "df0 = pd.read_csv (r'/home/yupaporn/codes/USAI/Validationdf_fold8.csv')\n",
    "print(df0 .shape)\n",
    "dataframe = df0[(df0['Path Crop']!='None' )&(df0['Path Crop']!='Nan')]\n",
    "print(dataframe.shape)\n",
    "print('Normal: ',dataframe[dataframe['Class']=='Normal'].shape)\n",
    "print('Abnormal: ',dataframe[dataframe['Class']=='Abnormal'].shape)\n",
    "dataframe.head(5)"
   ]
  },
  {
   "cell_type": "code",
   "execution_count": 18,
   "metadata": {},
   "outputs": [
    {
     "name": "stdout",
     "output_type": "stream",
     "text": [
      "Found 656 validated image filenames belonging to 15 classes.\n",
      "{0: 'AB01', 1: 'AB02', 2: 'AB03', 3: 'AB04', 4: 'AB05', 5: 'AB06', 6: 'AB07', 7: 'AB081', 8: 'AB082', 9: 'AB083', 10: 'AB09', 11: 'AB10', 12: 'AB11', 13: 'AB12', 14: 'Normal'}\n"
     ]
    }
   ],
   "source": [
    "batch_size = 64\n",
    "epochs = 10\n",
    "\n",
    "from tensorflow.keras.preprocessing.image import ImageDataGenerator\n",
    "\n",
    "train_datagen = ImageDataGenerator(\n",
    "      rescale=1./255,\n",
    "      rotation_range=30,\n",
    "      width_shift_range=0.2,\n",
    "      height_shift_range=0.2,\n",
    "      brightness_range=[0.5,1.5],\n",
    "      shear_range=0.4,\n",
    "      zoom_range=0.2,\n",
    "      horizontal_flip=False,\n",
    "      fill_mode='nearest')\n",
    "\n",
    "train_generator = train_datagen.flow_from_dataframe(\n",
    "        dataframe = dataframe,\n",
    "        directory = train_dir,\n",
    "        x_col = 'Path Crop',\n",
    "        y_col = 'Sub_class',\n",
    "        target_size = (height, width),\n",
    "        batch_size=batch_size,\n",
    "        color_mode= 'rgb',\n",
    "        class_mode='categorical')\n",
    "\n",
    "#label\n",
    "labels = (train_generator.class_indices)\n",
    "labels = dict((v,k.replace(\"C\",\"\")) for k,v in labels.items())\n",
    "print(labels)"
   ]
  },
  {
   "cell_type": "markdown",
   "metadata": {},
   "source": [
    "# Prediction"
   ]
  },
  {
   "cell_type": "code",
   "execution_count": 19,
   "metadata": {},
   "outputs": [],
   "source": [
    "from tensorflow.keras.preprocessing import image\n",
    "def predict_image(img_path):\n",
    "    # Read the image and resize it\n",
    "    img = image.load_img(img_path, target_size=(height, width))\n",
    "    # Convert it to a Numpy array with target shape.\n",
    "    x = image.img_to_array(img)\n",
    "    # Reshape\n",
    "    x = x.reshape((1,) + x.shape)\n",
    "    x /= 255.\n",
    "    result = model.predict([x])\n",
    "    \n",
    "    return result[0]\n",
    "\n",
    "#Predict\n",
    "pred_list = list()\n",
    "prob_list = list()\n",
    "img_path=dataframe['Path Crop'].tolist()\n",
    "for i in range(0,len(img_path)):\n",
    "    predict = predict_image(img_path[i])\n",
    "    result = np.argmax(predict)\n",
    "    pred_list.append(labels[result])\n",
    "    prob_list.append(predict[result])\n",
    "\n",
    "dataframe['category'] = pred_list\n",
    "dataframe['Prob'] = prob_list"
   ]
  },
  {
   "cell_type": "code",
   "execution_count": 20,
   "metadata": {},
   "outputs": [
    {
     "data": {
      "text/html": [
       "<div>\n",
       "<style scoped>\n",
       "    .dataframe tbody tr th:only-of-type {\n",
       "        vertical-align: middle;\n",
       "    }\n",
       "\n",
       "    .dataframe tbody tr th {\n",
       "        vertical-align: top;\n",
       "    }\n",
       "\n",
       "    .dataframe thead th {\n",
       "        text-align: right;\n",
       "    }\n",
       "</style>\n",
       "<table border=\"1\" class=\"dataframe\">\n",
       "  <thead>\n",
       "    <tr style=\"text-align: right;\">\n",
       "      <th></th>\n",
       "      <th>Unnamed: 0</th>\n",
       "      <th>Unnamed: 0.1</th>\n",
       "      <th>Unnamed: 0.1.1</th>\n",
       "      <th>Unnamed: 0.1.1.1</th>\n",
       "      <th>Unnamed: 0.1.1.1.1</th>\n",
       "      <th>Case</th>\n",
       "      <th>Abs Position</th>\n",
       "      <th>Sub Position</th>\n",
       "      <th>Class</th>\n",
       "      <th>Sub_class</th>\n",
       "      <th>...</th>\n",
       "      <th>width</th>\n",
       "      <th>height</th>\n",
       "      <th>Rleft</th>\n",
       "      <th>Rtop</th>\n",
       "      <th>Rwidth</th>\n",
       "      <th>Rheight</th>\n",
       "      <th>FileName</th>\n",
       "      <th>filename</th>\n",
       "      <th>category</th>\n",
       "      <th>Prob</th>\n",
       "    </tr>\n",
       "  </thead>\n",
       "  <tbody>\n",
       "    <tr>\n",
       "      <th>0</th>\n",
       "      <td>0</td>\n",
       "      <td>0</td>\n",
       "      <td>0</td>\n",
       "      <td>215</td>\n",
       "      <td>215</td>\n",
       "      <td>20</td>\n",
       "      <td>P3</td>\n",
       "      <td>P31</td>\n",
       "      <td>Abnormal</td>\n",
       "      <td>AB01</td>\n",
       "      <td>...</td>\n",
       "      <td>617.0</td>\n",
       "      <td>548.0</td>\n",
       "      <td>0.153985</td>\n",
       "      <td>0.107041</td>\n",
       "      <td>0.623188</td>\n",
       "      <td>0.609562</td>\n",
       "      <td>AB01 P3-1 C020.JPG</td>\n",
       "      <td>AB01 P3-1 C020.JPG</td>\n",
       "      <td>AB01</td>\n",
       "      <td>1.000000</td>\n",
       "    </tr>\n",
       "    <tr>\n",
       "      <th>1</th>\n",
       "      <td>1</td>\n",
       "      <td>1</td>\n",
       "      <td>1</td>\n",
       "      <td>216</td>\n",
       "      <td>216</td>\n",
       "      <td>20</td>\n",
       "      <td>P2</td>\n",
       "      <td>P2</td>\n",
       "      <td>Abnormal</td>\n",
       "      <td>AB01</td>\n",
       "      <td>...</td>\n",
       "      <td>568.0</td>\n",
       "      <td>512.0</td>\n",
       "      <td>0.234657</td>\n",
       "      <td>0.132937</td>\n",
       "      <td>0.572202</td>\n",
       "      <td>0.569721</td>\n",
       "      <td>AB01 P2 C020.JPG</td>\n",
       "      <td>AB01 P2 C020.JPG</td>\n",
       "      <td>AB02</td>\n",
       "      <td>0.548231</td>\n",
       "    </tr>\n",
       "    <tr>\n",
       "      <th>2</th>\n",
       "      <td>2</td>\n",
       "      <td>2</td>\n",
       "      <td>2</td>\n",
       "      <td>217</td>\n",
       "      <td>217</td>\n",
       "      <td>20</td>\n",
       "      <td>P5</td>\n",
       "      <td>P51</td>\n",
       "      <td>Abnormal</td>\n",
       "      <td>AB01</td>\n",
       "      <td>...</td>\n",
       "      <td>568.0</td>\n",
       "      <td>640.0</td>\n",
       "      <td>0.215190</td>\n",
       "      <td>0.150865</td>\n",
       "      <td>0.573237</td>\n",
       "      <td>0.711155</td>\n",
       "      <td>AB01 P5-1 C020.JPG</td>\n",
       "      <td>AB01 P5-1 C020.JPG</td>\n",
       "      <td>AB02</td>\n",
       "      <td>0.993938</td>\n",
       "    </tr>\n",
       "    <tr>\n",
       "      <th>3</th>\n",
       "      <td>3</td>\n",
       "      <td>3</td>\n",
       "      <td>3</td>\n",
       "      <td>218</td>\n",
       "      <td>218</td>\n",
       "      <td>20</td>\n",
       "      <td>P1</td>\n",
       "      <td>P1</td>\n",
       "      <td>Abnormal</td>\n",
       "      <td>AB01</td>\n",
       "      <td>...</td>\n",
       "      <td>593.0</td>\n",
       "      <td>541.0</td>\n",
       "      <td>0.185053</td>\n",
       "      <td>0.073176</td>\n",
       "      <td>0.588968</td>\n",
       "      <td>0.601594</td>\n",
       "      <td>AB01 P1 C020.JPG</td>\n",
       "      <td>AB01 P1 C020.JPG</td>\n",
       "      <td>AB01</td>\n",
       "      <td>0.978573</td>\n",
       "    </tr>\n",
       "    <tr>\n",
       "      <th>4</th>\n",
       "      <td>4</td>\n",
       "      <td>4</td>\n",
       "      <td>4</td>\n",
       "      <td>219</td>\n",
       "      <td>219</td>\n",
       "      <td>20</td>\n",
       "      <td>P5</td>\n",
       "      <td>P52</td>\n",
       "      <td>Abnormal</td>\n",
       "      <td>AB01</td>\n",
       "      <td>...</td>\n",
       "      <td>590.0</td>\n",
       "      <td>491.0</td>\n",
       "      <td>0.081967</td>\n",
       "      <td>0.146881</td>\n",
       "      <td>0.599271</td>\n",
       "      <td>0.545817</td>\n",
       "      <td>AB01 P5-2 C020.JPG</td>\n",
       "      <td>AB01 P5-2 C020.JPG</td>\n",
       "      <td>AB01</td>\n",
       "      <td>0.999960</td>\n",
       "    </tr>\n",
       "  </tbody>\n",
       "</table>\n",
       "<p>5 rows × 28 columns</p>\n",
       "</div>"
      ],
      "text/plain": [
       "   Unnamed: 0  Unnamed: 0.1  Unnamed: 0.1.1  Unnamed: 0.1.1.1  \\\n",
       "0           0             0               0               215   \n",
       "1           1             1               1               216   \n",
       "2           2             2               2               217   \n",
       "3           3             3               3               218   \n",
       "4           4             4               4               219   \n",
       "\n",
       "   Unnamed: 0.1.1.1.1  Case Abs Position Sub Position     Class Sub_class  \\\n",
       "0                 215    20           P3          P31  Abnormal      AB01   \n",
       "1                 216    20           P2           P2  Abnormal      AB01   \n",
       "2                 217    20           P5          P51  Abnormal      AB01   \n",
       "3                 218    20           P1           P1  Abnormal      AB01   \n",
       "4                 219    20           P5          P52  Abnormal      AB01   \n",
       "\n",
       "   ...  width height     Rleft      Rtop    Rwidth   Rheight  \\\n",
       "0  ...  617.0  548.0  0.153985  0.107041  0.623188  0.609562   \n",
       "1  ...  568.0  512.0  0.234657  0.132937  0.572202  0.569721   \n",
       "2  ...  568.0  640.0  0.215190  0.150865  0.573237  0.711155   \n",
       "3  ...  593.0  541.0  0.185053  0.073176  0.588968  0.601594   \n",
       "4  ...  590.0  491.0  0.081967  0.146881  0.599271  0.545817   \n",
       "\n",
       "             FileName            filename  category      Prob  \n",
       "0  AB01 P3-1 C020.JPG  AB01 P3-1 C020.JPG      AB01  1.000000  \n",
       "1    AB01 P2 C020.JPG    AB01 P2 C020.JPG      AB02  0.548231  \n",
       "2  AB01 P5-1 C020.JPG  AB01 P5-1 C020.JPG      AB02  0.993938  \n",
       "3    AB01 P1 C020.JPG    AB01 P1 C020.JPG      AB01  0.978573  \n",
       "4  AB01 P5-2 C020.JPG  AB01 P5-2 C020.JPG      AB01  0.999960  \n",
       "\n",
       "[5 rows x 28 columns]"
      ]
     },
     "execution_count": 20,
     "metadata": {},
     "output_type": "execute_result"
    }
   ],
   "source": [
    "dataframe.head(5)"
   ]
  },
  {
   "cell_type": "markdown",
   "metadata": {},
   "source": [
    "# Visualization"
   ]
  },
  {
   "cell_type": "code",
   "execution_count": 21,
   "metadata": {},
   "outputs": [
    {
     "name": "stdout",
     "output_type": "stream",
     "text": [
      "Predicted :  15\n",
      "{'Normal', 'AB09', 'AB03', 'AB10', 'AB04', 'AB081', 'AB07', 'AB05', 'AB02', 'AB083', 'AB082', 'AB12', 'AB06', 'AB11', 'AB01'}\n",
      "Actual :  15\n",
      "{'Normal', 'AB09', 'AB03', 'AB10', 'AB04', 'AB07', 'AB081', 'AB05', 'AB02', 'AB083', 'AB082', 'AB12', 'AB06', 'AB11', 'AB01'}\n"
     ]
    }
   ],
   "source": [
    "data_train = dataframe\n",
    "#เช็คคลาสใน Predicted\n",
    "pred_class = set(data_train['category'])\n",
    "print('Predicted : ',len(pred_class))\n",
    "print(pred_class)\n",
    "#เช็คคลาสใน Actual\n",
    "classe = set(data_train['Sub_class'])\n",
    "print('Actual : ',len(classe))\n",
    "print(classe)"
   ]
  },
  {
   "cell_type": "code",
   "execution_count": 22,
   "metadata": {},
   "outputs": [
    {
     "name": "stdout",
     "output_type": "stream",
     "text": [
      "classifier accuracy = 88.71951219512195%\n",
      "              precision    recall  f1-score   support\n",
      "\n",
      "        AB01       0.76      0.72      0.74        36\n",
      "        AB02       0.67      0.69      0.68        29\n",
      "        AB03       0.73      0.62      0.67        13\n",
      "        AB04       0.84      0.70      0.76        23\n",
      "        AB05       0.64      0.70      0.67        10\n",
      "        AB06       0.50      0.33      0.40         9\n",
      "        AB07       0.56      0.50      0.53        10\n",
      "       AB081       0.77      0.67      0.71        15\n",
      "       AB082       0.67      0.53      0.59        15\n",
      "       AB083       0.60      0.50      0.55         6\n",
      "        AB09       1.00      1.00      1.00        12\n",
      "        AB10       1.00      0.83      0.91         6\n",
      "        AB11       1.00      0.50      0.67        12\n",
      "        AB12       0.83      0.94      0.88        32\n",
      "      Normal       0.95      0.99      0.97       428\n",
      "\n",
      "    accuracy                           0.89       656\n",
      "   macro avg       0.77      0.68      0.71       656\n",
      "weighted avg       0.88      0.89      0.88       656\n",
      "\n"
     ]
    }
   ],
   "source": [
    "import numpy as np\n",
    "from sklearn.metrics import confusion_matrix\n",
    "act = data_train['Sub_class'].array\n",
    "pred = data_train['category'].array\n",
    "\n",
    "cmat = confusion_matrix(act, pred)\n",
    "print('classifier accuracy = {}%'.format((100.*np.trace(cmat))/(np.sum(cmat))))\n",
    "\n",
    "#Marking the Confusion Matrix\n",
    "from sklearn.metrics import classification_report,confusion_matrix\n",
    "print(classification_report(act, pred))#performance"
   ]
  },
  {
   "cell_type": "markdown",
   "metadata": {},
   "source": [
    "### Confusion matrix"
   ]
  },
  {
   "cell_type": "code",
   "execution_count": 23,
   "metadata": {},
   "outputs": [
    {
     "data": {
      "text/plain": [
       "Text(0.5, 21.5, 'Predicted label')"
      ]
     },
     "execution_count": 23,
     "metadata": {},
     "output_type": "execute_result"
    },
    {
     "data": {
      "image/png": "[encoded data removed]",
      "text/plain": [
       "<Figure size 576x360 with 2 Axes>"
      ]
     },
     "metadata": {},
     "output_type": "display_data"
    }
   ],
   "source": [
    "#create CF \n",
    "data = {'Actual': act,'Predicted' : pred,}\n",
    "df = pd.DataFrame(data, columns=['Actual','Predicted'])\n",
    "conf_mat = pd.crosstab(df['Actual'],df['Predicted'],rownames=['Actual'],colnames=['Predicted'])\n",
    "\n",
    "#Confusion matrix\n",
    "from sklearn.metrics import confusion_matrix\n",
    "import matplotlib.pyplot as plt\n",
    "cm = confusion_matrix(act, pred)\n",
    "\n",
    "#plot Confusion matrix\n",
    "import seaborn as sns\n",
    "sns.set()\n",
    "fig, ax = plt.subplots(figsize=(8, 5))\n",
    "\n",
    "ax = sns.heatmap(conf_mat, annot=True, fmt=\"d\", cmap=\"YlGnBu\") #Blues,Oranges,Reds\n",
    "ax.set_title('Confusion matrix',fontsize=20)\n",
    "ax.set_ylabel('True label',fontsize=18)\n",
    "ax.set_xlabel('Predicted label',fontsize=18)"
   ]
  },
  {
   "cell_type": "code",
   "execution_count": 24,
   "metadata": {},
   "outputs": [
    {
     "name": "stdout",
     "output_type": "stream",
     "text": [
      "classifier accuracy = 95.57926829268293%\n",
      "              precision    recall  f1-score   support\n",
      "\n",
      "           0       0.95      0.99      0.97       428\n",
      "           1       0.98      0.89      0.93       228\n",
      "\n",
      "    accuracy                           0.96       656\n",
      "   macro avg       0.96      0.94      0.95       656\n",
      "weighted avg       0.96      0.96      0.96       656\n",
      "\n"
     ]
    }
   ],
   "source": [
    "act= data_train['Sub_class'].map({'AB12':1, 'AB04':1, 'AB05':1, 'Normal':0, 'AB02':1, 'AB11':1, 'AB082':1, 'AB06':1,'AB07':1, 'AB081':1, 'AB09':1, 'AB03':1, 'AB10':1, 'AB01':1, 'AB083':1}).values\n",
    "pred = data_train['category'].map({'AB12':1, 'AB04':1, 'AB05':1, 'Normal':0, 'AB02':1, 'AB11':1, 'AB082':1, 'AB06':1,'AB07':1, 'AB081':1, 'AB09':1, 'AB03':1, 'AB10':1, 'AB01':1, 'AB083':1}).values\n",
    "cmat = confusion_matrix(act, pred)\n",
    "print('classifier accuracy = {}%'.format((100.*np.trace(cmat))/(np.sum(cmat))))\n",
    "\n",
    "#Marking the Confusion Matrix\n",
    "from sklearn.metrics import classification_report,confusion_matrix\n",
    "print(classification_report(act, pred))#performance"
   ]
  },
  {
   "cell_type": "code",
   "execution_count": 25,
   "metadata": {},
   "outputs": [
    {
     "name": "stdout",
     "output_type": "stream",
     "text": [
      "423 5 24 204\n"
     ]
    },
    {
     "data": {
      "text/plain": [
       "Text(0.5, 21.5, 'Predicted label')"
      ]
     },
     "execution_count": 25,
     "metadata": {},
     "output_type": "execute_result"
    },
    {
     "data": {
      "image/png": "[encoded data removed]",
      "text/plain": [
       "<Figure size 576x360 with 2 Axes>"
      ]
     },
     "metadata": {},
     "output_type": "display_data"
    }
   ],
   "source": [
    "#create CF \n",
    "data = {'Actual': act,'Predicted' : pred,}\n",
    "df = pd.DataFrame(data, columns=['Actual','Predicted'])\n",
    "conf_mat = pd.crosstab(df['Actual'],df['Predicted'],rownames=['Actual'],colnames=['Predicted'])\n",
    "\n",
    "#Confusion matrix\n",
    "from sklearn.metrics import confusion_matrix\n",
    "import matplotlib.pyplot as plt\n",
    "cm = confusion_matrix(act, pred)\n",
    "TN, FP, FN, TP = confusion_matrix(act, pred).ravel()\n",
    "print(TN, FP, FN, TP)\n",
    "#plot Confusion matrix\n",
    "import seaborn as sns\n",
    "sns.set()\n",
    "fig, ax = plt.subplots(figsize=(8, 5))\n",
    "\n",
    "ax = sns.heatmap(conf_mat, annot=True, fmt=\"d\", cmap=\"YlGnBu\") #Blues,Oranges,Reds\n",
    "ax.set_title('Confusion matrix',fontsize=20)\n",
    "ax.set_ylabel('True label',fontsize=18)\n",
    "ax.set_xlabel('Predicted label',fontsize=18)"
   ]
  },
  {
   "cell_type": "code",
   "execution_count": 26,
   "metadata": {},
   "outputs": [
    {
     "name": "stdout",
     "output_type": "stream",
     "text": [
      "423 5 24 204\n"
     ]
    }
   ],
   "source": [
    "TN, FP, FN, TP = confusion_matrix(act, pred).ravel()\n",
    "print(TN, FP, FN, TP)"
   ]
  },
  {
   "cell_type": "code",
   "execution_count": null,
   "metadata": {},
   "outputs": [],
   "source": []
  },
  {
   "cell_type": "code",
   "execution_count": null,
   "metadata": {},
   "outputs": [],
   "source": []
  }
 ],
 "metadata": {
  "kernelspec": {
   "display_name": "AI",
   "language": "python",
   "name": "ai"
  },
  "language_info": {
   "codemirror_mode": {
    "name": "ipython",
    "version": 3
   },
   "file_extension": ".py",
   "mimetype": "text/x-python",
   "name": "python",
   "nbconvert_exporter": "python",
   "pygments_lexer": "ipython3",
   "version": "3.6.9"
  }
 },
 "nbformat": 4,
 "nbformat_minor": 4
}
